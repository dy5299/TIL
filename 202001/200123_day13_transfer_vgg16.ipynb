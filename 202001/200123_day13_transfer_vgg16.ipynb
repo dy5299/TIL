{
 "cells": [
  {
   "cell_type": "code",
   "execution_count": 9,
   "metadata": {
    "ExecuteTime": {
     "end_time": "2020-01-23T03:51:50.505676Z",
     "start_time": "2020-01-23T03:51:45.253668Z"
    }
   },
   "outputs": [],
   "source": [
    "import numpy as np\n",
    "import matplotlib.pyplot as plt\n",
    "%matplotlib inline\n",
    "import keras\n",
    "from keras.preprocessing.image import ImageDataGenerator, load_img"
   ]
  },
  {
   "cell_type": "code",
   "execution_count": 2,
   "metadata": {
    "ExecuteTime": {
     "end_time": "2020-01-23T03:51:50.521673Z",
     "start_time": "2020-01-23T03:51:50.518672Z"
    }
   },
   "outputs": [],
   "source": [
    "train_dir = './clean-dataset/train'\n",
    "validation_dir = './clean-dataset/validation'\n",
    "image_size = 224"
   ]
  },
  {
   "cell_type": "markdown",
   "metadata": {},
   "source": [
    "# 전이학습\n",
    "## Experiment 1: Freezing all layers - Same as Transfer Learning\n",
    "모든 특징 추출을(학습을) 프리징  \n",
    "뒤의 dense 2개만 trainable (cuz we let the set false)\n",
    "\n",
    "### Create the model  "
   ]
  },
  {
   "cell_type": "code",
   "execution_count": 12,
   "metadata": {
    "ExecuteTime": {
     "end_time": "2020-01-23T03:56:11.401345Z",
     "start_time": "2020-01-23T03:51:51.325234Z"
    }
   },
   "outputs": [
    {
     "name": "stdout",
     "output_type": "stream",
     "text": [
      "<keras.engine.input_layer.InputLayer object at 0x000001ED80333E88> False\n",
      "<keras.layers.convolutional.Conv2D object at 0x000001ED8033A9C8> False\n",
      "<keras.layers.convolutional.Conv2D object at 0x000001ED8033A248> False\n",
      "<keras.layers.pooling.MaxPooling2D object at 0x000001EDB61957C8> False\n",
      "<keras.layers.convolutional.Conv2D object at 0x000001ED80348DC8> False\n",
      "<keras.layers.convolutional.Conv2D object at 0x000001ED80380448> False\n",
      "<keras.layers.pooling.MaxPooling2D object at 0x000001ED80396E48> False\n",
      "<keras.layers.convolutional.Conv2D object at 0x000001ED8039FE08> False\n",
      "<keras.layers.convolutional.Conv2D object at 0x000001ED803D1488> False\n",
      "<keras.layers.convolutional.Conv2D object at 0x000001ED803E4848> False\n",
      "<keras.layers.pooling.MaxPooling2D object at 0x000001ED80409BC8> False\n",
      "<keras.layers.convolutional.Conv2D object at 0x000001ED8041D208> False\n",
      "<keras.layers.convolutional.Conv2D object at 0x000001ED80440848> False\n",
      "<keras.layers.convolutional.Conv2D object at 0x000001ED80458C08> False\n",
      "<keras.layers.pooling.MaxPooling2D object at 0x000001ED8047CFC8> False\n",
      "<keras.layers.convolutional.Conv2D object at 0x000001ED804915C8> False\n",
      "<keras.layers.convolutional.Conv2D object at 0x000001ED804B5C08> False\n",
      "<keras.layers.convolutional.Conv2D object at 0x000001ED804D4348> False\n",
      "<keras.layers.pooling.MaxPooling2D object at 0x000001ED804FA388> False\n",
      "_________________________________________________________________\n",
      "Layer (type)                 Output Shape              Param #   \n",
      "=================================================================\n",
      "vgg16 (Model)                (None, 7, 7, 512)         14714688  \n",
      "_________________________________________________________________\n",
      "flatten_3 (Flatten)          (None, 25088)             0         \n",
      "_________________________________________________________________\n",
      "dense_5 (Dense)              (None, 64)                1605696   \n",
      "_________________________________________________________________\n",
      "dropout_3 (Dropout)          (None, 64)                0         \n",
      "_________________________________________________________________\n",
      "dense_6 (Dense)              (None, 3)                 195       \n",
      "=================================================================\n",
      "Total params: 16,320,579\n",
      "Trainable params: 1,605,891\n",
      "Non-trainable params: 14,714,688\n",
      "_________________________________________________________________\n"
     ]
    }
   ],
   "source": [
    "from keras.applications import VGG16\n",
    "\n",
    "#Load the VGG model\n",
    "vgg_conv = VGG16(weights='imagenet', include_top=False, input_shape=(image_size, image_size, 3))\n",
    "\n",
    "# Freeze all the layers\n",
    "for layer in vgg_conv.layers[:]:\n",
    "    layer.trainable = False\n",
    "\n",
    "# Check the trainable status of the individual layers\n",
    "for layer in vgg_conv.layers:\n",
    "    print(layer, layer.trainable)\n",
    "\n",
    "\n",
    "from keras import models\n",
    "from keras import layers\n",
    "from keras import optimizers\n",
    "\n",
    "# Create the model\n",
    "model = models.Sequential()\n",
    "\n",
    "# Add the vgg convolutional base model\n",
    "model.add(vgg_conv)  #sequential이니까 불러온 모델 뒤에 레이어 붙어\n",
    "\n",
    "# Add new layers\n",
    "model.add(layers.Flatten())\n",
    "#model.add(layers.Dense(1024, activation='relu'))\n",
    "model.add(layers.Dense(64, activation='relu'))\n",
    "model.add(layers.Dropout(0.5))\n",
    "model.add(layers.Dense(3, activation='softmax'))\n",
    "\n",
    "# Show a summary of the model. Check the number of trainable parameters\n",
    "model.summary()"
   ]
  },
  {
   "cell_type": "markdown",
   "metadata": {},
   "source": [
    "### Train the model"
   ]
  },
  {
   "cell_type": "code",
   "execution_count": 16,
   "metadata": {
    "ExecuteTime": {
     "end_time": "2020-01-23T03:56:30.217687Z",
     "start_time": "2020-01-23T03:56:29.966864Z"
    }
   },
   "outputs": [
    {
     "name": "stdout",
     "output_type": "stream",
     "text": [
      "Found 600 images belonging to 3 classes.\n",
      "Found 150 images belonging to 3 classes.\n"
     ]
    }
   ],
   "source": [
    "# No Data augmentation \n",
    "train_datagen = ImageDataGenerator(rescale=1./255)\n",
    "validation_datagen = ImageDataGenerator(rescale=1./255)\n",
    "\n",
    "# Change the batchsize according to your system RAM\n",
    "train_batchsize = 50 #100은 무리라서\n",
    "val_batchsize = 10 #는 큰 의미 없지만\n",
    "\n",
    "# Data Generator for Training data\n",
    "train_generator = train_datagen.flow_from_directory(\n",
    "        train_dir,\n",
    "        target_size=(image_size, image_size),\n",
    "        batch_size=train_batchsize,\n",
    "        class_mode='categorical')\n",
    "\n",
    "# Data Generator for Validation data\n",
    "validation_generator = validation_datagen.flow_from_directory(\n",
    "        validation_dir,\n",
    "        target_size=(image_size, image_size),\n",
    "        batch_size=val_batchsize,\n",
    "        class_mode='categorical',\n",
    "        shuffle=False)\n",
    "\n",
    "# Compile the model\n",
    "model.compile(loss='categorical_crossentropy',\n",
    "              optimizer=\"adam\",\n",
    "              metrics=['accuracy'])"
   ]
  },
  {
   "cell_type": "code",
   "execution_count": 17,
   "metadata": {
    "ExecuteTime": {
     "end_time": "2020-01-23T04:01:39.380933Z",
     "start_time": "2020-01-23T03:56:43.066626Z"
    }
   },
   "outputs": [
    {
     "name": "stdout",
     "output_type": "stream",
     "text": [
      "Epoch 1/5\n",
      "12/12 [==============================] - 53s 4s/step - loss: 0.2562 - acc: 0.8850 - val_loss: 0.3843 - val_acc: 0.8800\n",
      "Epoch 2/5\n",
      "12/12 [==============================] - 55s 5s/step - loss: 0.2499 - acc: 0.8783 - val_loss: 0.3336 - val_acc: 0.8933\n",
      "Epoch 3/5\n",
      "12/12 [==============================] - 55s 5s/step - loss: 0.2093 - acc: 0.9033 - val_loss: 0.3634 - val_acc: 0.8733\n",
      "Epoch 4/5\n",
      "12/12 [==============================] - 55s 5s/step - loss: 0.1773 - acc: 0.9083 - val_loss: 0.3222 - val_acc: 0.8800\n",
      "Epoch 5/5\n",
      "12/12 [==============================] - 55s 5s/step - loss: 0.1763 - acc: 0.9300 - val_loss: 0.3890 - val_acc: 0.9000\n"
     ]
    }
   ],
   "source": [
    "# Train the Model\n",
    "history = model.fit_generator(\n",
    "      train_generator,\n",
    "      steps_per_epoch=train_generator.samples/train_generator.batch_size ,\n",
    "      epochs=50,\n",
    "      validation_data=validation_generator,\n",
    "      validation_steps=validation_generator.samples/validation_generator.batch_size,\n",
    "      verbose=1)"
   ]
  },
  {
   "cell_type": "code",
   "execution_count": 20,
   "metadata": {
    "ExecuteTime": {
     "end_time": "2020-01-23T04:01:40.530434Z",
     "start_time": "2020-01-23T04:01:39.389933Z"
    }
   },
   "outputs": [
    {
     "data": {
      "image/png": "[encoded data removed]",
      "text/plain": [
       "<Figure size 432x288 with 1 Axes>"
      ]
     },
     "metadata": {
      "needs_background": "light"
     },
     "output_type": "display_data"
    },
    {
     "data": {
      "image/png": "[encoded data removed]",
      "text/plain": [
       "<Figure size 432x288 with 1 Axes>"
      ]
     },
     "metadata": {
      "needs_background": "light"
     },
     "output_type": "display_data"
    }
   ],
   "source": [
    "# Save the Model\n",
    "model.save('all_freezed_dense1024to64.h5')\n",
    "\n",
    "# Plot the accuracy and loss curves\n",
    "acc = history.history['acc']\n",
    "val_acc = history.history['val_acc']\n",
    "loss = history.history['loss']\n",
    "val_loss = history.history['val_loss']\n",
    "\n",
    "epochs = range(len(acc))\n",
    "\n",
    "plt.plot(epochs, acc, 'b', label='Training acc')\n",
    "plt.plot(epochs, val_acc, 'r', label='Validation acc')\n",
    "plt.title('Training and validation accuracy')\n",
    "plt.legend()\n",
    "\n",
    "plt.figure()\n",
    "\n",
    "plt.plot(epochs, loss, 'b', label='Training loss')\n",
    "plt.plot(epochs, val_loss, 'r', label='Validation loss')\n",
    "plt.title('Training and validation loss')\n",
    "plt.legend()\n",
    "\n",
    "plt.show()"
   ]
  },
  {
   "cell_type": "markdown",
   "metadata": {},
   "source": [
    "## 하위 몇 레벨만 프리징"
   ]
  },
  {
   "cell_type": "code",
   "execution_count": 26,
   "metadata": {},
   "outputs": [
    {
     "name": "stdout",
     "output_type": "stream",
     "text": [
      "<keras.engine.input_layer.InputLayer object at 0x000001ED8150F588> False\n",
      "<keras.layers.convolutional.Conv2D object at 0x000001ED8150F3C8> False\n",
      "<keras.layers.convolutional.Conv2D object at 0x000001ED814669C8> False\n",
      "<keras.layers.pooling.MaxPooling2D object at 0x000001ED81520188> False\n",
      "<keras.layers.convolutional.Conv2D object at 0x000001ED80A58048> False\n",
      "<keras.layers.convolutional.Conv2D object at 0x000001ED815691C8> False\n",
      "<keras.layers.pooling.MaxPooling2D object at 0x000001ED815776C8> False\n",
      "<keras.layers.convolutional.Conv2D object at 0x000001ED8157FBC8> False\n",
      "<keras.layers.convolutional.Conv2D object at 0x000001ED815A1EC8> False\n",
      "<keras.layers.convolutional.Conv2D object at 0x000001ED815C3808> False\n",
      "<keras.layers.pooling.MaxPooling2D object at 0x000001ED815E77C8> False\n",
      "<keras.layers.convolutional.Conv2D object at 0x000001ED815FF408> False\n",
      "<keras.layers.convolutional.Conv2D object at 0x000001ED81613D08> False\n",
      "<keras.layers.convolutional.Conv2D object at 0x000001EDB9497108> False\n",
      "<keras.layers.pooling.MaxPooling2D object at 0x000001ED80A41C48> False\n",
      "<keras.layers.convolutional.Conv2D object at 0x000001ED80A5FE88> True\n",
      "<keras.layers.convolutional.Conv2D object at 0x000001ED80A45788> True\n",
      "<keras.layers.convolutional.Conv2D object at 0x000001ED80A11F48> True\n",
      "<keras.layers.pooling.MaxPooling2D object at 0x000001EDB5E05F48> True\n",
      "_________________________________________________________________\n",
      "Layer (type)                 Output Shape              Param #   \n",
      "=================================================================\n",
      "vgg16 (Model)                (None, 7, 7, 512)         14714688  \n",
      "_________________________________________________________________\n",
      "flatten_4 (Flatten)          (None, 25088)             0         \n",
      "_________________________________________________________________\n",
      "dense_7 (Dense)              (None, 64)                1605696   \n",
      "_________________________________________________________________\n",
      "dropout_4 (Dropout)          (None, 64)                0         \n",
      "_________________________________________________________________\n",
      "dense_8 (Dense)              (None, 3)                 195       \n",
      "=================================================================\n",
      "Total params: 16,320,579\n",
      "Trainable params: 8,685,315\n",
      "Non-trainable params: 7,635,264\n",
      "_________________________________________________________________\n"
     ]
    }
   ],
   "source": [
    "from keras.applications import VGG16\n",
    "\n",
    "#Load the VGG model\n",
    "vgg_conv = VGG16(weights='imagenet', include_top=False, input_shape=(image_size, image_size, 3))\n",
    "\n",
    "# Freeze all the layers\n",
    "for layer in vgg_conv.layers[:-4]:\n",
    "    layer.trainable = False\n",
    "\n",
    "# Check the trainable status of the individual layers\n",
    "for layer in vgg_conv.layers:\n",
    "    print(layer, layer.trainable)\n",
    "\n",
    "\n",
    "from keras import models\n",
    "from keras import layers\n",
    "from keras import optimizers\n",
    "\n",
    "# Create the model\n",
    "model = models.Sequential()\n",
    "\n",
    "# Add the vgg convolutional base model\n",
    "model.add(vgg_conv)  #sequential이니까 불러온 모델 뒤에 레이어 붙어\n",
    "\n",
    "# Add new layers\n",
    "model.add(layers.Flatten())\n",
    "#model.add(layers.Dense(1024, activation='relu'))\n",
    "model.add(layers.Dense(64, activation='relu'))\n",
    "model.add(layers.Dropout(0.5))\n",
    "model.add(layers.Dense(3, activation='softmax'))\n",
    "\n",
    "# Show a summary of the model. Check the number of trainable parameters\n",
    "model.summary()"
   ]
  },
  {
   "cell_type": "code",
   "execution_count": 27,
   "metadata": {},
   "outputs": [
    {
     "name": "stdout",
     "output_type": "stream",
     "text": [
      "Found 600 images belonging to 3 classes.\n",
      "Found 150 images belonging to 3 classes.\n"
     ]
    }
   ],
   "source": [
    "# No Data augmentation \n",
    "train_datagen = ImageDataGenerator(rescale=1./255)\n",
    "validation_datagen = ImageDataGenerator(rescale=1./255)\n",
    "\n",
    "# Change the batchsize according to your system RAM\n",
    "train_batchsize = 50 #100은 무리라서\n",
    "val_batchsize = 10 #는 큰 의미 없지만\n",
    "\n",
    "# Data Generator for Training data\n",
    "train_generator = train_datagen.flow_from_directory(\n",
    "        train_dir,\n",
    "        target_size=(image_size, image_size),\n",
    "        batch_size=train_batchsize,\n",
    "        class_mode='categorical')\n",
    "\n",
    "# Data Generator for Validation data\n",
    "validation_generator = validation_datagen.flow_from_directory(\n",
    "        validation_dir,\n",
    "        target_size=(image_size, image_size),\n",
    "        batch_size=val_batchsize,\n",
    "        class_mode='categorical',\n",
    "        shuffle=False)\n",
    "\n",
    "# Compile the model\n",
    "model.compile(loss='categorical_crossentropy',\n",
    "              optimizer=\"adam\",\n",
    "              metrics=['accuracy'])"
   ]
  },
  {
   "cell_type": "code",
   "execution_count": 28,
   "metadata": {},
   "outputs": [
    {
     "name": "stdout",
     "output_type": "stream",
     "text": [
      "Epoch 1/50\n",
      "12/12 [==============================] - 65s 5s/step - loss: 9.5984 - acc: 0.3367 - val_loss: 10.7454 - val_acc: 0.3333\n",
      "Epoch 2/50\n",
      "12/12 [==============================] - 67s 6s/step - loss: 10.7454 - acc: 0.3333 - val_loss: 10.7454 - val_acc: 0.3333\n",
      "Epoch 3/50\n",
      "12/12 [==============================] - 66s 6s/step - loss: 10.6648 - acc: 0.3383 - val_loss: 10.7454 - val_acc: 0.3333\n",
      "Epoch 4/50\n",
      "12/12 [==============================] - 66s 5s/step - loss: 10.6917 - acc: 0.3367 - val_loss: 10.7454 - val_acc: 0.3333\n",
      "Epoch 5/50\n",
      "12/12 [==============================] - 66s 5s/step - loss: 10.5574 - acc: 0.3450 - val_loss: 10.7454 - val_acc: 0.3333\n",
      "Epoch 6/50\n",
      "12/12 [==============================] - 67s 6s/step - loss: 10.6917 - acc: 0.3367 - val_loss: 10.7454 - val_acc: 0.3333\n",
      "Epoch 7/50\n",
      "12/12 [==============================] - 69s 6s/step - loss: 10.7723 - acc: 0.3317 - val_loss: 10.7454 - val_acc: 0.3333\n",
      "Epoch 8/50\n",
      "12/12 [==============================] - 66s 5s/step - loss: 10.7991 - acc: 0.3300 - val_loss: 10.7454 - val_acc: 0.3333\n",
      "Epoch 9/50\n",
      "12/12 [==============================] - 70s 6s/step - loss: 10.8260 - acc: 0.3283 - val_loss: 10.7454 - val_acc: 0.3333\n",
      "Epoch 10/50\n",
      "12/12 [==============================] - 71s 6s/step - loss: 10.7991 - acc: 0.3300 - val_loss: 10.7454 - val_acc: 0.3333\n",
      "Epoch 11/50\n",
      "12/12 [==============================] - 69s 6s/step - loss: 10.7185 - acc: 0.3350 - val_loss: 10.7454 - val_acc: 0.3333\n",
      "Epoch 12/50\n",
      "12/12 [==============================] - 68s 6s/step - loss: 10.8260 - acc: 0.3283 - val_loss: 10.7454 - val_acc: 0.3333\n",
      "Epoch 13/50\n",
      "12/12 [==============================] - 67s 6s/step - loss: 10.6917 - acc: 0.3367 - val_loss: 10.7454 - val_acc: 0.3333\n",
      "Epoch 14/50\n",
      "12/12 [==============================] - 67s 6s/step - loss: 10.7723 - acc: 0.3317 - val_loss: 10.7454 - val_acc: 0.3333\n",
      "Epoch 15/50\n",
      "12/12 [==============================] - 66s 6s/step - loss: 10.8797 - acc: 0.3250 - val_loss: 10.7454 - val_acc: 0.3333\n",
      "Epoch 16/50\n",
      "12/12 [==============================] - 65s 5s/step - loss: 10.6379 - acc: 0.3400 - val_loss: 10.7454 - val_acc: 0.3333\n",
      "Epoch 17/50\n",
      "12/12 [==============================] - 65s 5s/step - loss: 10.6648 - acc: 0.3383 - val_loss: 10.7454 - val_acc: 0.3333\n",
      "Epoch 18/50\n",
      "12/12 [==============================] - 65s 5s/step - loss: 10.7454 - acc: 0.3333 - val_loss: 10.7454 - val_acc: 0.3333\n",
      "Epoch 19/50\n",
      "12/12 [==============================] - 66s 5s/step - loss: 10.8260 - acc: 0.3283 - val_loss: 10.7454 - val_acc: 0.3333\n",
      "Epoch 20/50\n",
      "12/12 [==============================] - 66s 5s/step - loss: 10.7723 - acc: 0.3317 - val_loss: 10.7454 - val_acc: 0.3333\n",
      "Epoch 21/50\n",
      "12/12 [==============================] - 65s 5s/step - loss: 10.7185 - acc: 0.3350 - val_loss: 10.7454 - val_acc: 0.3333\n",
      "Epoch 22/50\n",
      "12/12 [==============================] - 68s 6s/step - loss: 10.7185 - acc: 0.3350 - val_loss: 10.7454 - val_acc: 0.3333\n",
      "Epoch 23/50\n",
      "12/12 [==============================] - 68s 6s/step - loss: 10.7454 - acc: 0.3333 - val_loss: 10.7454 - val_acc: 0.3333\n",
      "Epoch 24/50\n",
      "12/12 [==============================] - 67s 6s/step - loss: 10.7185 - acc: 0.3350 - val_loss: 10.7454 - val_acc: 0.3333\n",
      "Epoch 25/50\n",
      "12/12 [==============================] - 65s 5s/step - loss: 10.6917 - acc: 0.3367 - val_loss: 10.7454 - val_acc: 0.3333\n",
      "Epoch 26/50\n",
      "12/12 [==============================] - 65s 5s/step - loss: 10.7454 - acc: 0.3333 - val_loss: 10.7454 - val_acc: 0.3333\n",
      "Epoch 27/50\n",
      "12/12 [==============================] - 65s 5s/step - loss: 10.7491 - acc: 0.3317 - val_loss: 10.7454 - val_acc: 0.3333\n",
      "Epoch 28/50\n",
      "12/12 [==============================] - 65s 5s/step - loss: 10.7454 - acc: 0.3333 - val_loss: 10.7454 - val_acc: 0.3333\n",
      "Epoch 29/50\n",
      "12/12 [==============================] - 65s 5s/step - loss: 10.7454 - acc: 0.3333 - val_loss: 10.7454 - val_acc: 0.3333\n",
      "Epoch 30/50\n",
      "12/12 [==============================] - 68s 6s/step - loss: 10.7454 - acc: 0.3333 - val_loss: 10.7454 - val_acc: 0.3333\n",
      "Epoch 31/50\n",
      "12/12 [==============================] - 67s 6s/step - loss: 10.7723 - acc: 0.3317 - val_loss: 10.7454 - val_acc: 0.3333\n",
      "Epoch 32/50\n",
      "12/12 [==============================] - 66s 6s/step - loss: 10.7454 - acc: 0.3333 - val_loss: 10.7454 - val_acc: 0.3333\n",
      "Epoch 33/50\n",
      "12/12 [==============================] - 67s 6s/step - loss: 10.7454 - acc: 0.3333 - val_loss: 10.7454 - val_acc: 0.3333\n",
      "Epoch 34/50\n",
      "12/12 [==============================] - 67s 6s/step - loss: 10.7454 - acc: 0.3333 - val_loss: 10.7454 - val_acc: 0.3333\n",
      "Epoch 35/50\n",
      "12/12 [==============================] - 65s 5s/step - loss: 10.7185 - acc: 0.3350 - val_loss: 10.7454 - val_acc: 0.3333\n",
      "Epoch 36/50\n",
      "12/12 [==============================] - 67s 6s/step - loss: 10.7185 - acc: 0.3350 - val_loss: 10.7454 - val_acc: 0.3333\n",
      "Epoch 37/50\n",
      "12/12 [==============================] - 65s 5s/step - loss: 10.7454 - acc: 0.3333 - val_loss: 10.7454 - val_acc: 0.3333\n",
      "Epoch 38/50\n",
      "12/12 [==============================] - 66s 6s/step - loss: 10.7454 - acc: 0.3333 - val_loss: 10.7454 - val_acc: 0.3333\n",
      "Epoch 39/50\n",
      "12/12 [==============================] - 65s 5s/step - loss: 10.7454 - acc: 0.3333 - val_loss: 10.7454 - val_acc: 0.3333\n",
      "Epoch 40/50\n",
      "12/12 [==============================] - 66s 5s/step - loss: 10.7454 - acc: 0.3333 - val_loss: 10.7454 - val_acc: 0.3333\n",
      "Epoch 41/50\n",
      "12/12 [==============================] - 67s 6s/step - loss: 10.7454 - acc: 0.3333 - val_loss: 10.7454 - val_acc: 0.3333\n",
      "Epoch 42/50\n",
      "12/12 [==============================] - 66s 6s/step - loss: 10.7454 - acc: 0.3333 - val_loss: 10.7454 - val_acc: 0.3333\n",
      "Epoch 43/50\n",
      "12/12 [==============================] - 67s 6s/step - loss: 10.7454 - acc: 0.3333 - val_loss: 10.7454 - val_acc: 0.3333\n",
      "Epoch 44/50\n",
      "12/12 [==============================] - 65s 5s/step - loss: 10.7185 - acc: 0.3350 - val_loss: 10.7454 - val_acc: 0.3333\n",
      "Epoch 45/50\n",
      "12/12 [==============================] - 65s 5s/step - loss: 10.7185 - acc: 0.3350 - val_loss: 10.7454 - val_acc: 0.3333\n",
      "Epoch 46/50\n",
      "12/12 [==============================] - 66s 6s/step - loss: 10.7454 - acc: 0.3333 - val_loss: 10.7454 - val_acc: 0.3333\n",
      "Epoch 47/50\n",
      "12/12 [==============================] - 65s 5s/step - loss: 10.7723 - acc: 0.3317 - val_loss: 10.7454 - val_acc: 0.3333\n",
      "Epoch 48/50\n",
      "12/12 [==============================] - 66s 6s/step - loss: 10.7454 - acc: 0.3333 - val_loss: 10.7454 - val_acc: 0.3333\n",
      "Epoch 49/50\n",
      "12/12 [==============================] - 65s 5s/step - loss: 10.7454 - acc: 0.3333 - val_loss: 10.7454 - val_acc: 0.3333\n",
      "Epoch 50/50\n",
      "12/12 [==============================] - 65s 5s/step - loss: 10.7454 - acc: 0.3333 - val_loss: 10.7454 - val_acc: 0.3333\n"
     ]
    }
   ],
   "source": [
    "# Train the Model\n",
    "history = model.fit_generator(\n",
    "      train_generator,\n",
    "      steps_per_epoch=train_generator.samples/train_generator.batch_size ,\n",
    "      epochs=50,\n",
    "      validation_data=validation_generator,\n",
    "      validation_steps=validation_generator.samples/validation_generator.batch_size,\n",
    "      verbose=1)"
   ]
  },
  {
   "cell_type": "code",
   "execution_count": null,
   "metadata": {},
   "outputs": [],
   "source": []
  }
 ],
 "metadata": {
  "kernelspec": {
   "display_name": "Python 3",
   "language": "python",
   "name": "python3"
  },
  "language_info": {
   "codemirror_mode": {
    "name": "ipython",
    "version": 3
   },
   "file_extension": ".py",
   "mimetype": "text/x-python",
   "name": "python",
   "nbconvert_exporter": "python",
   "pygments_lexer": "ipython3",
   "version": "3.7.4"
  },
  "varInspector": {
   "cols": {
    "lenName": 16,
    "lenType": 16,
    "lenVar": 40
   },
   "kernels_config": {
    "python": {
     "delete_cmd_postfix": "",
     "delete_cmd_prefix": "del ",
     "library": "var_list.py",
     "varRefreshCmd": "print(var_dic_list())"
    },
    "r": {
     "delete_cmd_postfix": ") ",
     "delete_cmd_prefix": "rm(",
     "library": "var_list.r",
     "varRefreshCmd": "cat(var_dic_list()) "
    }
   },
   "types_to_exclude": [
    "module",
    "function",
    "builtin_function_or_method",
    "instance",
    "_Feature"
   ],
   "window_display": false
  }
 },
 "nbformat": 4,
 "nbformat_minor": 2
}
