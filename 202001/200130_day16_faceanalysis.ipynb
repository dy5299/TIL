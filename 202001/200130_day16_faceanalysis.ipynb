{
 "cells": [
  {
   "cell_type": "code",
   "execution_count": 4,
   "metadata": {},
   "outputs": [],
   "source": [
    "from imutils  import face_utils\n",
    "import numpy as np\n",
    "import imutils\n",
    "import dlib\n",
    "import cv2\n",
    "import matplotlib.pyplot as plt\n",
    "import face_recognition\n",
    "import os\n",
    "from imutils import paths"
   ]
  },
  {
   "cell_type": "code",
   "execution_count": 5,
   "metadata": {},
   "outputs": [],
   "source": [
    "predictor = dlib.shape_predictor(\"../../../../shape_predictor_68_face_landmarks.dat\")\n",
    "detector = dlib.get_frontal_face_detector()"
   ]
  },
  {
   "cell_type": "code",
   "execution_count": 14,
   "metadata": {},
   "outputs": [
    {
     "name": "stdout",
     "output_type": "stream",
     "text": [
      "Number of faces detected: 6\n",
      "[(1045, 317) (1117, 389)]\n",
      "[(349, 325) (421, 397)]\n",
      "[(181, 325) (253, 397)]\n",
      "[(885, 349) (957, 421)]\n",
      "[(533, 349) (605, 421)]\n",
      "[(725, 333) (797, 405)]\n"
     ]
    }
   ],
   "source": [
    "frame = cv2.imread(\"img/face.jpg\")\n",
    "gray = cv2.cvtColor(frame, cv2.COLOR_BGR2GRAY)\n",
    "rects = detector(gray,0)\n",
    "print(\"Number of faces detected: {}\".format(len(rects)))\n",
    "for r in rects :\n",
    "    print(r)"
   ]
  },
  {
   "cell_type": "code",
   "execution_count": 15,
   "metadata": {},
   "outputs": [
    {
     "name": "stdout",
     "output_type": "stream",
     "text": [
      "Detection 0: Left: 1045 Top: 317 Right: 1117 Bottom 389\n",
      "Detection 1: Left: 349 Top: 325 Right: 421 Bottom 397\n",
      "Detection 2: Left: 181 Top: 325 Right: 253 Bottom 397\n",
      "Detection 3: Left: 885 Top: 349 Right: 957 Bottom 421\n",
      "Detection 4: Left: 533 Top: 349 Right: 605 Bottom 421\n",
      "Detection 5: Left: 725 Top: 333 Right: 797 Bottom 405\n"
     ]
    }
   ],
   "source": [
    "for k, d in enumerate(rects) :\n",
    "    print(\"Detection {}: Left: {} Top: {} Right: {} Bottom {}\".format(\n",
    "    k, d.left(), d.top(), d.right(), d.bottom()))\n",
    "    \n",
    "    shape = predictor(gray, d)\n",
    "    shape = face_utils.shape_to_np(shape)\n",
    "    for (x,y) in shape:\n",
    "        cv2.circle(frame, (x,y),2,(0,255,0),-1)"
   ]
  },
  {
   "cell_type": "code",
   "execution_count": 16,
   "metadata": {},
   "outputs": [
    {
     "data": {
      "text/plain": [
       "True"
      ]
     },
     "execution_count": 16,
     "metadata": {},
     "output_type": "execute_result"
    }
   ],
   "source": [
    "cv2.imwrite(\"img/face_out.jpg\", frame)"
   ]
  },
  {
   "cell_type": "code",
   "execution_count": null,
   "metadata": {},
   "outputs": [],
   "source": []
  }
 ],
 "metadata": {
  "kernelspec": {
   "display_name": "Python 3",
   "language": "python",
   "name": "python3"
  },
  "language_info": {
   "codemirror_mode": {
    "name": "ipython",
    "version": 3
   },
   "file_extension": ".py",
   "mimetype": "text/x-python",
   "name": "python",
   "nbconvert_exporter": "python",
   "pygments_lexer": "ipython3",
   "version": "3.6.10"
  },
  "varInspector": {
   "cols": {
    "lenName": 16,
    "lenType": 16,
    "lenVar": 40
   },
   "kernels_config": {
    "python": {
     "delete_cmd_postfix": "",
     "delete_cmd_prefix": "del ",
     "library": "var_list.py",
     "varRefreshCmd": "print(var_dic_list())"
    },
    "r": {
     "delete_cmd_postfix": ") ",
     "delete_cmd_prefix": "rm(",
     "library": "var_list.r",
     "varRefreshCmd": "cat(var_dic_list()) "
    }
   },
   "types_to_exclude": [
    "module",
    "function",
    "builtin_function_or_method",
    "instance",
    "_Feature"
   ],
   "window_display": false
  }
 },
 "nbformat": 4,
 "nbformat_minor": 4
}
