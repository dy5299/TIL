{
 "cells": [
  {
   "cell_type": "code",
   "execution_count": 22,
   "metadata": {
    "ExecuteTime": {
     "end_time": "2020-02-11T06:19:28.245688Z",
     "start_time": "2020-02-11T06:19:28.241680Z"
    }
   },
   "outputs": [],
   "source": [
    "import socket\n",
    "import threading\n",
    "from datetime import datetime\n",
    "import os\n",
    "import subprocess\n"
   ]
  },
  {
   "cell_type": "code",
   "execution_count": 2,
   "metadata": {
    "ExecuteTime": {
     "end_time": "2020-02-11T01:26:52.181071Z",
     "start_time": "2020-02-11T01:26:50.105488Z"
    },
    "scrolled": true
   },
   "outputs": [
    {
     "name": "stdout",
     "output_type": "stream",
     "text": [
      "listening...\n",
      "accepting\n",
      "receive >> hello\n",
      "send data\n",
      "종료\n"
     ]
    }
   ],
   "source": [
    "server_socket = socket.socket(socket.AF_INET, socket.SOCK_STREAM)  \n",
    "#소켓이 꼭 TCPIP만 의미하는 것은 아니고 여러가지 통신방법이 있다.\n",
    "#파라미터가 두 개 - 첫번째는 IP를 쓰겠다\n",
    "#두번째는 TCP/UCP인데 STREAM은 TCP방법을 쓰겠다\n",
    "\n",
    "server_socket.bind(('localhost', 12345))    #IP, 포트번호\n",
    "server_socket.listen(0)                     #포트번호를 listening. 동시에 소켓을 몇개까지 연결할 건지. 0은 automatically\n",
    "#대기모드\n",
    "print('listening...')\n",
    "\n",
    "client_socket, addr = server_socket.accept() #클라이언트 접속될 때까지는 대기상태\n",
    "print('accepting')\n",
    "data =client_socket.recv(65535) #클라이언트 접속이 되면 데이터를 읽어들임.\n",
    "#데이터는(패킷은) 최대 64k. 더 작을수도 클 수도 있는데, 크면 쪼개서 전송된다.\n",
    "\n",
    "print('receive >> ' + data.decode())  #unicode to 한글\n",
    "\n",
    "client_socket.send(data)\n",
    "print('send data')\n",
    "client_socket.close()\n",
    "print('종료')"
   ]
  },
  {
   "cell_type": "code",
   "execution_count": 6,
   "metadata": {
    "ExecuteTime": {
     "end_time": "2020-02-11T01:39:03.914759Z",
     "start_time": "2020-02-11T01:39:01.129938Z"
    }
   },
   "outputs": [
    {
     "name": "stdout",
     "output_type": "stream",
     "text": [
      "listening...\n",
      "accepting\n",
      "receive >> POST / HTTP/1.1\n",
      "Host: 127.0.0.1\n",
      "Connection: keep-alive\n",
      "Content-Length: 8\n",
      "Cache-Control: max-age=0\n",
      "Upgrade-Insecure-Requests: 1\n",
      "Origin: null\n",
      "Content-Type: application/x-www-form-urlencoded\n",
      "User-Agent: Mozilla/5.0 (Windows NT 10.0; Win64; x64) AppleWebKit/537.36 (KHTML, like Gecko) Chrome/80.0.3987.87 Safari/537.36\n",
      "Sec-Fetch-Dest: document\n",
      "Accept: text/html,application/xhtml+xml,application/xml;q=0.9,image/webp,image/apng,*/*;q=0.8,application/signed-exchange;v=b3;q=0.9\n",
      "Sec-Fetch-Site: cross-site\n",
      "Sec-Fetch-Mode: navigate\n",
      "Sec-Fetch-User: ?1\n",
      "Accept-Encoding: gzip, deflate, br\n",
      "Accept-Language: ko-KR,ko;q=0.9,en-US;q=0.8,en;q=0.7\n",
      "\n",
      "id=hello\n"
     ]
    }
   ],
   "source": [
    "#simple http server\n",
    "server_socket = socket.socket(socket.AF_INET, socket.SOCK_STREAM)\n",
    "\n",
    "server_socket.bind(('localhost', 80))\n",
    "server_socket.listen(0)\n",
    "print('listening...')\n",
    "client_socket, addr = server_socket.accept()\n",
    "print('accepting')\n",
    "data =client_socket.recv(65535)\n",
    "\n",
    "print('receive >> ' + data.decode())\n",
    "client_socket.close()"
   ]
  },
  {
   "cell_type": "code",
   "execution_count": 7,
   "metadata": {
    "ExecuteTime": {
     "end_time": "2020-02-11T02:51:06.836615Z",
     "start_time": "2020-02-11T02:51:06.525211Z"
    },
    "scrolled": true
   },
   "outputs": [
    {
     "name": "stdout",
     "output_type": "stream",
     "text": [
      "listening...\n",
      "accepting\n"
     ]
    }
   ],
   "source": [
    "#html file load\n",
    "server_socket = socket.socket(socket.AF_INET, socket.SOCK_STREAM)\n",
    "\n",
    "server_socket.bind(('localhost', 80))\n",
    "server_socket.listen(0)\n",
    "print('listening...')\n",
    "\n",
    "if True :           #while True : 테스트 할 때는 1회접속이 편리\n",
    "    client_socket, addr = server_socket.accept()\n",
    "    print('accepting')\n",
    "    data =client_socket.recv(65535)\n",
    "    data = data.decode()\n",
    "\n",
    "    headers = data.split(\"\\r\\n\")\n",
    "    filename = headers[0].split(\" \")[1]\n",
    "    \n",
    "    header = 'HTTP/1.0 200 0K\\r\\n\\r\\n'\n",
    "    file = open('.'+filename, 'rt', encoding='utf-8')\n",
    "    html = file.read()\n",
    "    #위 두 줄을 html = open('.'+filename, 'rt', encoding='utf-8').read() 로 하면 안 되더라\n",
    "\n",
    "    client_socket.send((header+html).encode('utf-8'))\n",
    "    client_socket.close()    #HTTP의 특성. 접속하고 끊어버린다."
   ]
  },
  {
   "cell_type": "code",
   "execution_count": 17,
   "metadata": {
    "ExecuteTime": {
     "end_time": "2020-02-11T02:35:18.497418Z",
     "start_time": "2020-02-11T02:35:18.493389Z"
    }
   },
   "outputs": [
    {
     "name": "stdout",
     "output_type": "stream",
     "text": [
      "<font color=red>Hello</font>\n"
     ]
    }
   ],
   "source": [
    "#file 다루기\n",
    "filename = '/index.html'\n",
    "\n",
    "text = open('.'+filename, 'rt', encoding='utf-8').read()\n",
    "#2nd param: read, write, binary, textflie\n",
    "print(text)"
   ]
  },
  {
   "cell_type": "code",
   "execution_count": 5,
   "metadata": {
    "ExecuteTime": {
     "end_time": "2020-02-11T05:25:23.198268Z",
     "start_time": "2020-02-11T05:25:23.098591Z"
    },
    "scrolled": true
   },
   "outputs": [
    {
     "name": "stdout",
     "output_type": "stream",
     "text": [
      "<class 'bytes'>\n",
      "b'12\\r\\na\\xb4\\xf5\\xc7\\xcf\\xb1\\xe2b\\r\\n'\n"
     ]
    },
    {
     "ename": "UnicodeDecodeError",
     "evalue": "'utf-8' codec can't decode byte 0xb4 in position 5: invalid start byte",
     "output_type": "error",
     "traceback": [
      "\u001b[1;31m---------------------------------------------------------------------------\u001b[0m",
      "\u001b[1;31mUnicodeDecodeError\u001b[0m                        Traceback (most recent call last)",
      "\u001b[1;32m<ipython-input-5-66a14e986aa3>\u001b[0m in \u001b[0;36m<module>\u001b[1;34m\u001b[0m\n\u001b[0;32m      4\u001b[0m \u001b[0mprint\u001b[0m\u001b[1;33m(\u001b[0m\u001b[0mtype\u001b[0m\u001b[1;33m(\u001b[0m\u001b[0moutput\u001b[0m\u001b[1;33m)\u001b[0m\u001b[1;33m)\u001b[0m    \u001b[1;31m#bytes array\u001b[0m\u001b[1;33m\u001b[0m\u001b[1;33m\u001b[0m\u001b[0m\n\u001b[0;32m      5\u001b[0m \u001b[0mprint\u001b[0m\u001b[1;33m(\u001b[0m\u001b[0moutput\u001b[0m\u001b[1;33m)\u001b[0m\u001b[1;33m\u001b[0m\u001b[1;33m\u001b[0m\u001b[0m\n\u001b[1;32m----> 6\u001b[1;33m \u001b[0mprint\u001b[0m\u001b[1;33m(\u001b[0m\u001b[0mtype\u001b[0m\u001b[1;33m(\u001b[0m\u001b[0moutput\u001b[0m\u001b[1;33m.\u001b[0m\u001b[0mdecode\u001b[0m\u001b[1;33m(\u001b[0m\u001b[1;33m)\u001b[0m\u001b[1;33m)\u001b[0m\u001b[1;33m)\u001b[0m    \u001b[1;31m#bytes array to string\u001b[0m\u001b[1;33m\u001b[0m\u001b[1;33m\u001b[0m\u001b[0m\n\u001b[0m\u001b[0;32m      7\u001b[0m \u001b[0mprint\u001b[0m\u001b[1;33m(\u001b[0m\u001b[0moutput\u001b[0m\u001b[1;33m.\u001b[0m\u001b[0mdecode\u001b[0m\u001b[1;33m(\u001b[0m\u001b[1;33m)\u001b[0m\u001b[1;33m)\u001b[0m\u001b[1;33m\u001b[0m\u001b[1;33m\u001b[0m\u001b[0m\n\u001b[0;32m      8\u001b[0m \u001b[1;31m#print(output.decode('cp949'))\u001b[0m\u001b[1;33m\u001b[0m\u001b[1;33m\u001b[0m\u001b[1;33m\u001b[0m\u001b[0m\n",
      "\u001b[1;31mUnicodeDecodeError\u001b[0m: 'utf-8' codec can't decode byte 0xb4 in position 5: invalid start byte"
     ]
    }
   ],
   "source": [
    "#python file 서버에서 실행하고..\n",
    "import subprocess\n",
    "\n",
    "output = subprocess.check_output(['python.exe', 'test1_html.py'])\n",
    "print(type(output))    #bytes array\n",
    "print(output)\n",
    "print(type(output.decode()))    #string\n",
    "print(output.decode())          #bytes array to string. 한글은 안 됨.\n",
    "#print(output.decode('cp949'))"
   ]
  },
  {
   "cell_type": "code",
   "execution_count": 27,
   "metadata": {
    "ExecuteTime": {
     "end_time": "2020-02-11T07:20:29.052516Z",
     "start_time": "2020-02-11T07:20:27.746662Z"
    }
   },
   "outputs": [
    {
     "name": "stdout",
     "output_type": "stream",
     "text": [
      "listening...\n",
      "accepting\n",
      "GET /test2.py HTTP/1.1\n",
      "Host: localhost\n",
      "Connection: keep-alive\n",
      "Cache-Control: max-age=0\n",
      "Upgrade-Insecure-Requests: 1\n",
      "User-Agent: Mozilla/5.0 (Windows NT 10.0; Win64; x64) AppleWebKit/537.36 (KHTML, like Gecko) Chrome/80.0.3987.87 Safari/537.36\n",
      "Sec-Fetch-Dest: document\n",
      "Accept: text/html,application/xhtml+xml,application/xml;q=0.9,image/webp,image/apng,*/*;q=0.8,application/signed-exchange;v=b3;q=0.9\n",
      "Sec-Fetch-Site: none\n",
      "Sec-Fetch-Mode: navigate\n",
      "Sec-Fetch-User: ?1\n",
      "Accept-Encoding: gzip, deflate, br\n",
      "Accept-Language: ko-KR,ko;q=0.9,en-US;q=0.8,en;q=0.7\n",
      "Cookie: _xsrf=2|752a7959|d4f14de1fdacb143486d639dcc5a5bd3|1581382035; username-localhost-8888=\"2|1:0|10:1581383620|23:username-localhost-8888|44:Zjk1ZTJiMjRjZDY2NGRjNGE0OWViMzMyYWU5ZDg1NDM=|bb9d5b9d49b537e940d857f73776c8d785f9ed5f09f9cef38cc6b86f55c5f8b9\"\n",
      "\n",
      "\n"
     ]
    }
   ],
   "source": [
    "#확장자 나누기 + threading\n",
    "def httpprocess(client_socket) :\n",
    "    data =client_socket.recv(65535)\n",
    "    data = data.decode()\n",
    "    print(data)\n",
    "\n",
    "    try:    \n",
    "        headers = data.split(\"\\r\\n\")\n",
    "        filename = headers[0].split(\" \")[1]\n",
    "        _, ext = os.path.splitext(filename)\n",
    "\n",
    "        group_a = ['.html', '.htm']\n",
    "        group_b = ['.jpg', '.jpeg', '.png', '.bmp']\n",
    "\n",
    "        \n",
    "        if '.py' in filename:\n",
    "            html = subprocess.check_output(['python.exe', '.'+filename])\n",
    "            html = html.decode('cp949')\n",
    "            header = 'HTTP/1.0 200 0K\\r\\n\\r\\n'\n",
    "            client_socket.send((header+html).encode('utf-8'))\n",
    "        elif ext in group_a :\n",
    "            file = open('.'+filename, 'rt', encoding='utf-8')\n",
    "            html = file.read()\n",
    "            header = 'HTTP/1.0 200 0K\\r\\n\\r\\n'\n",
    "            client_socket.send((header+html).encode('utf-8'))\n",
    "        elif ext in group_b or ext == '.ico' :\n",
    "            client_socket.send('HTTP/1.1 200 OK\\r\\n'.encode())\n",
    "            client_socket.send(\"Content-Type: image/png\\r\\n\".encode())\n",
    "            client_socket.send(\"Accept-Ranges: bytes\\r\\n\\r\\n\".encode())\n",
    "            file = open('.' + filename, 'rb')\n",
    "            client_socket.send(file.read())  #binary type\n",
    "            file.close()\n",
    "        else :\n",
    "            header = 'HTTP/1.0 404 File Not Found\\r\\n\\r\\n'\n",
    "            client_socket.send((header+html).encode('utf-8'))\n",
    "    except Exception as e:\n",
    "        print(e)\n",
    "    client_socket.close()\n",
    "\n",
    "\n",
    "\n",
    "server_socket = socket.socket(socket.AF_INET, socket.SOCK_STREAM)\n",
    "\n",
    "server_socket.bind(('localhost', 80))\n",
    "server_socket.listen(0)\n",
    "print('listening...')\n",
    "\n",
    "if True :\n",
    "    client_socket, addr = server_socket.accept()\n",
    "    client_socket.settimeout(3)\n",
    "    print('accepting')\n",
    "    t = threading.Thread(target=httpprocess, args=(client_socket,))\n",
    "    t.start()"
   ]
  },
  {
   "cell_type": "code",
   "execution_count": 30,
   "metadata": {
    "ExecuteTime": {
     "end_time": "2020-02-11T07:25:27.736520Z",
     "start_time": "2020-02-11T07:25:27.731539Z"
    }
   },
   "outputs": [
    {
     "name": "stdout",
     "output_type": "stream",
     "text": [
      "hello 안녕하세요 test 이순신 item ^^\n"
     ]
    }
   ],
   "source": [
    "#template engine\n",
    "html = 'hello @v1 test @v2 item @v3'\n",
    "\n",
    "html = html.replace('@v1', '안녕하세요')\n",
    "html = html.replace('@v2', '이순신')\n",
    "html = html.replace('@v3', '^^')\n",
    "\n",
    "print(html)"
   ]
  },
  {
   "cell_type": "code",
   "execution_count": 45,
   "metadata": {
    "ExecuteTime": {
     "end_time": "2020-02-11T07:36:04.311101Z",
     "start_time": "2020-02-11T07:36:04.306077Z"
    }
   },
   "outputs": [
    {
     "name": "stdout",
     "output_type": "stream",
     "text": [
      "hello 안녕하세요 test 이순신 item ^^\n"
     ]
    }
   ],
   "source": [
    "#practice\n",
    "def render(html, data):\n",
    "    for key,value in data.items():\n",
    "        html = html.replace('@'+key,value)\n",
    "    return html\n",
    "\n",
    "html = 'hello @v1 test @v2 item @v3'\n",
    "data = {'v1':'안녕하세요', 'v2':'이순신', 'v3':'^^'}\n",
    "html = render(html, data)\n",
    "print(html)"
   ]
  },
  {
   "cell_type": "code",
   "execution_count": 52,
   "metadata": {
    "ExecuteTime": {
     "end_time": "2020-02-11T07:50:50.847557Z",
     "start_time": "2020-02-11T07:50:50.841602Z"
    }
   },
   "outputs": [
    {
     "name": "stdout",
     "output_type": "stream",
     "text": [
      "hello 안녕하세요 test 이순신 item ^^\n",
      "<html>\n",
      "   <head>\n",
      "      <meta charset=\"utf-8\">\n",
      "   </head>\n",
      "\n",
      "   <body>\n",
      "      <font color=red> @out</font>\n",
      "\n",
      "      <table border=1>\n",
      "         <tr>\n",
      "         <td> 이름 </td> <td>이순신</td>\n",
      "         </tr>\n",
      "         <tr>\n",
      "         <td> email </td> <td>^^</td>\n",
      "         </tr>\n",
      "      </table>\n",
      "\n",
      "\n",
      "   </body>\n",
      "</html>\n"
     ]
    }
   ],
   "source": [
    "#pf\n",
    "def render(html, data):\n",
    "    for v in data:\n",
    "        html = html.replace('@'+v,data[v])\n",
    "    return html\n",
    "\n",
    "def renderfile(file, data):\n",
    "    html = open(file, \"rt\", encoding='utf-8').read()\n",
    "    for v in data:\n",
    "        html = html.replace('@'+v,data[v])\n",
    "    return html\n",
    "\n",
    "\n",
    "html = 'hello @v1 test @v2 item @v3'\n",
    "data = {'v1':'안녕하세요', 'v2':'이순신', 'v3':'^^'}\n",
    "html = render(html, data)\n",
    "print(html)\n",
    "\n",
    "data = {'title':'나의 홈페이지', 'name':'이순신','email':'^^'}\n",
    "print(renderfile('template.html', data))"
   ]
  },
  {
   "cell_type": "code",
   "execution_count": 34,
   "metadata": {
    "ExecuteTime": {
     "end_time": "2020-02-11T07:29:17.393950Z",
     "start_time": "2020-02-11T07:29:17.386021Z"
    }
   },
   "outputs": [
    {
     "ename": "KeyError",
     "evalue": "'key'",
     "output_type": "error",
     "traceback": [
      "\u001b[1;31m---------------------------------------------------------------------------\u001b[0m",
      "\u001b[1;31mKeyError\u001b[0m                                  Traceback (most recent call last)",
      "\u001b[1;32m<ipython-input-34-b37ee505e565>\u001b[0m in \u001b[0;36m<module>\u001b[1;34m\u001b[0m\n\u001b[0;32m      1\u001b[0m \u001b[0mdata\u001b[0m \u001b[1;33m=\u001b[0m \u001b[1;33m{\u001b[0m\u001b[1;34m'v1'\u001b[0m\u001b[1;33m:\u001b[0m\u001b[1;34m'안녕하세요'\u001b[0m\u001b[1;33m,\u001b[0m \u001b[1;34m'v2'\u001b[0m\u001b[1;33m:\u001b[0m\u001b[1;34m'이순신'\u001b[0m\u001b[1;33m,\u001b[0m \u001b[1;34m'v3'\u001b[0m\u001b[1;33m:\u001b[0m\u001b[1;34m'^^'\u001b[0m\u001b[1;33m}\u001b[0m\u001b[1;33m\u001b[0m\u001b[1;33m\u001b[0m\u001b[0m\n\u001b[1;32m----> 2\u001b[1;33m \u001b[0mdata\u001b[0m\u001b[1;33m[\u001b[0m\u001b[1;34m'key'\u001b[0m\u001b[1;33m]\u001b[0m\u001b[1;33m\u001b[0m\u001b[1;33m\u001b[0m\u001b[0m\n\u001b[0m",
      "\u001b[1;31mKeyError\u001b[0m: 'key'"
     ]
    }
   ],
   "source": [
    "data = {'v1':'안녕하세요', 'v2':'이순신', 'v3':'^^'}\n",
    "data['key']"
   ]
  },
  {
   "cell_type": "code",
   "execution_count": 38,
   "metadata": {
    "ExecuteTime": {
     "end_time": "2020-02-11T07:31:31.271122Z",
     "start_time": "2020-02-11T07:31:31.266070Z"
    }
   },
   "outputs": [
    {
     "data": {
      "text/plain": [
       "dict_items([('v1', '안녕하세요'), ('v2', '이순신'), ('v3', '^^')])"
      ]
     },
     "execution_count": 38,
     "metadata": {},
     "output_type": "execute_result"
    }
   ],
   "source": [
    "data.items()"
   ]
  },
  {
   "cell_type": "code",
   "execution_count": 58,
   "metadata": {
    "ExecuteTime": {
     "end_time": "2020-02-11T07:59:01.207633Z",
     "start_time": "2020-02-11T07:59:01.200578Z"
    },
    "scrolled": true
   },
   "outputs": [
    {
     "data": {
      "text/html": [
       "<html>\n",
       "   <head>\n",
       "      <meta charset=\"utf-8\">\n",
       "   </head>\n",
       "\n",
       "   <body>\n",
       "      <font color=red> @out</font>\n",
       "\n",
       "      <table border=1>\n",
       "         <tr>\n",
       "         <td> 이름 </td> <td>이순신</td>\n",
       "         </tr>\n",
       "         <tr>\n",
       "         <td> email </td> <td>^^</td>\n",
       "         </tr>\n",
       "      </table>\n",
       "\n",
       "\n",
       "   </body>\n",
       "</html>"
      ],
      "text/plain": [
       "<IPython.core.display.HTML object>"
      ]
     },
     "execution_count": 58,
     "metadata": {},
     "output_type": "execute_result"
    }
   ],
   "source": [
    "from IPython.core.display import HTML\n",
    "\n",
    "def render(html, data) :\n",
    "    for v in data :\n",
    "        html = html.replace(\"@\"+v, data[v])\n",
    "    return html\n",
    "\n",
    "def renderfile(file, data) :\n",
    "    html = open(file, \"rt\", encoding=\"utf-8\").read()\n",
    "    for v in data :\n",
    "        html = html.replace(\"@\"+v, data[v])\n",
    "    return html\n",
    "\n",
    "\n",
    "data = {\"title\":\"나의 홈페이지\",  \"name\":\"이순신\", \"email\":\"^^\"}\n",
    "HTML(renderfile(\"template.html\", data))\n"
   ]
  }
 ],
 "metadata": {
  "kernelspec": {
   "display_name": "Python 3",
   "language": "python",
   "name": "python3"
  },
  "language_info": {
   "codemirror_mode": {
    "name": "ipython",
    "version": 3
   },
   "file_extension": ".py",
   "mimetype": "text/x-python",
   "name": "python",
   "nbconvert_exporter": "python",
   "pygments_lexer": "ipython3",
   "version": "3.6.10"
  },
  "varInspector": {
   "cols": {
    "lenName": 16,
    "lenType": 16,
    "lenVar": 40
   },
   "kernels_config": {
    "python": {
     "delete_cmd_postfix": "",
     "delete_cmd_prefix": "del ",
     "library": "var_list.py",
     "varRefreshCmd": "print(var_dic_list())"
    },
    "r": {
     "delete_cmd_postfix": ") ",
     "delete_cmd_prefix": "rm(",
     "library": "var_list.r",
     "varRefreshCmd": "cat(var_dic_list()) "
    }
   },
   "types_to_exclude": [
    "module",
    "function",
    "builtin_function_or_method",
    "instance",
    "_Feature"
   ],
   "window_display": false
  }
 },
 "nbformat": 4,
 "nbformat_minor": 4
}
