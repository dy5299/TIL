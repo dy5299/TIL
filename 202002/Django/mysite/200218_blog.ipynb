{
 "cells": [
  {
   "cell_type": "markdown",
   "metadata": {},
   "source": [
    "## Post Record 생성"
   ]
  },
  {
   "cell_type": "code",
   "execution_count": 5,
   "metadata": {
    "ExecuteTime": {
     "end_time": "2020-02-18T01:22:34.363992Z",
     "start_time": "2020-02-18T01:22:34.360003Z"
    }
   },
   "outputs": [],
   "source": [
    "from blog.models import Post    #객체 참조\n",
    "from django.contrib.auth.models import User"
   ]
  },
  {
   "cell_type": "code",
   "execution_count": 11,
   "metadata": {
    "ExecuteTime": {
     "end_time": "2020-02-18T01:28:47.284196Z",
     "start_time": "2020-02-18T01:28:47.272228Z"
    }
   },
   "outputs": [],
   "source": [
    "u = User.objects.all().get(username='lee')  #system에서 만든 User table\n",
    "#객체생성방법: 하나는 객체 만들어서 save, 두번째는 create 함수 사용\n",
    "p = Post(title=\"오늘 점심 메뉴\", text=\"뭐지?\", author=u)\n",
    "p.save()"
   ]
  },
  {
   "cell_type": "code",
   "execution_count": 9,
   "metadata": {
    "ExecuteTime": {
     "end_time": "2020-02-18T01:26:39.100345Z",
     "start_time": "2020-02-18T01:26:39.074618Z"
    }
   },
   "outputs": [
    {
     "name": "stdout",
     "output_type": "stream",
     "text": [
      "<QuerySet [<User: lee>]>\n"
     ]
    }
   ],
   "source": [
    "print(u)"
   ]
  },
  {
   "cell_type": "code",
   "execution_count": 12,
   "metadata": {
    "ExecuteTime": {
     "end_time": "2020-02-18T01:30:40.707321Z",
     "start_time": "2020-02-18T01:30:40.695392Z"
    }
   },
   "outputs": [],
   "source": [
    "p.title = \"오늘 저엄심 메뉴\"\n",
    "p.save()    #p는 아직 기존 레코드를 가리키고 있으므로 update된다."
   ]
  },
  {
   "cell_type": "code",
   "execution_count": 13,
   "metadata": {
    "ExecuteTime": {
     "end_time": "2020-02-18T01:31:55.792914Z",
     "start_time": "2020-02-18T01:31:55.782941Z"
    }
   },
   "outputs": [],
   "source": [
    "p.title = \"오늘 저엄심 메뉴\"\n",
    "p.publish()    #(사용자가 만든 함수로) 수정한 날짜로 바꾸고 save"
   ]
  },
  {
   "cell_type": "code",
   "execution_count": 14,
   "metadata": {
    "ExecuteTime": {
     "end_time": "2020-02-18T01:35:12.646295Z",
     "start_time": "2020-02-18T01:35:12.631112Z"
    }
   },
   "outputs": [
    {
     "name": "stdout",
     "output_type": "stream",
     "text": [
      "오늘 저엄심 메뉴\n"
     ]
    }
   ],
   "source": [
    "print(p.title)"
   ]
  },
  {
   "cell_type": "code",
   "execution_count": 15,
   "metadata": {
    "ExecuteTime": {
     "end_time": "2020-02-18T01:35:51.740123Z",
     "start_time": "2020-02-18T01:35:51.728156Z"
    }
   },
   "outputs": [
    {
     "data": {
      "text/plain": [
       "<Post: 오늘 저녁 메뉴>"
      ]
     },
     "execution_count": 15,
     "metadata": {},
     "output_type": "execute_result"
    }
   ],
   "source": [
    "#객체생성방법 2nd: create ftn 사용\n",
    "Post.objects.create(title=\"오늘 저녁 메뉴\", text='뭐지?', author=u)"
   ]
  },
  {
   "cell_type": "code",
   "execution_count": null,
   "metadata": {},
   "outputs": [],
   "source": []
  }
 ],
 "metadata": {
  "kernelspec": {
   "display_name": "Django Shell-Plus",
   "language": "python",
   "name": "django_extensions"
  },
  "language_info": {
   "codemirror_mode": {
    "name": "ipython",
    "version": 3
   },
   "file_extension": ".py",
   "mimetype": "text/x-python",
   "name": "python",
   "nbconvert_exporter": "python",
   "pygments_lexer": "ipython3",
   "version": "3.6.10"
  },
  "varInspector": {
   "cols": {
    "lenName": 16,
    "lenType": 16,
    "lenVar": 40
   },
   "kernels_config": {
    "python": {
     "delete_cmd_postfix": "",
     "delete_cmd_prefix": "del ",
     "library": "var_list.py",
     "varRefreshCmd": "print(var_dic_list())"
    },
    "r": {
     "delete_cmd_postfix": ") ",
     "delete_cmd_prefix": "rm(",
     "library": "var_list.r",
     "varRefreshCmd": "cat(var_dic_list()) "
    }
   },
   "types_to_exclude": [
    "module",
    "function",
    "builtin_function_or_method",
    "instance",
    "_Feature"
   ],
   "window_display": false
  }
 },
 "nbformat": 4,
 "nbformat_minor": 4
}
