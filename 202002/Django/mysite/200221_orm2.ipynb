{
 "cells": [
  {
   "cell_type": "code",
   "execution_count": 3,
   "metadata": {
    "ExecuteTime": {
     "end_time": "2020-02-21T00:14:26.322284Z",
     "start_time": "2020-02-21T00:14:26.318233Z"
    }
   },
   "outputs": [],
   "source": [
    "from django.db import connection\n",
    "from django.contrib.auth.models import User\n",
    "from myboard import models"
   ]
  },
  {
   "cell_type": "code",
   "execution_count": 4,
   "metadata": {
    "ExecuteTime": {
     "end_time": "2020-02-21T00:14:33.561412Z",
     "start_time": "2020-02-21T00:14:33.558355Z"
    }
   },
   "outputs": [],
   "source": [
    "data = User.objects.all()"
   ]
  },
  {
   "cell_type": "code",
   "execution_count": 5,
   "metadata": {
    "ExecuteTime": {
     "end_time": "2020-02-21T00:14:36.075149Z",
     "start_time": "2020-02-21T00:14:36.021741Z"
    }
   },
   "outputs": [],
   "source": [
    "#model명?? 하면 모델 정보가 나옴.\n",
    "User??"
   ]
  },
  {
   "cell_type": "code",
   "execution_count": 6,
   "metadata": {
    "ExecuteTime": {
     "end_time": "2020-02-21T00:16:34.743919Z",
     "start_time": "2020-02-21T00:16:34.732947Z"
    }
   },
   "outputs": [],
   "source": [
    "models.Board??"
   ]
  },
  {
   "cell_type": "code",
   "execution_count": 28,
   "metadata": {
    "ExecuteTime": {
     "end_time": "2020-02-21T00:20:08.122191Z",
     "start_time": "2020-02-21T00:20:08.117242Z"
    },
    "scrolled": true
   },
   "outputs": [
    {
     "data": {
      "text/plain": [
       "{'sql': 'SELECT \"auth_user\".\"id\", \"auth_user\".\"password\", \"auth_user\".\"last_login\", \"auth_user\".\"is_superuser\", \"auth_user\".\"username\", \"auth_user\".\"first_name\", \"auth_user\".\"last_name\", \"auth_user\".\"email\", \"auth_user\".\"is_staff\", \"auth_user\".\"is_active\", \"auth_user\".\"date_joined\" FROM \"auth_user\" LIMIT 21',\n",
       " 'time': '0.001'}"
      ]
     },
     "execution_count": 28,
     "metadata": {},
     "output_type": "execute_result"
    }
   ],
   "source": [
    "#실행했던 sql history\n",
    "connection.queries[22]"
   ]
  },
  {
   "cell_type": "markdown",
   "metadata": {},
   "source": [
    "## sql 구문 실행하기"
   ]
  },
  {
   "cell_type": "code",
   "execution_count": 29,
   "metadata": {
    "ExecuteTime": {
     "end_time": "2020-02-21T00:20:59.979741Z",
     "start_time": "2020-02-21T00:20:59.973757Z"
    }
   },
   "outputs": [
    {
     "data": {
      "text/plain": [
       "<RawQuerySet: SELECT max(age) FROM myapp_user>"
      ]
     },
     "execution_count": 29,
     "metadata": {},
     "output_type": "execute_result"
    }
   ],
   "source": [
    "#table로는 할 수 없는.\n",
    "#표준 sql문으로 사용할 수 있는 방법.\n",
    "User.objects.raw('SELECT max(age) FROM myapp_user')"
   ]
  },
  {
   "cell_type": "code",
   "execution_count": null,
   "metadata": {},
   "outputs": [],
   "source": [
    "cursor = connection.cursor()\n",
    "cursor.execute('SELECT max(age) FROM myapp_user')\n",
    "max_value = cursor.fetchone()[0]  \n",
    "#fetchone:결과값을 하나만 가져온다.\n",
    "\n",
    "print(max_value)"
   ]
  },
  {
   "cell_type": "code",
   "execution_count": 38,
   "metadata": {
    "ExecuteTime": {
     "end_time": "2020-02-21T00:27:52.369444Z",
     "start_time": "2020-02-21T00:27:52.364458Z"
    }
   },
   "outputs": [
    {
     "name": "stdout",
     "output_type": "stream",
     "text": [
      "<class 'list'>\n",
      "<class 'tuple'>\n"
     ]
    }
   ],
   "source": [
    "#더 정상적인 방법.\n",
    "#cursor: sql문을 실행시킬 수 있는 개체.\n",
    "\n",
    "cursor = connection.cursor()\n",
    "cursor.execute('SELECT id, title, cnt FROM myboard_board')  #(app name)_(table name)\n",
    "results = cursor.fetchall()    #fatch:database로부터 client쪽으로 데이터를 보내줘.\n",
    "\n",
    "print(type(results))\n",
    "print(type(results[0]))"
   ]
  },
  {
   "cell_type": "code",
   "execution_count": 41,
   "metadata": {
    "ExecuteTime": {
     "end_time": "2020-02-21T00:28:32.345981Z",
     "start_time": "2020-02-21T00:28:32.340997Z"
    }
   },
   "outputs": [
    {
     "data": {
      "text/plain": [
       "(1,\n",
       " '글제목11111',\n",
       " '글제목11111',\n",
       " datetime.datetime(2020, 2, 19, 5, 23, 42, 906536),\n",
       " None,\n",
       " 15,\n",
       " 'common',\n",
       " 1,\n",
       " '')"
      ]
     },
     "execution_count": 41,
     "metadata": {},
     "output_type": "execute_result"
    }
   ],
   "source": [
    "results[0]"
   ]
  },
  {
   "cell_type": "code",
   "execution_count": 40,
   "metadata": {
    "ExecuteTime": {
     "end_time": "2020-02-21T00:28:20.657867Z",
     "start_time": "2020-02-21T00:28:20.652856Z"
    },
    "scrolled": true
   },
   "outputs": [
    {
     "name": "stdout",
     "output_type": "stream",
     "text": [
      "(1, '글제목11111', '글제목11111', datetime.datetime(2020, 2, 19, 5, 23, 42, 906536), None, 15, 'common', 1, '')\n",
      "(2, '글제목22222', '글내용22222', datetime.datetime(2020, 2, 19, 5, 23, 52, 25281), None, 6, 'common', 1, None)\n",
      "(3, '이미지테스트', '네이버로고', datetime.datetime(2020, 2, 19, 5, 54, 26, 497971), datetime.datetime(2020, 2, 19, 8, 18, 5, 636320), 25, 'common', 1, 'https://ssl.pstatic.net/sstatic/search/nlogo/20200218141411.png')\n",
      "(4, '자료실11111', '자료실11111', datetime.datetime(2020, 2, 19, 6, 45, 9, 830666), None, 13, 'data', 1, '')\n",
      "(5, '기타111111111', '기타111111111', datetime.datetime(2020, 2, 19, 6, 53, 51, 136004), None, 8, 'etc', 1, '')\n",
      "(10, '자료실22222', '자료실22222', datetime.datetime(2020, 2, 19, 8, 49, 7, 819154), None, 3, 'data', 1, '')\n",
      "(11, '자료실개자료실개', '자료실개자료실개자료실개', datetime.datetime(2020, 2, 19, 8, 51, 24, 838257), datetime.datetime(2020, 2, 20, 1, 48, 21, 464206), 4, 'data', 1, '')\n",
      "(12, '일반게시판44444444', '일반게시판44444444', datetime.datetime(2020, 2, 20, 2, 49, 22, 457267), None, 0, 'common', 1, '')\n",
      "(13, '일반게시판5555555', '일반게시판5555555', datetime.datetime(2020, 2, 20, 2, 49, 30, 815974), None, 0, 'common', 1, '')\n",
      "(14, '일반게시판66666', '일반게시판66666', datetime.datetime(2020, 2, 20, 6, 32, 30, 359600), None, 0, 'common', 1, '')\n",
      "(15, '일반7일반7일반7', '일반7일반7일반7', datetime.datetime(2020, 2, 20, 6, 32, 37, 317658), None, 0, 'common', 1, '')\n",
      "(16, '일반8일반8일반8', '일반8일반8일반8', datetime.datetime(2020, 2, 20, 6, 32, 45, 150491), None, 0, 'common', 1, '')\n"
     ]
    }
   ],
   "source": [
    "for r in results:\n",
    "    print(r)"
   ]
  },
  {
   "cell_type": "markdown",
   "metadata": {},
   "source": [
    "### fetch"
   ]
  },
  {
   "cell_type": "code",
   "execution_count": 46,
   "metadata": {
    "ExecuteTime": {
     "end_time": "2020-02-21T00:50:14.040851Z",
     "start_time": "2020-02-21T00:50:14.036862Z"
    }
   },
   "outputs": [
    {
     "name": "stdout",
     "output_type": "stream",
     "text": [
      "(1, '글제목11111', 15, 'home')\n"
     ]
    }
   ],
   "source": [
    "cursor.execute(\"\"\"\n",
    "select b.id, title, cnt, username\n",
    "from myboard_board b, auth_user u\n",
    "where b.author_id = u.id and username='home'\n",
    "\"\"\")\n",
    "\n",
    "r = cursor.fetchone()\n",
    "print(r)"
   ]
  },
  {
   "cell_type": "code",
   "execution_count": 47,
   "metadata": {
    "ExecuteTime": {
     "end_time": "2020-02-21T00:50:15.039129Z",
     "start_time": "2020-02-21T00:50:15.035907Z"
    }
   },
   "outputs": [
    {
     "name": "stdout",
     "output_type": "stream",
     "text": [
      "(2, '글제목22222', 6, 'home')\n"
     ]
    }
   ],
   "source": [
    "r = cursor.fetchone()\n",
    "print(r)"
   ]
  },
  {
   "cell_type": "code",
   "execution_count": 48,
   "metadata": {
    "ExecuteTime": {
     "end_time": "2020-02-21T00:52:57.577049Z",
     "start_time": "2020-02-21T00:52:57.572063Z"
    }
   },
   "outputs": [
    {
     "name": "stdout",
     "output_type": "stream",
     "text": [
      "[(3, '이미지테스트', 25, 'home'), (4, '자료실11111', 13, 'home'), (5, '기타111111111', 8, 'home'), (10, '자료실22222', 3, 'home'), (11, '자료실개자료실개', 4, 'home'), (12, '일반게시판44444444', 0, 'home'), (13, '일반게시판5555555', 0, 'home'), (14, '일반게시판66666', 0, 'home'), (15, '일반7일반7일반7', 0, 'home'), (16, '일반8일반8일반8', 0, 'home')]\n"
     ]
    }
   ],
   "source": [
    "r = cursor.fetchall()\n",
    "print(r)"
   ]
  },
  {
   "cell_type": "code",
   "execution_count": 49,
   "metadata": {
    "ExecuteTime": {
     "end_time": "2020-02-21T00:54:12.552494Z",
     "start_time": "2020-02-21T00:54:12.548505Z"
    }
   },
   "outputs": [
    {
     "name": "stdout",
     "output_type": "stream",
     "text": [
      "[]\n"
     ]
    }
   ],
   "source": [
    "r = cursor.fetchall()\n",
    "print(r)"
   ]
  },
  {
   "cell_type": "code",
   "execution_count": 50,
   "metadata": {
    "ExecuteTime": {
     "end_time": "2020-02-21T00:55:04.296544Z",
     "start_time": "2020-02-21T00:55:04.291528Z"
    },
    "scrolled": true
   },
   "outputs": [
    {
     "name": "stdout",
     "output_type": "stream",
     "text": [
      "(1, '글제목11111', 15, 'home')\n",
      "(2, '글제목22222', 6, 'home')\n",
      "(3, '이미지테스트', 25, 'home')\n",
      "(4, '자료실11111', 13, 'home')\n",
      "(5, '기타111111111', 8, 'home')\n",
      "(10, '자료실22222', 3, 'home')\n",
      "(11, '자료실개자료실개', 4, 'home')\n",
      "(12, '일반게시판44444444', 0, 'home')\n",
      "(13, '일반게시판5555555', 0, 'home')\n",
      "(14, '일반게시판66666', 0, 'home')\n",
      "(15, '일반7일반7일반7', 0, 'home')\n",
      "(16, '일반8일반8일반8', 0, 'home')\n"
     ]
    }
   ],
   "source": [
    "cursor.execute(\"\"\"\n",
    "select b.id, title, cnt, username\n",
    "from myboard_board b, auth_user u\n",
    "where b.author_id = u.id and username='home'\n",
    "\"\"\")\n",
    "\n",
    "results = cursor.fetchall()\n",
    "for r in results:\n",
    "    print(r)"
   ]
  },
  {
   "cell_type": "code",
   "execution_count": 51,
   "metadata": {
    "ExecuteTime": {
     "end_time": "2020-02-21T00:57:42.048916Z",
     "start_time": "2020-02-21T00:57:42.043897Z"
    }
   },
   "outputs": [
    {
     "name": "stdout",
     "output_type": "stream",
     "text": [
      "글제목11111\n",
      "글제목22222\n",
      "이미지테스트\n",
      "자료실11111\n",
      "기타111111111\n",
      "자료실22222\n",
      "자료실개자료실개\n",
      "일반게시판44444444\n",
      "일반게시판5555555\n",
      "일반게시판66666\n",
      "일반7일반7일반7\n",
      "일반8일반8일반8\n"
     ]
    }
   ],
   "source": [
    "#title 출력 시. 원칙적으로 column 이름으로 접근할 수 없다.\n",
    "for r in results:\n",
    "    print(r[1])"
   ]
  },
  {
   "cell_type": "code",
   "execution_count": 52,
   "metadata": {
    "ExecuteTime": {
     "end_time": "2020-02-21T01:19:04.256155Z",
     "start_time": "2020-02-21T01:19:04.251169Z"
    }
   },
   "outputs": [
    {
     "data": {
      "text/plain": [
       "(('id', None, None, None, None, None, None),\n",
       " ('title', None, None, None, None, None, None),\n",
       " ('cnt', None, None, None, None, None, None),\n",
       " ('username', None, None, None, None, None, None))"
      ]
     },
     "execution_count": 52,
     "metadata": {},
     "output_type": "execute_result"
    }
   ],
   "source": [
    "#현재 cursor에서의 만들어진 columns' descriptions\n",
    "cursor.description"
   ]
  },
  {
   "cell_type": "code",
   "execution_count": 53,
   "metadata": {
    "ExecuteTime": {
     "end_time": "2020-02-21T01:21:28.496501Z",
     "start_time": "2020-02-21T01:21:28.491514Z"
    }
   },
   "outputs": [
    {
     "name": "stdout",
     "output_type": "stream",
     "text": [
      "{'a': 1, 'b': 2}\n"
     ]
    }
   ],
   "source": [
    "#zip and dictionarize (key:value)\n",
    "#zip: zip element by element\n",
    "d = dict(zip(  ['a','b'], (1,2)  ))\n",
    "print(d)"
   ]
  },
  {
   "cell_type": "code",
   "execution_count": 59,
   "metadata": {
    "ExecuteTime": {
     "end_time": "2020-02-21T01:28:24.374716Z",
     "start_time": "2020-02-21T01:28:24.369730Z"
    }
   },
   "outputs": [
    {
     "name": "stdout",
     "output_type": "stream",
     "text": [
      "('a', 1)\n",
      "('b', 2)\n"
     ]
    }
   ],
   "source": [
    "#paring\n",
    "z = zip(  ['a','b'], (1,2)  )\n",
    "for v in z:\n",
    "    print(v)"
   ]
  },
  {
   "cell_type": "code",
   "execution_count": 58,
   "metadata": {
    "ExecuteTime": {
     "end_time": "2020-02-21T01:26:06.814846Z",
     "start_time": "2020-02-21T01:26:06.810857Z"
    }
   },
   "outputs": [
    {
     "name": "stdout",
     "output_type": "stream",
     "text": [
      "{'id': 1, 'title': '글제목11111', 'cnt': 15, 'username': 'home'}\n"
     ]
    }
   ],
   "source": [
    "d =dict(zip(  ['id', 'title', 'cnt', 'username'], results[0]  ))\n",
    "print(d)"
   ]
  },
  {
   "cell_type": "code",
   "execution_count": 60,
   "metadata": {
    "ExecuteTime": {
     "end_time": "2020-02-21T01:30:45.550494Z",
     "start_time": "2020-02-21T01:30:45.546527Z"
    }
   },
   "outputs": [],
   "source": [
    "def dictfetchall(cursor):\n",
    "    desc = cursor.description\n",
    "    return [\n",
    "        dict(zip([col[0] for col in desc], row))\n",
    "        for row in cursor.fetchall()\n",
    "    ]"
   ]
  },
  {
   "cell_type": "code",
   "execution_count": 62,
   "metadata": {
    "ExecuteTime": {
     "end_time": "2020-02-21T01:31:22.854952Z",
     "start_time": "2020-02-21T01:31:22.850000Z"
    }
   },
   "outputs": [
    {
     "name": "stdout",
     "output_type": "stream",
     "text": [
      "[{'id': 1, 'title': '글제목11111', 'cnt': 15, 'username': 'home'}, {'id': 2, 'title': '글제목22222', 'cnt': 6, 'username': 'home'}, {'id': 3, 'title': '이미지테스트', 'cnt': 25, 'username': 'home'}, {'id': 4, 'title': '자료실11111', 'cnt': 13, 'username': 'home'}, {'id': 5, 'title': '기타111111111', 'cnt': 8, 'username': 'home'}, {'id': 10, 'title': '자료실22222', 'cnt': 3, 'username': 'home'}, {'id': 11, 'title': '자료실개자료실개', 'cnt': 4, 'username': 'home'}, {'id': 12, 'title': '일반게시판44444444', 'cnt': 0, 'username': 'home'}, {'id': 13, 'title': '일반게시판5555555', 'cnt': 0, 'username': 'home'}, {'id': 14, 'title': '일반게시판66666', 'cnt': 0, 'username': 'home'}, {'id': 15, 'title': '일반7일반7일반7', 'cnt': 0, 'username': 'home'}, {'id': 16, 'title': '일반8일반8일반8', 'cnt': 0, 'username': 'home'}]\n"
     ]
    }
   ],
   "source": [
    "cursor.execute(\"\"\"\n",
    "select b.id, title, cnt, username\n",
    "from myboard_board b, auth_user u\n",
    "where b.author_id = u.id and username='home'\n",
    "\"\"\")\n",
    "print(dictfetchall(cursor))"
   ]
  },
  {
   "cell_type": "code",
   "execution_count": 65,
   "metadata": {
    "ExecuteTime": {
     "end_time": "2020-02-21T01:33:49.335656Z",
     "start_time": "2020-02-21T01:33:49.329663Z"
    }
   },
   "outputs": [
    {
     "name": "stdout",
     "output_type": "stream",
     "text": [
      "글제목11111\n"
     ]
    }
   ],
   "source": [
    "cursor = connection.cursor()\n",
    "cursor.execute('SELECT * from myboard_board')\n",
    "d = dictfetchall(cursor)\n",
    "print(d[0][\"title\"])"
   ]
  },
  {
   "cell_type": "code",
   "execution_count": 66,
   "metadata": {
    "ExecuteTime": {
     "end_time": "2020-02-21T01:35:15.384637Z",
     "start_time": "2020-02-21T01:35:15.377656Z"
    }
   },
   "outputs": [
    {
     "data": {
      "text/plain": [
       "[{'id': 1,\n",
       "  'title': '글제목11111',\n",
       "  'text': '글제목11111',\n",
       "  'created_date': datetime.datetime(2020, 2, 19, 5, 23, 42, 906536),\n",
       "  'published_date': None,\n",
       "  'cnt': 15,\n",
       "  'category': 'common',\n",
       "  'author_id': 1,\n",
       "  'image': ''},\n",
       " {'id': 2,\n",
       "  'title': '글제목22222',\n",
       "  'text': '글내용22222',\n",
       "  'created_date': datetime.datetime(2020, 2, 19, 5, 23, 52, 25281),\n",
       "  'published_date': None,\n",
       "  'cnt': 6,\n",
       "  'category': 'common',\n",
       "  'author_id': 1,\n",
       "  'image': None},\n",
       " {'id': 3,\n",
       "  'title': '이미지테스트',\n",
       "  'text': '네이버로고',\n",
       "  'created_date': datetime.datetime(2020, 2, 19, 5, 54, 26, 497971),\n",
       "  'published_date': datetime.datetime(2020, 2, 19, 8, 18, 5, 636320),\n",
       "  'cnt': 25,\n",
       "  'category': 'common',\n",
       "  'author_id': 1,\n",
       "  'image': 'https://ssl.pstatic.net/sstatic/search/nlogo/20200218141411.png'},\n",
       " {'id': 4,\n",
       "  'title': '자료실11111',\n",
       "  'text': '자료실11111',\n",
       "  'created_date': datetime.datetime(2020, 2, 19, 6, 45, 9, 830666),\n",
       "  'published_date': None,\n",
       "  'cnt': 13,\n",
       "  'category': 'data',\n",
       "  'author_id': 1,\n",
       "  'image': ''},\n",
       " {'id': 5,\n",
       "  'title': '기타111111111',\n",
       "  'text': '기타111111111',\n",
       "  'created_date': datetime.datetime(2020, 2, 19, 6, 53, 51, 136004),\n",
       "  'published_date': None,\n",
       "  'cnt': 8,\n",
       "  'category': 'etc',\n",
       "  'author_id': 1,\n",
       "  'image': ''},\n",
       " {'id': 10,\n",
       "  'title': '자료실22222',\n",
       "  'text': '자료실22222',\n",
       "  'created_date': datetime.datetime(2020, 2, 19, 8, 49, 7, 819154),\n",
       "  'published_date': None,\n",
       "  'cnt': 3,\n",
       "  'category': 'data',\n",
       "  'author_id': 1,\n",
       "  'image': ''},\n",
       " {'id': 11,\n",
       "  'title': '자료실개자료실개',\n",
       "  'text': '자료실개자료실개자료실개',\n",
       "  'created_date': datetime.datetime(2020, 2, 19, 8, 51, 24, 838257),\n",
       "  'published_date': datetime.datetime(2020, 2, 20, 1, 48, 21, 464206),\n",
       "  'cnt': 4,\n",
       "  'category': 'data',\n",
       "  'author_id': 1,\n",
       "  'image': ''},\n",
       " {'id': 12,\n",
       "  'title': '일반게시판44444444',\n",
       "  'text': '일반게시판44444444',\n",
       "  'created_date': datetime.datetime(2020, 2, 20, 2, 49, 22, 457267),\n",
       "  'published_date': None,\n",
       "  'cnt': 0,\n",
       "  'category': 'common',\n",
       "  'author_id': 1,\n",
       "  'image': ''},\n",
       " {'id': 13,\n",
       "  'title': '일반게시판5555555',\n",
       "  'text': '일반게시판5555555',\n",
       "  'created_date': datetime.datetime(2020, 2, 20, 2, 49, 30, 815974),\n",
       "  'published_date': None,\n",
       "  'cnt': 0,\n",
       "  'category': 'common',\n",
       "  'author_id': 1,\n",
       "  'image': ''},\n",
       " {'id': 14,\n",
       "  'title': '일반게시판66666',\n",
       "  'text': '일반게시판66666',\n",
       "  'created_date': datetime.datetime(2020, 2, 20, 6, 32, 30, 359600),\n",
       "  'published_date': None,\n",
       "  'cnt': 0,\n",
       "  'category': 'common',\n",
       "  'author_id': 1,\n",
       "  'image': ''},\n",
       " {'id': 15,\n",
       "  'title': '일반7일반7일반7',\n",
       "  'text': '일반7일반7일반7',\n",
       "  'created_date': datetime.datetime(2020, 2, 20, 6, 32, 37, 317658),\n",
       "  'published_date': None,\n",
       "  'cnt': 0,\n",
       "  'category': 'common',\n",
       "  'author_id': 1,\n",
       "  'image': ''},\n",
       " {'id': 16,\n",
       "  'title': '일반8일반8일반8',\n",
       "  'text': '일반8일반8일반8',\n",
       "  'created_date': datetime.datetime(2020, 2, 20, 6, 32, 45, 150491),\n",
       "  'published_date': None,\n",
       "  'cnt': 0,\n",
       "  'category': 'common',\n",
       "  'author_id': 1,\n",
       "  'image': ''}]"
      ]
     },
     "execution_count": 66,
     "metadata": {},
     "output_type": "execute_result"
    }
   ],
   "source": [
    "d"
   ]
  },
  {
   "cell_type": "code",
   "execution_count": 67,
   "metadata": {
    "ExecuteTime": {
     "end_time": "2020-02-21T01:41:25.599663Z",
     "start_time": "2020-02-21T01:41:25.593628Z"
    }
   },
   "outputs": [
    {
     "name": "stdout",
     "output_type": "stream",
     "text": [
      "글제목11111\n",
      "글제목22222\n",
      "이미지테스트\n",
      "자료실11111\n",
      "기타111111111\n",
      "자료실22222\n",
      "자료실개자료실개\n",
      "일반게시판44444444\n",
      "일반게시판5555555\n",
      "일반게시판66666\n",
      "일반7일반7일반7\n",
      "일반8일반8일반8\n"
     ]
    }
   ],
   "source": [
    "for i in d:\n",
    "    print(i['title'])"
   ]
  },
  {
   "cell_type": "markdown",
   "metadata": {},
   "source": [
    "## practice"
   ]
  },
  {
   "cell_type": "code",
   "execution_count": 105,
   "metadata": {
    "ExecuteTime": {
     "end_time": "2020-02-21T02:29:33.812246Z",
     "start_time": "2020-02-21T02:29:33.374349Z"
    }
   },
   "outputs": [],
   "source": [
    "from django.test import RequestFactory\n",
    "rf = RequestFactory()\n",
    "#GET data\n",
    "url = 'common/1'\n",
    "my_request = rf.get(url)"
   ]
  },
  {
   "cell_type": "code",
   "execution_count": null,
   "metadata": {},
   "outputs": [],
   "source": [
    "from myboard import views\n",
    "response = views.index(my_request)"
   ]
  },
  {
   "cell_type": "code",
   "execution_count": null,
   "metadata": {},
   "outputs": [],
   "source": [
    "#아닌듯\n",
    "request = \n",
    "from django.shortcuts import render\n",
    "class listsql(View):\n",
    "    def get(self, request, pk, mode='list', category='common'):\n",
    "        if mode == 'list':\n",
    "            username = request.session['username']\n",
    "        "
   ]
  },
  {
   "cell_type": "code",
   "execution_count": null,
   "metadata": {},
   "outputs": [],
   "source": [
    "from django.shortcuts import render"
   ]
  },
  {
   "cell_type": "code",
   "execution_count": null,
   "metadata": {},
   "outputs": [],
   "source": [
    "request = \n"
   ]
  },
  {
   "cell_type": "code",
   "execution_count": 116,
   "metadata": {
    "ExecuteTime": {
     "end_time": "2020-02-21T02:43:44.394896Z",
     "start_time": "2020-02-21T02:43:44.390853Z"
    }
   },
   "outputs": [
    {
     "name": "stdout",
     "output_type": "stream",
     "text": [
      "{'category': 'common', 'page': '2', 'username': 'home'}\n"
     ]
    }
   ],
   "source": [
    "#dictionarize\n",
    "category = 'common'\n",
    "page = '2'\n",
    "username = 'home'\n",
    "\n",
    "ddd = dict(zip(  ['category','page','username'], (category, page, username)  ))\n",
    "print(ddd)"
   ]
  },
  {
   "cell_type": "code",
   "execution_count": 129,
   "metadata": {
    "ExecuteTime": {
     "end_time": "2020-02-21T04:03:55.822760Z",
     "start_time": "2020-02-21T04:03:55.816793Z"
    }
   },
   "outputs": [
    {
     "name": "stdout",
     "output_type": "stream",
     "text": [
      "(1, '글제목11111', 15, 'home', 'common')\n",
      "(2, '글제목22222', 6, 'home', 'common')\n",
      "(3, '이미지테스트', 25, 'home', 'common')\n",
      "(12, '일반게시판44444444', 0, 'home', 'common')\n",
      "(13, '일반게시판5555555', 0, 'home', 'common')\n",
      "(14, '일반게시판66666', 0, 'home', 'common')\n",
      "(15, '일반7일반7일반7', 0, 'home', 'common')\n",
      "(16, '일반8일반8일반8', 0, 'home', 'common')\n"
     ]
    }
   ],
   "source": [
    "cursor.execute(f\"\"\"\n",
    "select b.id, title, cnt, username, category\n",
    "from myboard_board b, auth_user u\n",
    "where b.author_id = u.id and username='{username}' and category='{category}'\n",
    "\"\"\")\n",
    "\n",
    "results = cursor.fetchall()\n",
    "for r in results:\n",
    "    print(r)"
   ]
  },
  {
   "cell_type": "code",
   "execution_count": 100,
   "metadata": {
    "ExecuteTime": {
     "end_time": "2020-02-21T02:26:08.904117Z",
     "start_time": "2020-02-21T02:26:08.896138Z"
    },
    "scrolled": true
   },
   "outputs": [
    {
     "name": "stdout",
     "output_type": "stream",
     "text": [
      "글제목11111\n"
     ]
    },
    {
     "data": {
      "text/plain": [
       "[{'id': 1,\n",
       "  'title': '글제목11111',\n",
       "  'cnt': 15,\n",
       "  'username': 'home',\n",
       "  'category': 'common'},\n",
       " {'id': 2,\n",
       "  'title': '글제목22222',\n",
       "  'cnt': 6,\n",
       "  'username': 'home',\n",
       "  'category': 'common'},\n",
       " {'id': 3,\n",
       "  'title': '이미지테스트',\n",
       "  'cnt': 25,\n",
       "  'username': 'home',\n",
       "  'category': 'common'},\n",
       " {'id': 12,\n",
       "  'title': '일반게시판44444444',\n",
       "  'cnt': 0,\n",
       "  'username': 'home',\n",
       "  'category': 'common'},\n",
       " {'id': 13,\n",
       "  'title': '일반게시판5555555',\n",
       "  'cnt': 0,\n",
       "  'username': 'home',\n",
       "  'category': 'common'},\n",
       " {'id': 14,\n",
       "  'title': '일반게시판66666',\n",
       "  'cnt': 0,\n",
       "  'username': 'home',\n",
       "  'category': 'common'},\n",
       " {'id': 15,\n",
       "  'title': '일반7일반7일반7',\n",
       "  'cnt': 0,\n",
       "  'username': 'home',\n",
       "  'category': 'common'},\n",
       " {'id': 16,\n",
       "  'title': '일반8일반8일반8',\n",
       "  'cnt': 0,\n",
       "  'username': 'home',\n",
       "  'category': 'common'}]"
      ]
     },
     "execution_count": 100,
     "metadata": {},
     "output_type": "execute_result"
    }
   ],
   "source": [
    "#data\n",
    "cursor = connection.cursor()\n",
    "cursor.execute(\"\"\"\n",
    "select b.id, title, cnt, username, category\n",
    "from myboard_board b, auth_user u\n",
    "where b.author_id = u.id and username='home' and category='common'\n",
    "\"\"\")\n",
    "datas = dictfetchall(cursor)\n",
    "print(datas[0][\"title\"])\n",
    "datas"
   ]
  },
  {
   "cell_type": "code",
   "execution_count": 106,
   "metadata": {
    "ExecuteTime": {
     "end_time": "2020-02-21T02:31:00.442595Z",
     "start_time": "2020-02-21T02:31:00.438643Z"
    }
   },
   "outputs": [],
   "source": [
    "def listsql(request, category, page):\n",
    "    \n",
    "#    page = request.GET.get('page', 1)\n",
    "    #page\n",
    "    page = int(page)\n",
    "    subs = datas[(page-1)*3:(page)*3]\n",
    "    context = { 'datas':[{'title':sub['title'], 'cnt':sub['cnt'], 'username':sub['username']} for sub in subs], 'page':page }\n",
    "    \n",
    "    return render(request, 'myboard/mylistsql.html', context)"
   ]
  },
  {
   "cell_type": "code",
   "execution_count": 104,
   "metadata": {
    "ExecuteTime": {
     "end_time": "2020-02-21T02:28:48.796021Z",
     "start_time": "2020-02-21T02:28:48.790038Z"
    }
   },
   "outputs": [
    {
     "data": {
      "text/plain": [
       "{'datas': [{'title': '일반게시판44444444', 'cnt': 0, 'username': 'home'},\n",
       "  {'title': '일반게시판5555555', 'cnt': 0, 'username': 'home'},\n",
       "  {'title': '일반게시판66666', 'cnt': 0, 'username': 'home'}],\n",
       " 'page': 2}"
      ]
     },
     "execution_count": 104,
     "metadata": {},
     "output_type": "execute_result"
    }
   ],
   "source": [
    "#page = request.GET.get('page', 1)\n",
    "page = int(page)\n",
    "subs = datas[(page-1)*3:(page)*3]\n",
    "context = { 'datas':[{'title':sub['title'], 'cnt':sub['cnt'], 'username':sub['username']} for sub in subs], 'page':page }\n",
    "context"
   ]
  },
  {
   "cell_type": "code",
   "execution_count": null,
   "metadata": {},
   "outputs": [],
   "source": []
  }
 ],
 "metadata": {
  "kernelspec": {
   "display_name": "Django Shell-Plus",
   "language": "python",
   "name": "django_extensions"
  },
  "language_info": {
   "codemirror_mode": {
    "name": "ipython",
    "version": 3
   },
   "file_extension": ".py",
   "mimetype": "text/x-python",
   "name": "python",
   "nbconvert_exporter": "python",
   "pygments_lexer": "ipython3",
   "version": "3.6.10"
  },
  "varInspector": {
   "cols": {
    "lenName": 16,
    "lenType": 16,
    "lenVar": 40
   },
   "kernels_config": {
    "python": {
     "delete_cmd_postfix": "",
     "delete_cmd_prefix": "del ",
     "library": "var_list.py",
     "varRefreshCmd": "print(var_dic_list())"
    },
    "r": {
     "delete_cmd_postfix": ") ",
     "delete_cmd_prefix": "rm(",
     "library": "var_list.r",
     "varRefreshCmd": "cat(var_dic_list()) "
    }
   },
   "types_to_exclude": [
    "module",
    "function",
    "builtin_function_or_method",
    "instance",
    "_Feature"
   ],
   "window_display": false
  }
 },
 "nbformat": 4,
 "nbformat_minor": 4
}
