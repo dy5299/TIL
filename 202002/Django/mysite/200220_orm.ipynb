{
 "cells": [
  {
   "cell_type": "markdown",
   "metadata": {},
   "source": [
    "## JSON 으로 반환하기"
   ]
  },
  {
   "cell_type": "code",
   "execution_count": 5,
   "metadata": {
    "ExecuteTime": {
     "end_time": "2020-02-20T02:33:12.887112Z",
     "start_time": "2020-02-20T02:33:12.885081Z"
    }
   },
   "outputs": [],
   "source": [
    "from myboard import models\n",
    "\n"
   ]
  },
  {
   "cell_type": "code",
   "execution_count": 7,
   "metadata": {
    "ExecuteTime": {
     "end_time": "2020-02-20T02:33:27.762395Z",
     "start_time": "2020-02-20T02:33:27.757404Z"
    }
   },
   "outputs": [
    {
     "name": "stdout",
     "output_type": "stream",
     "text": [
      "<QuerySet [<Board: 글제목11111>, <Board: 글제목22222>, <Board: 이미지테스트>]>\n"
     ]
    }
   ],
   "source": [
    "page = 1\n",
    "datas = models.Board.objects.all().filter(category='common')\n",
    "print(datas)"
   ]
  },
  {
   "cell_type": "code",
   "execution_count": 9,
   "metadata": {
    "ExecuteTime": {
     "end_time": "2020-02-20T02:33:55.058785Z",
     "start_time": "2020-02-20T02:33:55.052801Z"
    }
   },
   "outputs": [
    {
     "name": "stdout",
     "output_type": "stream",
     "text": [
      "<QuerySet [<Board: 글제목11111>, <Board: 글제목22222>, <Board: 이미지테스트>]>\n"
     ]
    }
   ],
   "source": [
    "page = int(page)\n",
    "subs = datas[(page-1)*3:(page)*3]\n",
    "print(subs)"
   ]
  },
  {
   "cell_type": "code",
   "execution_count": 23,
   "metadata": {
    "ExecuteTime": {
     "end_time": "2020-02-20T02:42:18.009464Z",
     "start_time": "2020-02-20T02:42:18.005413Z"
    }
   },
   "outputs": [
    {
     "name": "stdout",
     "output_type": "stream",
     "text": [
      "{'datas': [{'pk': 1, 'title': '글제목11111', 'cnt': 15}, {'pk': 2, 'title': '글제목22222', 'cnt': 6}, {'pk': 3, 'title': '이미지테스트', 'cnt': 25}]}\n"
     ]
    }
   ],
   "source": [
    "out=[]\n",
    "output = {'datas':out}\n",
    "for sub in subs:\n",
    "    out.append({'pk':sub.pk, 'title':sub.title, 'cnt':sub.cnt})\n",
    "print(output)"
   ]
  },
  {
   "cell_type": "code",
   "execution_count": 22,
   "metadata": {
    "ExecuteTime": {
     "end_time": "2020-02-20T02:41:41.089389Z",
     "start_time": "2020-02-20T02:41:41.084384Z"
    }
   },
   "outputs": [
    {
     "name": "stdout",
     "output_type": "stream",
     "text": [
      "{'datas': [{'pk': 1, 'title': '글제목11111', 'cnt': 15}, {'pk': 2, 'title': '글제목22222', 'cnt': 6}, {'pk': 3, 'title': '이미지테스트', 'cnt': 25}]}\n"
     ]
    }
   ],
   "source": [
    "jsonoutput = {'datas':  [{'pk':sub.pk,'title':sub.title, 'cnt':sub.cnt} for sub in subs]  }\n",
    "print(jsonoutput)"
   ]
  },
  {
   "cell_type": "code",
   "execution_count": null,
   "metadata": {},
   "outputs": [],
   "source": []
  },
  {
   "cell_type": "code",
   "execution_count": null,
   "metadata": {},
   "outputs": [],
   "source": []
  }
 ],
 "metadata": {
  "kernelspec": {
   "display_name": "Django Shell-Plus",
   "language": "python",
   "name": "django_extensions"
  },
  "language_info": {
   "codemirror_mode": {
    "name": "ipython",
    "version": 3
   },
   "file_extension": ".py",
   "mimetype": "text/x-python",
   "name": "python",
   "nbconvert_exporter": "python",
   "pygments_lexer": "ipython3",
   "version": "3.6.10"
  },
  "varInspector": {
   "cols": {
    "lenName": 16,
    "lenType": 16,
    "lenVar": 40
   },
   "kernels_config": {
    "python": {
     "delete_cmd_postfix": "",
     "delete_cmd_prefix": "del ",
     "library": "var_list.py",
     "varRefreshCmd": "print(var_dic_list())"
    },
    "r": {
     "delete_cmd_postfix": ") ",
     "delete_cmd_prefix": "rm(",
     "library": "var_list.r",
     "varRefreshCmd": "cat(var_dic_list()) "
    }
   },
   "types_to_exclude": [
    "module",
    "function",
    "builtin_function_or_method",
    "instance",
    "_Feature"
   ],
   "window_display": false
  }
 },
 "nbformat": 4,
 "nbformat_minor": 4
}
