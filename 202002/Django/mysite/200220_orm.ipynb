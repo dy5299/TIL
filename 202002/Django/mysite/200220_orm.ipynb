{
 "cells": [
  {
   "cell_type": "markdown",
   "metadata": {},
   "source": [
    "## JSON 으로 반환하기"
   ]
  },
  {
   "cell_type": "code",
   "execution_count": 5,
   "metadata": {
    "ExecuteTime": {
     "end_time": "2020-02-20T02:33:12.887112Z",
     "start_time": "2020-02-20T02:33:12.885081Z"
    }
   },
   "outputs": [],
   "source": [
    "from myboard import models\n",
    "\n"
   ]
  },
  {
   "cell_type": "code",
   "execution_count": 7,
   "metadata": {
    "ExecuteTime": {
     "end_time": "2020-02-20T02:33:27.762395Z",
     "start_time": "2020-02-20T02:33:27.757404Z"
    }
   },
   "outputs": [
    {
     "name": "stdout",
     "output_type": "stream",
     "text": [
      "<QuerySet [<Board: 글제목11111>, <Board: 글제목22222>, <Board: 이미지테스트>]>\n"
     ]
    }
   ],
   "source": [
    "page = 1\n",
    "datas = models.Board.objects.all().filter(category='common')\n",
    "print(datas)"
   ]
  },
  {
   "cell_type": "code",
   "execution_count": 9,
   "metadata": {
    "ExecuteTime": {
     "end_time": "2020-02-20T02:33:55.058785Z",
     "start_time": "2020-02-20T02:33:55.052801Z"
    }
   },
   "outputs": [
    {
     "name": "stdout",
     "output_type": "stream",
     "text": [
      "<QuerySet [<Board: 글제목11111>, <Board: 글제목22222>, <Board: 이미지테스트>]>\n"
     ]
    }
   ],
   "source": [
    "page = int(page)\n",
    "subs = datas[(page-1)*3:(page)*3]\n",
    "print(subs)"
   ]
  },
  {
   "cell_type": "code",
   "execution_count": 23,
   "metadata": {
    "ExecuteTime": {
     "end_time": "2020-02-20T02:42:18.009464Z",
     "start_time": "2020-02-20T02:42:18.005413Z"
    }
   },
   "outputs": [
    {
     "name": "stdout",
     "output_type": "stream",
     "text": [
      "{'datas': [{'pk': 1, 'title': '글제목11111', 'cnt': 15}, {'pk': 2, 'title': '글제목22222', 'cnt': 6}, {'pk': 3, 'title': '이미지테스트', 'cnt': 25}]}\n"
     ]
    }
   ],
   "source": [
    "out=[]\n",
    "output = {'datas':out}\n",
    "for sub in subs:\n",
    "    out.append({'pk':sub.pk, 'title':sub.title, 'cnt':sub.cnt})\n",
    "print(output)"
   ]
  },
  {
   "cell_type": "code",
   "execution_count": 22,
   "metadata": {
    "ExecuteTime": {
     "end_time": "2020-02-20T02:41:41.089389Z",
     "start_time": "2020-02-20T02:41:41.084384Z"
    }
   },
   "outputs": [
    {
     "name": "stdout",
     "output_type": "stream",
     "text": [
      "{'datas': [{'pk': 1, 'title': '글제목11111', 'cnt': 15}, {'pk': 2, 'title': '글제목22222', 'cnt': 6}, {'pk': 3, 'title': '이미지테스트', 'cnt': 25}]}\n"
     ]
    }
   ],
   "source": [
    "jsonoutput = {'datas':  [{'pk':sub.pk,'title':sub.title, 'cnt':sub.cnt} for sub in subs]  }\n",
    "print(jsonoutput)"
   ]
  },
  {
   "cell_type": "markdown",
   "metadata": {},
   "source": [
    "# RequestFactory\n",
    "## for unit test\n",
    "RequestFactroy : Django에서 test 용으로 만든 framework"
   ]
  },
  {
   "cell_type": "code",
   "execution_count": 25,
   "metadata": {
    "ExecuteTime": {
     "end_time": "2020-02-20T07:59:02.997128Z",
     "start_time": "2020-02-20T07:59:02.993139Z"
    }
   },
   "outputs": [],
   "source": [
    "from django.test import RequestFactory\n",
    "rf = RequestFactory()"
   ]
  },
  {
   "cell_type": "code",
   "execution_count": 29,
   "metadata": {
    "ExecuteTime": {
     "end_time": "2020-02-20T08:01:58.179134Z",
     "start_time": "2020-02-20T08:01:58.175111Z"
    }
   },
   "outputs": [],
   "source": [
    "#GET data\n",
    "url = '/myboard/ajaxget?page=2'\n",
    "request = rf.get(url)"
   ]
  },
  {
   "cell_type": "code",
   "execution_count": 39,
   "metadata": {
    "ExecuteTime": {
     "end_time": "2020-02-20T08:19:34.625028Z",
     "start_time": "2020-02-20T08:19:34.616029Z"
    }
   },
   "outputs": [
    {
     "name": "stdout",
     "output_type": "stream",
     "text": [
      "2\n",
      "<QuerySet [<Board: 일반게시판44444444>, <Board: 일반게시판5555555>, <Board: 일반게시판66666>]>\n",
      "{'datas': [{'pk': 12, 'title': '일반게시판44444444', 'cnt': 0}, {'pk': 13, 'title': '일반게시판5555555', 'cnt': 0}, {'pk': 14, 'title': '일반게시판66666', 'cnt': 0}]}\n"
     ]
    }
   ],
   "source": [
    "page = request.GET.get('page', 1)\n",
    "print(page)\n",
    "\n",
    "datas = models.Board.objects.all().filter(category='common')\n",
    "page = int(page)\n",
    "subs = datas[(page-1)*3:(page)*3]\n",
    "print(subs)\n",
    "\n",
    "datas={'datas':[{'pk':data.pk, 'title':data.title, 'cnt':data.cnt} for data in subs]}\n",
    "print(datas)"
   ]
  },
  {
   "cell_type": "code",
   "execution_count": 33,
   "metadata": {
    "ExecuteTime": {
     "end_time": "2020-02-20T08:04:48.469015Z",
     "start_time": "2020-02-20T08:04:48.463950Z"
    }
   },
   "outputs": [],
   "source": [
    "from myboard import views"
   ]
  },
  {
   "cell_type": "code",
   "execution_count": 34,
   "metadata": {
    "ExecuteTime": {
     "end_time": "2020-02-20T08:05:03.178289Z",
     "start_time": "2020-02-20T08:05:03.167319Z"
    }
   },
   "outputs": [
    {
     "ename": "AttributeError",
     "evalue": "'WSGIRequest' object has no attribute 'session'",
     "output_type": "error",
     "traceback": [
      "\u001b[1;31m---------------------------------------------------------------------------\u001b[0m",
      "\u001b[1;31mAttributeError\u001b[0m                            Traceback (most recent call last)",
      "\u001b[1;32m<ipython-input-34-b18ed90e1a35>\u001b[0m in \u001b[0;36m<module>\u001b[1;34m\u001b[0m\n\u001b[1;32m----> 1\u001b[1;33m \u001b[0mresponse\u001b[0m \u001b[1;33m=\u001b[0m \u001b[0mviews\u001b[0m\u001b[1;33m.\u001b[0m\u001b[0majaxget\u001b[0m\u001b[1;33m(\u001b[0m\u001b[0mrequest\u001b[0m\u001b[1;33m)\u001b[0m\u001b[1;33m\u001b[0m\u001b[1;33m\u001b[0m\u001b[0m\n\u001b[0m\u001b[0;32m      2\u001b[0m \u001b[0mprint\u001b[0m\u001b[1;33m(\u001b[0m\u001b[0mresponse\u001b[0m\u001b[1;33m)\u001b[0m\u001b[1;33m\u001b[0m\u001b[1;33m\u001b[0m\u001b[0m\n\u001b[0;32m      3\u001b[0m \u001b[0mprint\u001b[0m\u001b[1;33m(\u001b[0m\u001b[0mresponse\u001b[0m\u001b[1;33m.\u001b[0m\u001b[0mcontent\u001b[0m\u001b[1;33m.\u001b[0m\u001b[0mdecode\u001b[0m\u001b[1;33m(\u001b[0m\u001b[1;33m)\u001b[0m\u001b[1;33m)\u001b[0m\u001b[1;33m\u001b[0m\u001b[1;33m\u001b[0m\u001b[0m\n",
      "\u001b[1;32m~\\Dropbox\\MultiCampus\\TIL\\202002\\Django\\mysite\\myboard\\views.py\u001b[0m in \u001b[0;36majaxget\u001b[1;34m(request)\u001b[0m\n\u001b[0;32m    115\u001b[0m \u001b[1;33m\u001b[0m\u001b[0m\n\u001b[0;32m    116\u001b[0m \u001b[1;32mdef\u001b[0m \u001b[0majaxget\u001b[0m\u001b[1;33m(\u001b[0m\u001b[0mrequest\u001b[0m\u001b[1;33m)\u001b[0m\u001b[1;33m:\u001b[0m\u001b[1;33m\u001b[0m\u001b[1;33m\u001b[0m\u001b[0m\n\u001b[1;32m--> 117\u001b[1;33m     \u001b[0musername\u001b[0m \u001b[1;33m=\u001b[0m \u001b[0mrequest\u001b[0m\u001b[1;33m.\u001b[0m\u001b[0msession\u001b[0m\u001b[1;33m[\u001b[0m\u001b[1;34m\"username\"\u001b[0m\u001b[1;33m]\u001b[0m\u001b[1;33m\u001b[0m\u001b[1;33m\u001b[0m\u001b[0m\n\u001b[0m\u001b[0;32m    118\u001b[0m     \u001b[0muser\u001b[0m \u001b[1;33m=\u001b[0m \u001b[0mUser\u001b[0m\u001b[1;33m.\u001b[0m\u001b[0mobjects\u001b[0m\u001b[1;33m.\u001b[0m\u001b[0mget\u001b[0m\u001b[1;33m(\u001b[0m\u001b[0musername\u001b[0m\u001b[1;33m=\u001b[0m\u001b[0musername\u001b[0m\u001b[1;33m)\u001b[0m\u001b[1;33m\u001b[0m\u001b[1;33m\u001b[0m\u001b[0m\n\u001b[0;32m    119\u001b[0m \u001b[1;33m\u001b[0m\u001b[0m\n",
      "\u001b[1;31mAttributeError\u001b[0m: 'WSGIRequest' object has no attribute 'session'"
     ]
    }
   ],
   "source": [
    "username\n",
    "response = views.ajaxget(request)\n",
    "print(response)\n",
    "print(response.content.decode())\n",
    "#response.content 는 byte type 이라서 decode() 함수로 볼 수 있게 변환."
   ]
  },
  {
   "cell_type": "code",
   "execution_count": 44,
   "metadata": {
    "ExecuteTime": {
     "end_time": "2020-02-20T08:20:47.947034Z",
     "start_time": "2020-02-20T08:20:47.943083Z"
    }
   },
   "outputs": [],
   "source": [
    "from django.shortcuts import render, redirect, get_object_or_404\n",
    "from django.core.paginator import Paginator"
   ]
  },
  {
   "cell_type": "code",
   "execution_count": 52,
   "metadata": {
    "ExecuteTime": {
     "end_time": "2020-02-20T08:26:05.613182Z",
     "start_time": "2020-02-20T08:26:05.599690Z"
    }
   },
   "outputs": [
    {
     "name": "stdout",
     "output_type": "stream",
     "text": [
      "<django.core.paginator.Paginator object at 0x0000024184D34780>\n"
     ]
    },
    {
     "name": "stderr",
     "output_type": "stream",
     "text": [
      "C:\\Users\\student\\.conda\\envs\\py36\\lib\\site-packages\\ipykernel_launcher.py:4: UnorderedObjectListWarning: Pagination may yield inconsistent results with an unordered object_list: <class 'myboard.models.Board'> QuerySet.\n",
      "  after removing the cwd from sys.path.\n"
     ]
    }
   ],
   "source": [
    "datas = models.Board.objects.all().filter(category='common')\n",
    "\n",
    "page = request.GET.get('page', 1)\n",
    "p = Paginator(datas, 2)\n",
    "print(p)"
   ]
  },
  {
   "cell_type": "code",
   "execution_count": 53,
   "metadata": {
    "ExecuteTime": {
     "end_time": "2020-02-20T08:26:17.571842Z",
     "start_time": "2020-02-20T08:26:17.566866Z"
    }
   },
   "outputs": [
    {
     "name": "stdout",
     "output_type": "stream",
     "text": [
      "<Page 2 of 4>\n"
     ]
    }
   ],
   "source": [
    "subs = p.page(page)\n",
    "print(subs)"
   ]
  },
  {
   "cell_type": "code",
   "execution_count": 49,
   "metadata": {
    "ExecuteTime": {
     "end_time": "2020-02-20T08:24:47.582851Z",
     "start_time": "2020-02-20T08:24:47.574857Z"
    },
    "scrolled": true
   },
   "outputs": [
    {
     "name": "stdout",
     "output_type": "stream",
     "text": [
      "<HttpResponse status_code=200, \"text/html; charset=utf-8\">\n"
     ]
    },
    {
     "name": "stderr",
     "output_type": "stream",
     "text": [
      "C:\\Users\\student\\.conda\\envs\\py36\\lib\\site-packages\\ipykernel_launcher.py:4: UnorderedObjectListWarning: Pagination may yield inconsistent results with an unordered object_list: <class 'myboard.models.Board'> QuerySet.\n",
      "  after removing the cwd from sys.path.\n"
     ]
    }
   ],
   "source": [
    "response = render(request, 'myboard/page_test.html', {'datas':subs})\n",
    "print(response)"
   ]
  },
  {
   "cell_type": "code",
   "execution_count": 41,
   "metadata": {
    "ExecuteTime": {
     "end_time": "2020-02-20T08:20:05.236564Z",
     "start_time": "2020-02-20T08:20:05.223041Z"
    }
   },
   "outputs": [
    {
     "data": {
      "text/plain": [
       "'2'"
      ]
     },
     "execution_count": 41,
     "metadata": {},
     "output_type": "execute_result"
    }
   ],
   "source": [
    "page"
   ]
  },
  {
   "cell_type": "code",
   "execution_count": 57,
   "metadata": {
    "ExecuteTime": {
     "end_time": "2020-02-20T08:30:40.011852Z",
     "start_time": "2020-02-20T08:30:40.001918Z"
    }
   },
   "outputs": [
    {
     "ename": "AttributeError",
     "evalue": "'WSGIRequest' object has no attribute 'session'",
     "output_type": "error",
     "traceback": [
      "\u001b[1;31m---------------------------------------------------------------------------\u001b[0m",
      "\u001b[1;31mAttributeError\u001b[0m                            Traceback (most recent call last)",
      "\u001b[1;32m<ipython-input-57-f39a22332f08>\u001b[0m in \u001b[0;36m<module>\u001b[1;34m\u001b[0m\n\u001b[0;32m      1\u001b[0m \u001b[0murl\u001b[0m \u001b[1;33m=\u001b[0m \u001b[1;34m'/myboard/ajaxget?page=2'\u001b[0m\u001b[1;33m\u001b[0m\u001b[1;33m\u001b[0m\u001b[0m\n\u001b[0;32m      2\u001b[0m \u001b[0mrequest\u001b[0m \u001b[1;33m=\u001b[0m \u001b[0mrf\u001b[0m\u001b[1;33m.\u001b[0m\u001b[0mget\u001b[0m\u001b[1;33m(\u001b[0m\u001b[0murl\u001b[0m\u001b[1;33m)\u001b[0m\u001b[1;33m\u001b[0m\u001b[1;33m\u001b[0m\u001b[0m\n\u001b[1;32m----> 3\u001b[1;33m \u001b[0mrequest\u001b[0m\u001b[1;33m.\u001b[0m\u001b[0msession\u001b[0m\u001b[1;33m[\u001b[0m\u001b[1;34m\"username\"\u001b[0m\u001b[1;33m]\u001b[0m \u001b[1;33m=\u001b[0m \u001b[1;34m'home'\u001b[0m\u001b[1;33m\u001b[0m\u001b[1;33m\u001b[0m\u001b[0m\n\u001b[0m",
      "\u001b[1;31mAttributeError\u001b[0m: 'WSGIRequest' object has no attribute 'session'"
     ]
    }
   ],
   "source": [
    "url = '/myboard/ajaxget?page=2'\n",
    "request = rf.get(url)\n",
    "request.session[\"username\"] = 'home'"
   ]
  },
  {
   "cell_type": "code",
   "execution_count": null,
   "metadata": {},
   "outputs": [],
   "source": []
  }
 ],
 "metadata": {
  "kernelspec": {
   "display_name": "Django Shell-Plus",
   "language": "python",
   "name": "django_extensions"
  },
  "language_info": {
   "codemirror_mode": {
    "name": "ipython",
    "version": 3
   },
   "file_extension": ".py",
   "mimetype": "text/x-python",
   "name": "python",
   "nbconvert_exporter": "python",
   "pygments_lexer": "ipython3",
   "version": "3.6.10"
  },
  "varInspector": {
   "cols": {
    "lenName": 16,
    "lenType": 16,
    "lenVar": 40
   },
   "kernels_config": {
    "python": {
     "delete_cmd_postfix": "",
     "delete_cmd_prefix": "del ",
     "library": "var_list.py",
     "varRefreshCmd": "print(var_dic_list())"
    },
    "r": {
     "delete_cmd_postfix": ") ",
     "delete_cmd_prefix": "rm(",
     "library": "var_list.r",
     "varRefreshCmd": "cat(var_dic_list()) "
    }
   },
   "types_to_exclude": [
    "module",
    "function",
    "builtin_function_or_method",
    "instance",
    "_Feature"
   ],
   "window_display": false
  }
 },
 "nbformat": 4,
 "nbformat_minor": 4
}
