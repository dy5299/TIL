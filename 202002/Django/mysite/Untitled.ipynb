{
 "cells": [
  {
   "cell_type": "code",
   "execution_count": 5,
   "metadata": {
    "ExecuteTime": {
     "end_time": "2020-02-17T06:19:55.859357Z",
     "start_time": "2020-02-17T06:19:55.854412Z"
    }
   },
   "outputs": [],
   "source": [
    "from mydb.models import User2\n",
    "data = User2.objects.all()\n",
    "for d in data: print(d)"
   ]
  },
  {
   "cell_type": "code",
   "execution_count": 31,
   "metadata": {
    "ExecuteTime": {
     "end_time": "2020-02-17T06:46:17.393511Z",
     "start_time": "2020-02-17T06:46:17.389522Z"
    }
   },
   "outputs": [],
   "source": [
    "from myapp.models import User\n",
    "from django.db.models import Q"
   ]
  },
  {
   "cell_type": "code",
   "execution_count": 27,
   "metadata": {
    "ExecuteTime": {
     "end_time": "2020-02-17T06:37:57.442982Z",
     "start_time": "2020-02-17T06:37:57.438943Z"
    }
   },
   "outputs": [
    {
     "name": "stdout",
     "output_type": "stream",
     "text": [
      "kim / 김유신 / 50\n",
      "kim2 / 김유신2 / 10\n"
     ]
    }
   ],
   "source": [
    "data = User.objects.all()\n",
    "\n",
    "for d in data: print(d)"
   ]
  },
  {
   "cell_type": "code",
   "execution_count": 9,
   "metadata": {
    "ExecuteTime": {
     "end_time": "2020-02-17T06:30:33.722625Z",
     "start_time": "2020-02-17T06:30:33.717639Z"
    }
   },
   "outputs": [
    {
     "name": "stdout",
     "output_type": "stream",
     "text": [
      "50\n",
      "김유신\n"
     ]
    }
   ],
   "source": [
    "print(data[0].age)\n",
    "print(data[0].name)"
   ]
  },
  {
   "cell_type": "code",
   "execution_count": 11,
   "metadata": {
    "ExecuteTime": {
     "end_time": "2020-02-17T06:31:30.466648Z",
     "start_time": "2020-02-17T06:31:30.462676Z"
    }
   },
   "outputs": [
    {
     "name": "stdout",
     "output_type": "stream",
     "text": [
      "kim2 / 김유신2 / 10\n"
     ]
    }
   ],
   "source": [
    "for d in data:\n",
    "    if d.age < 20 : print(d)"
   ]
  },
  {
   "cell_type": "code",
   "execution_count": 25,
   "metadata": {
    "ExecuteTime": {
     "end_time": "2020-02-17T06:37:41.340272Z",
     "start_time": "2020-02-17T06:37:41.334134Z"
    }
   },
   "outputs": [
    {
     "name": "stdout",
     "output_type": "stream",
     "text": [
      "<QuerySet [<User: kim / 김유신 / 50>]>\n"
     ]
    }
   ],
   "source": [
    "print(data.filter(age__gte=50))    #gte, lte"
   ]
  },
  {
   "cell_type": "code",
   "execution_count": 29,
   "metadata": {
    "ExecuteTime": {
     "end_time": "2020-02-17T06:38:23.035798Z",
     "start_time": "2020-02-17T06:38:23.029838Z"
    }
   },
   "outputs": [
    {
     "name": "stdout",
     "output_type": "stream",
     "text": [
      "<QuerySet [<User: kim / 김유신 / 50>]>\n",
      "<QuerySet [<User: kim / 김유신 / 50>]>\n"
     ]
    }
   ],
   "source": [
    "print(data.filter(name='김유신', age__gte=50))\n",
    "print(data.filter(name='김유신').filter(age__gte=50))"
   ]
  },
  {
   "cell_type": "code",
   "execution_count": null,
   "metadata": {},
   "outputs": [],
   "source": [
    "print(data.filter(name__contains='김'))\n",
    "print(data.filter(name_icontains='김'))    #ignore 대소문자\n"
   ]
  },
  {
   "cell_type": "code",
   "execution_count": 32,
   "metadata": {
    "ExecuteTime": {
     "end_time": "2020-02-17T06:46:20.555356Z",
     "start_time": "2020-02-17T06:46:20.549372Z"
    }
   },
   "outputs": [
    {
     "data": {
      "text/plain": [
       "<QuerySet [<User: kim / 김유신 / 50>, <User: kim2 / 김유신2 / 10>]>"
      ]
     },
     "execution_count": 32,
     "metadata": {},
     "output_type": "execute_result"
    }
   ],
   "source": [
    "data.filter(  Q(age__gte=50) | Q(name__contains='유')  )"
   ]
  },
  {
   "cell_type": "code",
   "execution_count": null,
   "metadata": {},
   "outputs": [],
   "source": []
  }
 ],
 "metadata": {
  "kernelspec": {
   "display_name": "Django Shell-Plus",
   "language": "python",
   "name": "django_extensions"
  },
  "language_info": {
   "codemirror_mode": {
    "name": "ipython",
    "version": 3
   },
   "file_extension": ".py",
   "mimetype": "text/x-python",
   "name": "python",
   "nbconvert_exporter": "python",
   "pygments_lexer": "ipython3",
   "version": "3.6.10"
  },
  "varInspector": {
   "cols": {
    "lenName": 16,
    "lenType": 16,
    "lenVar": 40
   },
   "kernels_config": {
    "python": {
     "delete_cmd_postfix": "",
     "delete_cmd_prefix": "del ",
     "library": "var_list.py",
     "varRefreshCmd": "print(var_dic_list())"
    },
    "r": {
     "delete_cmd_postfix": ") ",
     "delete_cmd_prefix": "rm(",
     "library": "var_list.r",
     "varRefreshCmd": "cat(var_dic_list()) "
    }
   },
   "types_to_exclude": [
    "module",
    "function",
    "builtin_function_or_method",
    "instance",
    "_Feature"
   ],
   "window_display": false
  }
 },
 "nbformat": 4,
 "nbformat_minor": 4
}
