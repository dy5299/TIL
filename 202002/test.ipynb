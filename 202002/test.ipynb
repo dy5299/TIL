{
 "cells": [
  {
   "cell_type": "code",
   "execution_count": 22,
   "metadata": {
    "ExecuteTime": {
     "end_time": "2020-02-12T01:53:36.025574Z",
     "start_time": "2020-02-12T01:53:36.019590Z"
    }
   },
   "outputs": [
    {
     "name": "stdout",
     "output_type": "stream",
     "text": [
      "[{'img': 'book2.jpg', 'title': '책데이터'}, {'img': 'dog.jpg', 'title': '개영상테스트'}, {'img': 'single.jpeg', 'title': '사람'}]\n"
     ]
    }
   ],
   "source": [
    "listData = [\"book2.jpg\", \"dog.jpg\", \"single.jpeg\"]\n",
    "listTitle = ['책데이터','개영상테스트','사람']\n",
    "\n",
    "listDict = []\n",
    "\n",
    "for i in range(len(listData)):\n",
    "    listDict.append({'img':listData[i], 'title':listTitle[i]})\n",
    "\n",
    "\n",
    "print(listDict)"
   ]
  },
  {
   "cell_type": "code",
   "execution_count": 13,
   "metadata": {
    "ExecuteTime": {
     "end_time": "2020-02-12T01:43:53.566634Z",
     "start_time": "2020-02-12T01:43:53.561694Z"
    }
   },
   "outputs": [
    {
     "name": "stdout",
     "output_type": "stream",
     "text": [
      "book2.jpg\n",
      "dog.jpg\n",
      "single.jpeg\n"
     ]
    }
   ],
   "source": [
    "for i in listData :\n",
    "    print(i)"
   ]
  },
  {
   "cell_type": "code",
   "execution_count": null,
   "metadata": {},
   "outputs": [],
   "source": [
    "]"
   ]
  }
 ],
 "metadata": {
  "kernelspec": {
   "display_name": "Python 3",
   "language": "python",
   "name": "python3"
  },
  "language_info": {
   "codemirror_mode": {
    "name": "ipython",
    "version": 3
   },
   "file_extension": ".py",
   "mimetype": "text/x-python",
   "name": "python",
   "nbconvert_exporter": "python",
   "pygments_lexer": "ipython3",
   "version": "3.6.10"
  },
  "varInspector": {
   "cols": {
    "lenName": 16,
    "lenType": 16,
    "lenVar": 40
   },
   "kernels_config": {
    "python": {
     "delete_cmd_postfix": "",
     "delete_cmd_prefix": "del ",
     "library": "var_list.py",
     "varRefreshCmd": "print(var_dic_list())"
    },
    "r": {
     "delete_cmd_postfix": ") ",
     "delete_cmd_prefix": "rm(",
     "library": "var_list.r",
     "varRefreshCmd": "cat(var_dic_list()) "
    }
   },
   "types_to_exclude": [
    "module",
    "function",
    "builtin_function_or_method",
    "instance",
    "_Feature"
   ],
   "window_display": false
  }
 },
 "nbformat": 4,
 "nbformat_minor": 4
}
