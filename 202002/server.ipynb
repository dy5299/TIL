{
 "cells": [
  {
   "cell_type": "code",
   "execution_count": 2,
   "metadata": {
    "ExecuteTime": {
     "end_time": "2020-02-11T01:17:44.600936Z",
     "start_time": "2020-02-11T01:17:42.579428Z"
    }
   },
   "outputs": [
    {
     "name": "stdout",
     "output_type": "stream",
     "text": [
      "listening...\n",
      "accepting\n",
      "receive : hello\n",
      "send data\n",
      "종료\n"
     ]
    }
   ],
   "source": [
    "import socket\n",
    "\n",
    "server_socket = socket.socket(socket.AF_INET, socket.SOCK_STREAM)  \n",
    "#소켓이 꼭 TCPIP만 의미하는 것은 아니고 여러가지 통신방법이 있다.\n",
    "#파라미터가 두 개 - 첫번째는 IP를 쓰겠다\n",
    "#두번째는 TCP/UCP인데 STREAM은 TCP방법을 쓰겠다\n",
    "\n",
    "server_socket.bind(('localhost', 12345))    #IP, 포트번호\n",
    "server_socket.listen(0)                     #포트번호를 listening. 동시에 소켓을 몇개까지 연결할 건지. 0은 automatically\n",
    "#대기모드\n",
    "print('listening...')\n",
    "\n",
    "client_socket, addr = server_socket.accept() #클라이언트 접속될 때까지는 대기상태\n",
    "print('accepting')\n",
    "data =client_socket.recv(65535) #클라이언트 접속이 되면 데이터를 읽어들임.\n",
    "#데이터는(패킷은) 최대 64k. 더 작을수도 클 수도 있는데, 크면 쪼개서 전송된다.\n",
    "\n",
    "print('receive : ' + data.decode())  #unicode to 한글\n",
    "\n",
    "client_socket.send(data)\n",
    "print('send data')\n",
    "client_socket.close()\n",
    "print('종료')"
   ]
  },
  {
   "cell_type": "code",
   "execution_count": null,
   "metadata": {},
   "outputs": [],
   "source": []
  }
 ],
 "metadata": {
  "kernelspec": {
   "display_name": "Python 3",
   "language": "python",
   "name": "python3"
  },
  "language_info": {
   "codemirror_mode": {
    "name": "ipython",
    "version": 3
   },
   "file_extension": ".py",
   "mimetype": "text/x-python",
   "name": "python",
   "nbconvert_exporter": "python",
   "pygments_lexer": "ipython3",
   "version": "3.6.10"
  },
  "varInspector": {
   "cols": {
    "lenName": 16,
    "lenType": 16,
    "lenVar": 40
   },
   "kernels_config": {
    "python": {
     "delete_cmd_postfix": "",
     "delete_cmd_prefix": "del ",
     "library": "var_list.py",
     "varRefreshCmd": "print(var_dic_list())"
    },
    "r": {
     "delete_cmd_postfix": ") ",
     "delete_cmd_prefix": "rm(",
     "library": "var_list.r",
     "varRefreshCmd": "cat(var_dic_list()) "
    }
   },
   "types_to_exclude": [
    "module",
    "function",
    "builtin_function_or_method",
    "instance",
    "_Feature"
   ],
   "window_display": false
  }
 },
 "nbformat": 4,
 "nbformat_minor": 4
}
