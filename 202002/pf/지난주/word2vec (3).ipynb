{
 "cells": [
  {
   "cell_type": "code",
   "execution_count": 28,
   "metadata": {
    "ExecuteTime": {
     "end_time": "2020-02-10T05:20:22.495426Z",
     "start_time": "2020-02-10T05:20:22.491414Z"
    }
   },
   "outputs": [],
   "source": [
    "from gensim.models import Word2Vec\n",
    "import matplotlib.pyplot as plt\n",
    "import codecs\n",
    "from konlpy.tag import Twitter\n",
    "from gensim.models import word2vec\n",
    "from konlpy.utils import pprint\n",
    "from sklearn.manifold import TSNE\n",
    "from konlpy.tag import Okt"
   ]
  },
  {
   "cell_type": "code",
   "execution_count": 9,
   "metadata": {
    "ExecuteTime": {
     "end_time": "2020-02-10T04:36:05.318883Z",
     "start_time": "2020-02-10T04:36:05.301674Z"
    }
   },
   "outputs": [],
   "source": [
    "sentences = [\n",
    "                ['this', 'is', 'a',   'good',      'product'],\n",
    "                ['it',   'is', 'a',   'excellent', 'product'],\n",
    "                ['it',   'is', 'a',   'bad',       'product'],\n",
    "                ['that', 'is', 'the', 'worst',     'product']\n",
    "            ]\n",
    "\n",
    "# 문장을 이용하여 단어와 벡터를 생성한다.\n",
    "model = Word2Vec(sentences, size=5, window=3, min_count=2)"
   ]
  },
  {
   "cell_type": "code",
   "execution_count": 10,
   "metadata": {
    "ExecuteTime": {
     "end_time": "2020-02-10T04:36:07.616628Z",
     "start_time": "2020-02-10T04:36:07.612659Z"
    }
   },
   "outputs": [],
   "source": [
    "# 단어벡터를 구한다.\n",
    "word_vectors = model.wv"
   ]
  },
  {
   "cell_type": "code",
   "execution_count": 11,
   "metadata": {
    "ExecuteTime": {
     "end_time": "2020-02-10T04:36:10.538341Z",
     "start_time": "2020-02-10T04:36:10.534341Z"
    }
   },
   "outputs": [
    {
     "name": "stdout",
     "output_type": "stream",
     "text": [
      "[-0.03467268 -0.02284146 -0.05520487  0.09286432 -0.07780986]\n",
      "[-0.08328155  0.09069994  0.02411258 -0.03890152  0.00899796]\n"
     ]
    }
   ],
   "source": [
    "print(word_vectors[\"this\"])\n",
    "print(word_vectors[\"the\"])"
   ]
  },
  {
   "cell_type": "code",
   "execution_count": 12,
   "metadata": {
    "ExecuteTime": {
     "end_time": "2020-02-10T04:38:00.776950Z",
     "start_time": "2020-02-10T04:38:00.772932Z"
    }
   },
   "outputs": [
    {
     "name": "stdout",
     "output_type": "stream",
     "text": [
      "dict_keys(['this', 'is', 'a', 'good', 'product', 'it', 'excellent', 'bad', 'that', 'the', 'worst'])\n"
     ]
    }
   ],
   "source": [
    "vocabs = word_vectors.vocab.keys()\n",
    "print(vocabs)"
   ]
  },
  {
   "cell_type": "code",
   "execution_count": 13,
   "metadata": {
    "ExecuteTime": {
     "end_time": "2020-02-10T04:39:35.177426Z",
     "start_time": "2020-02-10T04:39:35.172426Z"
    }
   },
   "outputs": [
    {
     "name": "stdout",
     "output_type": "stream",
     "text": [
      "[array([-0.03467268, -0.02284146, -0.05520487,  0.09286432, -0.07780986],\n",
      "      dtype=float32), array([-0.07090758,  0.01385371, -0.07457203,  0.03248972, -0.00561957],\n",
      "      dtype=float32), array([-0.06244394, -0.02554464,  0.07506856,  0.05721265,  0.00461775],\n",
      "      dtype=float32), array([-0.0053714 , -0.03891823,  0.07421409,  0.0246501 ,  0.09653606],\n",
      "      dtype=float32), array([ 0.02971243,  0.05420927, -0.05840307, -0.09615362, -0.07145891],\n",
      "      dtype=float32), array([-0.06298639,  0.06858068, -0.05275228, -0.0385045 , -0.00345044],\n",
      "      dtype=float32), array([ 0.02155421,  0.04375936,  0.03116042, -0.06709851,  0.08650323],\n",
      "      dtype=float32), array([-0.06046551, -0.07812412,  0.09120128,  0.01563613, -0.08869836],\n",
      "      dtype=float32), array([0.04990771, 0.04529371, 0.01736359, 0.01791992, 0.07686808],\n",
      "      dtype=float32), array([-0.08328155,  0.09069994,  0.02411258, -0.03890152,  0.00899796],\n",
      "      dtype=float32), array([-0.0255856 , -0.01889793, -0.04528805, -0.01208271,  0.03439252],\n",
      "      dtype=float32)]\n"
     ]
    }
   ],
   "source": [
    "word_vectors_list = [word_vectors[v] for v in vocabs]\n",
    "print(word_vectors_list)"
   ]
  },
  {
   "cell_type": "code",
   "execution_count": 19,
   "metadata": {
    "ExecuteTime": {
     "end_time": "2020-02-10T04:49:17.534967Z",
     "start_time": "2020-02-10T04:49:17.530009Z"
    }
   },
   "outputs": [
    {
     "name": "stdout",
     "output_type": "stream",
     "text": [
      "0.778262\n"
     ]
    }
   ],
   "source": [
    "print(model.wv.similarity(w1='it', w2='the'))"
   ]
  },
  {
   "cell_type": "code",
   "execution_count": 20,
   "metadata": {
    "ExecuteTime": {
     "end_time": "2020-02-10T04:49:23.302718Z",
     "start_time": "2020-02-10T04:49:23.298767Z"
    }
   },
   "outputs": [
    {
     "data": {
      "text/plain": [
       "[('the', 0.7782620191574097),\n",
       " ('is', 0.6549232602119446),\n",
       " ('product', 0.5309462547302246),\n",
       " ('worst', 0.40462198853492737),\n",
       " ('excellent', 0.1621410995721817),\n",
       " ('this', 0.014013886451721191),\n",
       " ('that', -0.15937910974025726),\n",
       " ('a', -0.30257630348205566),\n",
       " ('bad', -0.36147594451904297),\n",
       " ('good', -0.5077275633811951)]"
      ]
     },
     "execution_count": 20,
     "metadata": {},
     "output_type": "execute_result"
    }
   ],
   "source": [
    "model.wv.most_similar('it')"
   ]
  },
  {
   "cell_type": "code",
   "execution_count": 23,
   "metadata": {
    "ExecuteTime": {
     "end_time": "2020-02-10T05:14:16.115106Z",
     "start_time": "2020-02-10T05:14:15.812825Z"
    }
   },
   "outputs": [],
   "source": [
    "#파일 읽기 함수. 첫줄 헤더를 제외하고 한 줄씩 읽어서 data 에 담아서 리턴 한다.\n",
    "def read_data(filename):\n",
    "    with open(filename, encoding='utf-8', mode='r') as f:\n",
    "        data = [line.split('\\t') for line in f.read().splitlines()]\n",
    "        data = data[1:]   # header 제외\n",
    "    return data\n",
    "\n",
    "ratings_train = read_data('ratings_train.txt')"
   ]
  },
  {
   "cell_type": "code",
   "execution_count": 25,
   "metadata": {
    "ExecuteTime": {
     "end_time": "2020-02-10T05:19:20.114468Z",
     "start_time": "2020-02-10T05:19:20.110507Z"
    }
   },
   "outputs": [
    {
     "name": "stdout",
     "output_type": "stream",
     "text": [
      "['9976970', '아 더빙.. 진짜 짜증나네요 목소리', '0']\n"
     ]
    }
   ],
   "source": [
    "print(ratings_train[0])"
   ]
  },
  {
   "cell_type": "code",
   "execution_count": 29,
   "metadata": {
    "ExecuteTime": {
     "end_time": "2020-02-10T05:20:28.168658Z",
     "start_time": "2020-02-10T05:20:28.059506Z"
    }
   },
   "outputs": [],
   "source": [
    "okt = Okt()\n",
    "def tokens(doc):\n",
    "    return ['/'.join(t) for t in okt.pos(doc, norm=True, stem=True)]"
   ]
  },
  {
   "cell_type": "code",
   "execution_count": 30,
   "metadata": {
    "ExecuteTime": {
     "end_time": "2020-02-10T05:20:32.949257Z",
     "start_time": "2020-02-10T05:20:30.323253Z"
    }
   },
   "outputs": [
    {
     "data": {
      "text/plain": [
       "['아/Exclamation',\n",
       " '더빙/Noun',\n",
       " '../Punctuation',\n",
       " '진짜/Noun',\n",
       " '짜증나다/Adjective',\n",
       " '목소리/Noun']"
      ]
     },
     "execution_count": 30,
     "metadata": {},
     "output_type": "execute_result"
    }
   ],
   "source": [
    "tokens('아 더빙.. 진짜 짜증나네요 목소리')"
   ]
  },
  {
   "cell_type": "code",
   "execution_count": 31,
   "metadata": {
    "ExecuteTime": {
     "end_time": "2020-02-10T05:22:27.590123Z",
     "start_time": "2020-02-10T05:22:27.564118Z"
    }
   },
   "outputs": [
    {
     "name": "stdout",
     "output_type": "stream",
     "text": [
      "['아 더빙.. 진짜 짜증나네요 목소리', '흠...포스터보고 초딩영화줄....오버연기조차 가볍지 않구나', '너무재밓었다그래서보는것을추천한다', '교도소 이야기구먼 ..솔직히 재미는 없다..평점 조정', '사이몬페그의 익살스런 연기가 돋보였던 영화!스파이더맨에서 늙어보이기만 했던 커스틴 던스트가 너무나도 이뻐보였다', '막 걸음마 뗀 3세부터 초등학교 1학년생인 8살용영화.ㅋㅋㅋ...별반개도 아까움.', '원작의 긴장감을 제대로 살려내지못했다.', '별 반개도 아깝다 욕나온다 이응경 길용우 연기생활이몇년인지..정말 발로해도 그것보단 낫겟다 납치.감금만반복반복..이드라마는 가족도없다 연기못하는사람만모엿네', '액션이 없는데도 재미 있는 몇안되는 영화', '왜케 평점이 낮은건데? 꽤 볼만한데.. 헐리우드식 화려함에만 너무 길들여져 있나?']\n"
     ]
    }
   ],
   "source": [
    "# 파일중에서 영화 리뷰 데이타만 담기\n",
    "docs = []\n",
    "for row in ratings_train:\n",
    "    docs.append(row[1])\n",
    "print(docs[:10])"
   ]
  },
  {
   "cell_type": "code",
   "execution_count": null,
   "metadata": {
    "ExecuteTime": {
     "start_time": "2020-02-10T05:23:31.825Z"
    }
   },
   "outputs": [],
   "source": [
    "data = [tokens(d) for d in docs]"
   ]
  }
 ],
 "metadata": {
  "kernelspec": {
   "display_name": "Python 3",
   "language": "python",
   "name": "python3"
  },
  "language_info": {
   "codemirror_mode": {
    "name": "ipython",
    "version": 3
   },
   "file_extension": ".py",
   "mimetype": "text/x-python",
   "name": "python",
   "nbconvert_exporter": "python",
   "pygments_lexer": "ipython3",
   "version": "3.6.10"
  },
  "varInspector": {
   "cols": {
    "lenName": 16,
    "lenType": 16,
    "lenVar": 40
   },
   "kernels_config": {
    "python": {
     "delete_cmd_postfix": "",
     "delete_cmd_prefix": "del ",
     "library": "var_list.py",
     "varRefreshCmd": "print(var_dic_list())"
    },
    "r": {
     "delete_cmd_postfix": ") ",
     "delete_cmd_prefix": "rm(",
     "library": "var_list.r",
     "varRefreshCmd": "cat(var_dic_list()) "
    }
   },
   "types_to_exclude": [
    "module",
    "function",
    "builtin_function_or_method",
    "instance",
    "_Feature"
   ],
   "window_display": false
  }
 },
 "nbformat": 4,
 "nbformat_minor": 2
}
