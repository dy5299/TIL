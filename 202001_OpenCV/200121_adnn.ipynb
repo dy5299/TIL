{
 "cells": [
  {
   "cell_type": "markdown",
   "metadata": {},
   "source": [
    "# Advanced MLP\n",
    "(Multi-Layer Perceptron)\n",
    "\n",
    "- Advanced techniques for training neural networks\n",
    "  - Weight Initialization\n",
    "  - Nonlinearity (Activation function)\n",
    "  - Optimizers\n",
    "  - Batch Normalization\n",
    "  - Dropout (Regularization)\n",
    "  - Model Ensemble"
   ]
  },
  {
   "cell_type": "code",
   "execution_count": 1,
   "metadata": {},
   "outputs": [
    {
     "name": "stderr",
     "output_type": "stream",
     "text": [
      "Using TensorFlow backend.\n"
     ]
    }
   ],
   "source": [
    "import matplotlib.pyplot as plt\n",
    "from sklearn.model_selection import train_test_split\n",
    "from keras.datasets import mnist\n",
    "from keras.models import Sequential\n",
    "from keras.utils.np_utils import to_categorical\n",
    "from keras.models import Sequential\n",
    "from keras.layers import Activation, Dense\n",
    "from keras import optimizers\n",
    "from keras.layers import Dropout\n",
    "import numpy as np\n",
    "from keras.wrappers.scikit_learn import KerasClassifier\n",
    "from sklearn.ensemble import VotingClassifier\n",
    "from sklearn.metrics import accuracy_score\n",
    "from keras.layers import BatchNormalization"
   ]
  },
  {
   "cell_type": "markdown",
   "metadata": {},
   "source": [
    "## Load Dataset\n",
    "- MNIST dataset"
   ]
  },
  {
   "cell_type": "code",
   "execution_count": 16,
   "metadata": {},
   "outputs": [],
   "source": [
    "(X_train, y_train), (X_test, y_test) = mnist.load_data()"
   ]
  },
  {
   "cell_type": "code",
   "execution_count": 3,
   "metadata": {},
   "outputs": [
    {
     "name": "stdout",
     "output_type": "stream",
     "text": [
      "(60000, 28, 28)\n",
      "(60000,)\n"
     ]
    }
   ],
   "source": [
    "print(X_train.shape)\n",
    "print(y_train.shape)"
   ]
  },
  {
   "cell_type": "code",
   "execution_count": 10,
   "metadata": {},
   "outputs": [
    {
     "data": {
      "text/plain": [
       "array([[  0,   0,   0,   0,   0,   0,   0,   0,   0,   0,   0,   0,   0,\n",
       "          0,   0,   0,   0,   0,   0,   0,   0,   0,   0,   0,   0,   0,\n",
       "          0,   0],\n",
       "       [  0,   0,   0,   0,   0,   0,   0,   0,   0,   0,   0,   0,   0,\n",
       "          0,   0,   0,   0,   0,   0,   0,   0,   0,   0,   0,   0,   0,\n",
       "          0,   0],\n",
       "       [  0,   0,   0,   0,   0,   0,   0,   0,   0,   0,   0,   0,   0,\n",
       "          0,   0,   0,   0,   0,   0,   0,   0,   0,   0,   0,   0,   0,\n",
       "          0,   0],\n",
       "       [  0,   0,   0,   0,   0,   0,   0,   0,   0,   0,   0,   0,   0,\n",
       "          0,   0,   0,   0,   0,   0,   0,   0,   0,   0,   0,   0,   0,\n",
       "          0,   0],\n",
       "       [  0,   0,   0,   0,   0,   0,   0,   0,   0,   0,   0,   0,   0,\n",
       "          0,   0,   0,   0,   0,   0,   0,   0,   0,   0,   0,   0,   0,\n",
       "          0,   0],\n",
       "       [  0,   0,   0,   0,   0,   0,   0,   0,   0,   0,   0,   0,   3,\n",
       "         18,  18,  18, 126, 136, 175,  26, 166, 255, 247, 127,   0,   0,\n",
       "          0,   0],\n",
       "       [  0,   0,   0,   0,   0,   0,   0,   0,  30,  36,  94, 154, 170,\n",
       "        253, 253, 253, 253, 253, 225, 172, 253, 242, 195,  64,   0,   0,\n",
       "          0,   0],\n",
       "       [  0,   0,   0,   0,   0,   0,   0,  49, 238, 253, 253, 253, 253,\n",
       "        253, 253, 253, 253, 251,  93,  82,  82,  56,  39,   0,   0,   0,\n",
       "          0,   0],\n",
       "       [  0,   0,   0,   0,   0,   0,   0,  18, 219, 253, 253, 253, 253,\n",
       "        253, 198, 182, 247, 241,   0,   0,   0,   0,   0,   0,   0,   0,\n",
       "          0,   0],\n",
       "       [  0,   0,   0,   0,   0,   0,   0,   0,  80, 156, 107, 253, 253,\n",
       "        205,  11,   0,  43, 154,   0,   0,   0,   0,   0,   0,   0,   0,\n",
       "          0,   0],\n",
       "       [  0,   0,   0,   0,   0,   0,   0,   0,   0,  14,   1, 154, 253,\n",
       "         90,   0,   0,   0,   0,   0,   0,   0,   0,   0,   0,   0,   0,\n",
       "          0,   0],\n",
       "       [  0,   0,   0,   0,   0,   0,   0,   0,   0,   0,   0, 139, 253,\n",
       "        190,   2,   0,   0,   0,   0,   0,   0,   0,   0,   0,   0,   0,\n",
       "          0,   0],\n",
       "       [  0,   0,   0,   0,   0,   0,   0,   0,   0,   0,   0,  11, 190,\n",
       "        253,  70,   0,   0,   0,   0,   0,   0,   0,   0,   0,   0,   0,\n",
       "          0,   0],\n",
       "       [  0,   0,   0,   0,   0,   0,   0,   0,   0,   0,   0,   0,  35,\n",
       "        241, 225, 160, 108,   1,   0,   0,   0,   0,   0,   0,   0,   0,\n",
       "          0,   0],\n",
       "       [  0,   0,   0,   0,   0,   0,   0,   0,   0,   0,   0,   0,   0,\n",
       "         81, 240, 253, 253, 119,  25,   0,   0,   0,   0,   0,   0,   0,\n",
       "          0,   0],\n",
       "       [  0,   0,   0,   0,   0,   0,   0,   0,   0,   0,   0,   0,   0,\n",
       "          0,  45, 186, 253, 253, 150,  27,   0,   0,   0,   0,   0,   0,\n",
       "          0,   0],\n",
       "       [  0,   0,   0,   0,   0,   0,   0,   0,   0,   0,   0,   0,   0,\n",
       "          0,   0,  16,  93, 252, 253, 187,   0,   0,   0,   0,   0,   0,\n",
       "          0,   0],\n",
       "       [  0,   0,   0,   0,   0,   0,   0,   0,   0,   0,   0,   0,   0,\n",
       "          0,   0,   0,   0, 249, 253, 249,  64,   0,   0,   0,   0,   0,\n",
       "          0,   0],\n",
       "       [  0,   0,   0,   0,   0,   0,   0,   0,   0,   0,   0,   0,   0,\n",
       "          0,  46, 130, 183, 253, 253, 207,   2,   0,   0,   0,   0,   0,\n",
       "          0,   0],\n",
       "       [  0,   0,   0,   0,   0,   0,   0,   0,   0,   0,   0,   0,  39,\n",
       "        148, 229, 253, 253, 253, 250, 182,   0,   0,   0,   0,   0,   0,\n",
       "          0,   0],\n",
       "       [  0,   0,   0,   0,   0,   0,   0,   0,   0,   0,  24, 114, 221,\n",
       "        253, 253, 253, 253, 201,  78,   0,   0,   0,   0,   0,   0,   0,\n",
       "          0,   0],\n",
       "       [  0,   0,   0,   0,   0,   0,   0,   0,  23,  66, 213, 253, 253,\n",
       "        253, 253, 198,  81,   2,   0,   0,   0,   0,   0,   0,   0,   0,\n",
       "          0,   0],\n",
       "       [  0,   0,   0,   0,   0,   0,  18, 171, 219, 253, 253, 253, 253,\n",
       "        195,  80,   9,   0,   0,   0,   0,   0,   0,   0,   0,   0,   0,\n",
       "          0,   0],\n",
       "       [  0,   0,   0,   0,  55, 172, 226, 253, 253, 253, 253, 244, 133,\n",
       "         11,   0,   0,   0,   0,   0,   0,   0,   0,   0,   0,   0,   0,\n",
       "          0,   0],\n",
       "       [  0,   0,   0,   0, 136, 253, 253, 253, 212, 135, 132,  16,   0,\n",
       "          0,   0,   0,   0,   0,   0,   0,   0,   0,   0,   0,   0,   0,\n",
       "          0,   0],\n",
       "       [  0,   0,   0,   0,   0,   0,   0,   0,   0,   0,   0,   0,   0,\n",
       "          0,   0,   0,   0,   0,   0,   0,   0,   0,   0,   0,   0,   0,\n",
       "          0,   0],\n",
       "       [  0,   0,   0,   0,   0,   0,   0,   0,   0,   0,   0,   0,   0,\n",
       "          0,   0,   0,   0,   0,   0,   0,   0,   0,   0,   0,   0,   0,\n",
       "          0,   0],\n",
       "       [  0,   0,   0,   0,   0,   0,   0,   0,   0,   0,   0,   0,   0,\n",
       "          0,   0,   0,   0,   0,   0,   0,   0,   0,   0,   0,   0,   0,\n",
       "          0,   0]], dtype=uint8)"
      ]
     },
     "execution_count": 10,
     "metadata": {},
     "output_type": "execute_result"
    }
   ],
   "source": [
    "X_train[0]"
   ]
  },
  {
   "cell_type": "code",
   "execution_count": 22,
   "metadata": {
    "scrolled": true
   },
   "outputs": [
    {
     "data": {
      "image/png": "[encoded data removed]",
      "text/plain": [
       "<Figure size 432x288 with 1 Axes>"
      ]
     },
     "metadata": {
      "needs_background": "light"
     },
     "output_type": "display_data"
    },
    {
     "name": "stdout",
     "output_type": "stream",
     "text": [
      "Label:  5\n"
     ]
    }
   ],
   "source": [
    "plt.imshow(X_train[0])    # show first number in the dataset\n",
    "plt.show()\n",
    "print('Label: ', y_train[0])"
   ]
  },
  {
   "cell_type": "code",
   "execution_count": 23,
   "metadata": {},
   "outputs": [
    {
     "data": {
      "image/png": "[encoded data removed]",
      "text/plain": [
       "<Figure size 432x288 with 1 Axes>"
      ]
     },
     "metadata": {
      "needs_background": "light"
     },
     "output_type": "display_data"
    },
    {
     "name": "stdout",
     "output_type": "stream",
     "text": [
      "Label:  7\n"
     ]
    }
   ],
   "source": [
    "plt.imshow(X_test[0])    # show first number in the dataset\n",
    "plt.show()\n",
    "print('Label: ', y_test[0])"
   ]
  },
  {
   "cell_type": "code",
   "execution_count": 15,
   "metadata": {},
   "outputs": [
    {
     "data": {
      "image/png": "[encoded data removed]",
      "text/plain": [
       "<Figure size 432x288 with 1 Axes>"
      ]
     },
     "metadata": {
      "needs_background": "light"
     },
     "output_type": "display_data"
    },
    {
     "data": {
      "image/png": "[encoded data removed]",
      "text/plain": [
       "<Figure size 432x288 with 1 Axes>"
      ]
     },
     "metadata": {
      "needs_background": "light"
     },
     "output_type": "display_data"
    }
   ],
   "source": [
    "plt.imshow(X_train[0],cmap=\"gray\")\n",
    "plt.show()\n",
    "\n",
    "plt.imshow(X_test[0], cmap=\"gray\")    # show first number in the dataset\n",
    "plt.show()"
   ]
  },
  {
   "cell_type": "code",
   "execution_count": 16,
   "metadata": {},
   "outputs": [
    {
     "data": {
      "text/plain": [
       "(60000, 28, 28)"
      ]
     },
     "execution_count": 16,
     "metadata": {},
     "output_type": "execute_result"
    }
   ],
   "source": [
    "X_train.shape"
   ]
  },
  {
   "cell_type": "code",
   "execution_count": 17,
   "metadata": {},
   "outputs": [
    {
     "data": {
      "text/plain": [
       "60000"
      ]
     },
     "execution_count": 17,
     "metadata": {},
     "output_type": "execute_result"
    }
   ],
   "source": [
    "X_train.shape[0] #개수"
   ]
  },
  {
   "cell_type": "code",
   "execution_count": 17,
   "metadata": {},
   "outputs": [],
   "source": [
    "# reshaping X data: (n, 28, 28) => (n, 784)\n",
    "# X set 2차원을 1차원으로\n",
    "X_train = X_train.reshape((X_train.shape[0], -1))  #나머지 영역을 묶어 한차원으로\n",
    "X_test = X_test.reshape((X_test.shape[0], -1))"
   ]
  },
  {
   "cell_type": "code",
   "execution_count": 5,
   "metadata": {},
   "outputs": [
    {
     "data": {
      "text/plain": [
       "(60000, 784)"
      ]
     },
     "execution_count": 5,
     "metadata": {},
     "output_type": "execute_result"
    }
   ],
   "source": [
    "X_train.shape"
   ]
  },
  {
   "cell_type": "code",
   "execution_count": 13,
   "metadata": {},
   "outputs": [],
   "source": [
    "# use only 33% of training data to expedite the training process\n",
    "X_train, _ , y_train, _ = train_test_split(X_train, y_train, test_size = 0.67, random_state = 7)\n",
    "#자주 쓰는 함수라서. split하여 (1-p), p 순으로 리턴"
   ]
  },
  {
   "cell_type": "code",
   "execution_count": 7,
   "metadata": {
    "scrolled": true
   },
   "outputs": [
    {
     "name": "stdout",
     "output_type": "stream",
     "text": [
      "(19800, 784) (10000, 784) (19800,) (10000,)\n",
      "[6 9 2 ... 5 5 3]\n"
     ]
    }
   ],
   "source": [
    "print(X_train.shape, X_test.shape, y_train.shape, y_test.shape)\n",
    "print(y_train)"
   ]
  },
  {
   "cell_type": "code",
   "execution_count": 14,
   "metadata": {},
   "outputs": [],
   "source": [
    "# converting y data into categorical (one-hot encoding)\n",
    "y_train = to_categorical(y_train)\n",
    "y_test = to_categorical(y_test)\n",
    "# one-hot encoding: 1차원 벡터->2차원 벡터\n",
    "# 0 -> 1 0 0  이 한 줄이 one binary class\n",
    "# 1 -> 0 1 0  행렬로 구하면 빨라\n",
    "# 2 -> 0 0 1"
   ]
  },
  {
   "cell_type": "code",
   "execution_count": 9,
   "metadata": {},
   "outputs": [
    {
     "name": "stdout",
     "output_type": "stream",
     "text": [
      "(19800, 784) (10000, 784) (19800, 10) (10000, 10)\n"
     ]
    }
   ],
   "source": [
    "print(X_train.shape, X_test.shape, y_train.shape, y_test.shape)\n",
    "#y_test.shape = (10000,10)  class가 0~9"
   ]
  },
  {
   "cell_type": "markdown",
   "metadata": {},
   "source": [
    "# Basic MLP model"
   ]
  },
  {
   "cell_type": "code",
   "execution_count": 55,
   "metadata": {},
   "outputs": [],
   "source": [
    "model = Sequential()"
   ]
  },
  {
   "cell_type": "code",
   "execution_count": 56,
   "metadata": {},
   "outputs": [],
   "source": [
    "model.add(Dense(50, input_shape = (784, )))\n",
    "model.add(Activation('sigmoid'))\n",
    "model.add(Dense(50))\n",
    "model.add(Activation('sigmoid'))\n",
    "model.add(Dense(50))\n",
    "model.add(Activation('sigmoid'))\n",
    "model.add(Dense(50))\n",
    "model.add(Activation('sigmoid'))\n",
    "model.add(Dense(10))\n",
    "model.add(Activation('softmax'))\n",
    "#binary 땐 sigmoid 썼지만\n",
    "#multiple는 softmax 사용. binary와 똑같지만 여러번 처리\n",
    "#softmax: sigmoid와의 차이점은 정규화해줌 (값의 합 1로 scaling)\n",
    "#출력갯수 10개, class가 10개니까"
   ]
  },
  {
   "cell_type": "code",
   "execution_count": 57,
   "metadata": {},
   "outputs": [],
   "source": [
    "# optimzer=\"adam\" 은 디폴트값밖에 못 써. 아래처럼 사용하면 learning rate 설정 가능\n",
    "sgd = optimizers.SGD(lr = 0.001) #Adam하면 금방 올라감\n",
    "model.compile(optimizer = sgd, loss = 'categorical_crossentropy', metrics = ['accuracy'])"
   ]
  },
  {
   "cell_type": "code",
   "execution_count": 58,
   "metadata": {},
   "outputs": [],
   "source": [
    "history = model.fit(X_train, y_train, batch_size = 256, validation_split = 0.3, epochs = 200, verbose = 0)\n",
    "#validation_split: train data를 내부적으로 또 나눠.\n",
    "#70개는 학습, 30개는 validation data set으로 사용하겠다\n",
    "#내가 학습을 제대로 하고 있는지 검증하는 또다른 test set. overfitting 검사가능"
   ]
  },
  {
   "cell_type": "code",
   "execution_count": 59,
   "metadata": {
    "scrolled": false
   },
   "outputs": [
    {
     "data": {
      "image/png": "[encoded data removed]",
      "text/plain": [
       "<Figure size 432x288 with 1 Axes>"
      ]
     },
     "metadata": {
      "needs_background": "light"
     },
     "output_type": "display_data"
    }
   ],
   "source": [
    "plt.plot(history.history['accuracy'])\n",
    "plt.plot(history.history['val_accuracy'])\n",
    "plt.legend(['training', 'validation'], loc = 'upper left')\n",
    "plt.show()\n",
    "#정확도가 12프로 정도. 학습을 못 하고 있어.\n",
    "#원인은 sigmoid\n",
    "#그래프가 일자인 것은 w값 변화가 거의 없다는 것.\n",
    "#극악의 확률로 잘 될 수는 있겠지만."
   ]
  },
  {
   "cell_type": "code",
   "execution_count": 40,
   "metadata": {},
   "outputs": [
    {
     "name": "stdout",
     "output_type": "stream",
     "text": [
      "{'val_loss': [2.556286112467448, 2.517122162552394, 2.486293351208722, 2.4610053137898045, 2.440118757883708, 2.422298244835953, 2.4069682169442226, 2.393910729122483, 2.3826261499514083, 2.3727671655340226, 2.3642784853976986, 2.356688284151482, 2.35004657832059, 2.3441796498667915, 2.3390173716175835, 2.33436187140468, 2.330350992254135, 2.326760318704727, 2.323590223877518, 2.3207642812118787, 2.3182409565858166, 2.316005346189043, 2.3141048752498947, 2.3123332688302707, 2.310881105898205, 2.309621216552426, 2.308474305502895, 2.307440174629391, 2.3065472980139634, 2.305750858743584, 2.305008667326134, 2.304431055370806, 2.3039071018848354, 2.3034222946423872, 2.303016436059868, 2.30266198662395, 2.3023519082502886, 2.302064887602321, 2.301815940394546, 2.301608460358899, 2.3014272558167326, 2.3012647001028865, 2.3011081302206122, 2.3009762386681656, 2.3008813856426715, 2.3007764840366867, 2.3006994377483023, 2.3006101996810346, 2.3005189802510166, 2.30043584248835, 2.3003644968925503, 2.300300761585685, 2.3002540153285067, 2.300200933238071, 2.3001453704705543, 2.3000970183799563, 2.3000572633261633, 2.3000186441723347, 2.2999907185332944, 2.2999562483443956, 2.299928583601107, 2.2998909852320097, 2.2998637225090053, 2.2998417497885346, 2.299805701220477, 2.299780779334431, 2.2997413349472713, 2.2997116252629444, 2.2997108714749115, 2.2996958841779818, 2.29965971776532, 2.2996449170289215, 2.299620779756745, 2.2995981124916463, 2.299564464325054, 2.299532520249235, 2.299498697724005, 2.2994673252105713, 2.2994557053151756, 2.2994216088895443, 2.2993952658039953, 2.2993544562497124, 2.299329419248433, 2.299300034198697, 2.299298069212172, 2.2992827254915076, 2.2992735117774217, 2.299249679070932, 2.29922888319099, 2.299217943551163, 2.299194497130937, 2.2991562067860305, 2.299124555234556, 2.299120393425527, 2.299104159127181, 2.299082574298486, 2.2990632715449992, 2.299039257255066, 2.2990120658168087, 2.2989809206439187, 2.2989612574529166, 2.298924805098511, 2.2989124893740773, 2.2989002279159596, 2.2988880555637756, 2.298853476360591, 2.2988239638331764, 2.2987848996313334, 2.2987839136862194, 2.298776456723711, 2.298741747474028, 2.2987189525707, 2.2986876911587184, 2.298677497761017, 2.298668864118531, 2.298646662933658, 2.2986123953604136, 2.2985929860009087, 2.2985728226928197, 2.2985587176249083, 2.2985396770515827, 2.2985284005752717, 2.298491057643184, 2.2984650343756883, 2.298432148827447, 2.298410940009737, 2.2983821005130856, 2.2983673583778867, 2.2983442243903576, 2.2983269612797184, 2.2983085096083107, 2.2982814390651303, 2.2982481258084078, 2.2982331950255115, 2.2982220267607305, 2.2982052950746685, 2.2981829314119486, 2.2981673890894108, 2.298144968912658, 2.2981314488934346, 2.2981116998075235, 2.2980845477043177, 2.298062003260911, 2.2980043383961175, 2.2979890799281573, 2.2979779312506268, 2.2979568977548617, 2.2979205349880436, 2.2979017586820456, 2.2978971142560143, 2.2978812179180106, 2.2978549974936024, 2.2978269971982397, 2.2978105289767488, 2.297775981081054, 2.297738723883324, 2.297707215543548, 2.297684418713605, 2.297664102400192, 2.297636938255644, 2.2976050641801624, 2.2975926688223174, 2.2975713013799903, 2.2975537343458696, 2.2975487123033416, 2.2975359698337336, 2.2975311348333904, 2.2975056654676442, 2.297503777064057, 2.29747821634466, 2.2974422907588457, 2.2974073263932557, 2.297404585302077, 2.29738835614137, 2.29737119337525, 2.2973478583775786, 2.2973118082040087, 2.2972779447382146, 2.297240963849154, 2.297221716806945, 2.2971869414101547, 2.2971731926054266, 2.297156507158119, 2.297135578341757, 2.297119210464786, 2.297110574092929, 2.297080495140769, 2.2970700641272446, 2.2970453079300697, 2.2970258101068364, 2.2969878582039263, 2.2969730277655502, 2.296970906562677, 2.296944718248515, 2.2969167277467775, 2.2968875724458533, 2.2968584795993587, 2.2968253673527776, 2.2968015230865992, 2.296771952439639], 'val_accuracy': [0.11178451031446457, 0.11178451031446457, 0.11178451031446457, 0.11178451031446457, 0.11178451031446457, 0.11178451031446457, 0.11178451031446457, 0.11178451031446457, 0.11178451031446457, 0.11178451031446457, 0.11178451031446457, 0.11178451031446457, 0.11178451031446457, 0.11178451031446457, 0.11178451031446457, 0.11178451031446457, 0.11178451031446457, 0.11178451031446457, 0.11178451031446457, 0.11178451031446457, 0.11178451031446457, 0.11178451031446457, 0.11178451031446457, 0.11178451031446457, 0.11178451031446457, 0.11178451031446457, 0.11178451031446457, 0.11178451031446457, 0.11178451031446457, 0.11178451031446457, 0.11178451031446457, 0.11178451031446457, 0.11178451031446457, 0.11178451031446457, 0.11178451031446457, 0.11178451031446457, 0.11178451031446457, 0.11178451031446457, 0.11178451031446457, 0.11178451031446457, 0.11178451031446457, 0.11178451031446457, 0.11178451031446457, 0.11178451031446457, 0.11178451031446457, 0.11178451031446457, 0.11178451031446457, 0.11178451031446457, 0.11178451031446457, 0.11178451031446457, 0.11178451031446457, 0.11178451031446457, 0.11178451031446457, 0.11178451031446457, 0.11178451031446457, 0.11178451031446457, 0.11178451031446457, 0.11178451031446457, 0.11178451031446457, 0.11178451031446457, 0.11178451031446457, 0.11178451031446457, 0.11178451031446457, 0.11178451031446457, 0.11178451031446457, 0.11178451031446457, 0.11178451031446457, 0.11178451031446457, 0.11178451031446457, 0.11178451031446457, 0.11178451031446457, 0.11178451031446457, 0.11178451031446457, 0.11178451031446457, 0.11178451031446457, 0.11178451031446457, 0.11178451031446457, 0.11178451031446457, 0.11178451031446457, 0.11178451031446457, 0.11178451031446457, 0.11178451031446457, 0.11178451031446457, 0.11178451031446457, 0.11178451031446457, 0.11178451031446457, 0.11178451031446457, 0.11178451031446457, 0.11178451031446457, 0.11178451031446457, 0.11178451031446457, 0.11178451031446457, 0.11178451031446457, 0.11178451031446457, 0.11178451031446457, 0.11178451031446457, 0.11178451031446457, 0.11178451031446457, 0.11178451031446457, 0.11178451031446457, 0.11178451031446457, 0.11178451031446457, 0.11178451031446457, 0.11178451031446457, 0.11178451031446457, 0.11178451031446457, 0.11178451031446457, 0.11178451031446457, 0.11178451031446457, 0.11178451031446457, 0.11178451031446457, 0.11178451031446457, 0.11178451031446457, 0.11178451031446457, 0.11178451031446457, 0.11178451031446457, 0.11178451031446457, 0.11178451031446457, 0.11178451031446457, 0.11178451031446457, 0.11178451031446457, 0.11178451031446457, 0.11178451031446457, 0.11178451031446457, 0.11178451031446457, 0.11178451031446457, 0.11178451031446457, 0.11178451031446457, 0.11178451031446457, 0.11178451031446457, 0.11178451031446457, 0.11178451031446457, 0.11178451031446457, 0.11178451031446457, 0.11178451031446457, 0.11178451031446457, 0.11178451031446457, 0.11178451031446457, 0.11178451031446457, 0.11178451031446457, 0.11178451031446457, 0.11178451031446457, 0.11178451031446457, 0.11178451031446457, 0.11178451031446457, 0.11178451031446457, 0.11178451031446457, 0.11178451031446457, 0.11178451031446457, 0.11178451031446457, 0.11178451031446457, 0.11178451031446457, 0.11178451031446457, 0.11178451031446457, 0.11178451031446457, 0.11178451031446457, 0.11178451031446457, 0.11178451031446457, 0.11178451031446457, 0.11178451031446457, 0.11178451031446457, 0.11178451031446457, 0.11178451031446457, 0.11178451031446457, 0.11178451031446457, 0.11178451031446457, 0.11178451031446457, 0.11178451031446457, 0.11178451031446457, 0.11178451031446457, 0.11178451031446457, 0.11178451031446457, 0.11178451031446457, 0.11178451031446457, 0.11178451031446457, 0.11178451031446457, 0.11178451031446457, 0.11178451031446457, 0.11178451031446457, 0.11178451031446457, 0.11178451031446457, 0.11178451031446457, 0.11178451031446457, 0.11178451031446457, 0.11178451031446457, 0.11178451031446457, 0.11178451031446457, 0.11178451031446457, 0.11178451031446457, 0.11178451031446457, 0.11178451031446457, 0.11178451031446457, 0.11178451031446457, 0.11178451031446457, 0.11178451031446457, 0.11178451031446457, 0.11178451031446457, 0.11178451031446457, 0.11178451031446457, 0.11178451031446457], 'loss': [2.577706266447235, 2.533003616883469, 2.4979148406487006, 2.4699899401671614, 2.446862041038524, 2.4276320662505353, 2.411136996143996, 2.3969023035030173, 2.384747250461991, 2.3742082819450125, 2.365039709085682, 2.3571115113956074, 2.3500412656803324, 2.34383562970127, 2.338368903334867, 2.333571391635471, 2.3292575007737284, 2.32555229350774, 2.3222452743744952, 2.3193495568774996, 2.316768043829077, 2.3144674297707075, 2.3124372508446718, 2.3107207918235924, 2.3091277403232855, 2.3078034440160313, 2.3066720890276358, 2.305650418351739, 2.3047587056180614, 2.303983546266652, 2.303270300745448, 2.3026327671942775, 2.3021376066221646, 2.301698767812049, 2.3012878908567442, 2.3009253345698677, 2.3006239521555054, 2.30036624403399, 2.300126719233966, 2.2999225465078204, 2.299740528200268, 2.2995859563780727, 2.2994555130665435, 2.299331109554737, 2.2992314015976105, 2.2991456145331974, 2.2990693114364644, 2.2989982529980106, 2.2989203849396147, 2.2988632926005135, 2.2988097936732084, 2.2987569987859904, 2.2987186588766253, 2.298667631452046, 2.2986308213436244, 2.29859212397841, 2.2985544702879452, 2.298522483253204, 2.298489798095835, 2.2984604283672736, 2.298426460359692, 2.2984007637910167, 2.298373624600717, 2.2983453837308017, 2.298319650350023, 2.2982912949153356, 2.2982675586083925, 2.2982410278155174, 2.298218540780644, 2.2981949105063215, 2.298166791838829, 2.2981412788490196, 2.2981196806716366, 2.298092652330495, 2.2980700937356437, 2.2980447289575574, 2.2980211616422537, 2.2979991308710446, 2.2979728115241422, 2.297951482591175, 2.297928168556907, 2.297905105533022, 2.297879776190886, 2.297858704460992, 2.297834819667095, 2.29781191290543, 2.2977917643680543, 2.2977668249589884, 2.2977435634249734, 2.297720824347602, 2.2977028863254563, 2.2976759706912793, 2.2976516632806687, 2.297629413701067, 2.2976041784878243, 2.2975865273248584, 2.297562916179068, 2.297540155496088, 2.2975153437940588, 2.297495074292798, 2.2974756337175464, 2.2974505385967214, 2.2974280576169233, 2.29740487548696, 2.2973831383180823, 2.2973550367148925, 2.2973333449590774, 2.2973107106069808, 2.2972871088878417, 2.297263144414662, 2.2972420661480397, 2.2972206102649197, 2.297192025907112, 2.297171202435294, 2.2971487373500676, 2.2971297457448676, 2.2971028802026745, 2.2970835422884677, 2.297060139217074, 2.2970390823496367, 2.297017949724954, 2.2969978803164, 2.296972675928994, 2.2969525069557397, 2.2969310867149937, 2.2969083468119305, 2.2968878759106173, 2.296863392765216, 2.2968431531952915, 2.29682153134807, 2.2967999017943894, 2.2967777003801575, 2.296756227501543, 2.296735739879966, 2.29671292532058, 2.2966878100391073, 2.2966664581931857, 2.29664461196415, 2.296621002676167, 2.2965999630106477, 2.296579234080569, 2.2965575249164134, 2.296533878541096, 2.29650851699697, 2.296490335808516, 2.296468234303022, 2.296443761065925, 2.296422570986837, 2.296403382385276, 2.296379659564636, 2.2963586852664037, 2.296336851835595, 2.2963134325943986, 2.2962936827974745, 2.296267094274964, 2.296246503648304, 2.2962255095334623, 2.296201995406488, 2.2961815199638687, 2.2961594585732463, 2.2961408652956523, 2.2961132056441316, 2.2960923620116658, 2.296070807320731, 2.296046460139287, 2.2960240815453026, 2.295999389981467, 2.2959784511879926, 2.295958588684104, 2.295931407589933, 2.295905837764988, 2.2958848302326507, 2.2958580403788953, 2.2958336007887494, 2.2958090795238983, 2.295789051055908, 2.295763760246068, 2.295739904764239, 2.2957148287031384, 2.295692709514073, 2.2956683840070453, 2.2956442762762954, 2.295621012471627, 2.295594160140507, 2.295575948263832, 2.2955513570215795, 2.2955263472222662, 2.2955029029350777, 2.2954809673248775, 2.2954558955986606, 2.295434215746573, 2.2954096161785924, 2.2953850232161486, 2.295365155964531, 2.295337966682247, 2.2953137714969474, 2.295291469417093, 2.295266725008966, 2.2952405560756315, 2.295217156857467], 'accuracy': [0.114285715, 0.114285715, 0.114285715, 0.114285715, 0.114285715, 0.114285715, 0.114285715, 0.114285715, 0.114285715, 0.114285715, 0.114285715, 0.114285715, 0.114285715, 0.114285715, 0.114285715, 0.114285715, 0.114285715, 0.114285715, 0.114285715, 0.114285715, 0.114285715, 0.114285715, 0.114285715, 0.114285715, 0.114285715, 0.114285715, 0.114285715, 0.114285715, 0.114285715, 0.114285715, 0.114285715, 0.114285715, 0.114285715, 0.114285715, 0.114285715, 0.114285715, 0.114285715, 0.114285715, 0.114285715, 0.114285715, 0.114285715, 0.114285715, 0.114285715, 0.114285715, 0.114285715, 0.114285715, 0.114285715, 0.114285715, 0.114285715, 0.114285715, 0.114285715, 0.114285715, 0.114285715, 0.114285715, 0.114285715, 0.114285715, 0.114285715, 0.114285715, 0.114285715, 0.114285715, 0.114285715, 0.114285715, 0.114285715, 0.114285715, 0.114285715, 0.114285715, 0.114285715, 0.114285715, 0.114285715, 0.114285715, 0.114285715, 0.114285715, 0.114285715, 0.114285715, 0.114285715, 0.114285715, 0.114285715, 0.114285715, 0.114285715, 0.114285715, 0.114285715, 0.114285715, 0.114285715, 0.114285715, 0.114285715, 0.114285715, 0.114285715, 0.114285715, 0.114285715, 0.114285715, 0.114285715, 0.114285715, 0.114285715, 0.114285715, 0.114285715, 0.114285715, 0.114285715, 0.114285715, 0.114285715, 0.114285715, 0.114285715, 0.114285715, 0.114285715, 0.114285715, 0.114285715, 0.114285715, 0.114285715, 0.114285715, 0.114285715, 0.114285715, 0.114285715, 0.114285715, 0.114285715, 0.114285715, 0.114285715, 0.114285715, 0.114285715, 0.114285715, 0.114285715, 0.114285715, 0.114285715, 0.114285715, 0.114285715, 0.114285715, 0.114285715, 0.114285715, 0.114285715, 0.114285715, 0.114285715, 0.114285715, 0.114285715, 0.114285715, 0.114285715, 0.114285715, 0.114285715, 0.114285715, 0.114285715, 0.114285715, 0.114285715, 0.114285715, 0.114285715, 0.114285715, 0.114285715, 0.114285715, 0.114285715, 0.114285715, 0.114285715, 0.114285715, 0.114285715, 0.114285715, 0.114285715, 0.114285715, 0.114285715, 0.114285715, 0.114285715, 0.114285715, 0.114285715, 0.114285715, 0.114285715, 0.114285715, 0.114285715, 0.114285715, 0.114285715, 0.114285715, 0.114285715, 0.114285715, 0.114285715, 0.114285715, 0.114285715, 0.114285715, 0.114285715, 0.114285715, 0.114285715, 0.114285715, 0.114285715, 0.114285715, 0.114285715, 0.114285715, 0.114285715, 0.114285715, 0.114285715, 0.114285715, 0.114285715, 0.114285715, 0.114285715, 0.114285715, 0.114285715, 0.114285715, 0.114285715, 0.114285715, 0.114285715, 0.114285715, 0.114285715, 0.114285715, 0.114285715, 0.114285715, 0.114285715, 0.114285715, 0.114285715, 0.114285715]}\n"
     ]
    }
   ],
   "source": [
    "print(history.history)"
   ]
  },
  {
   "cell_type": "markdown",
   "metadata": {},
   "source": [
    "- validation data 없으면"
   ]
  },
  {
   "cell_type": "code",
   "execution_count": 41,
   "metadata": {
    "scrolled": true
   },
   "outputs": [
    {
     "name": "stdout",
     "output_type": "stream",
     "text": [
      "{'loss': [2.295653854042593, 2.2956013844229957, 2.295555698992026, 2.2955088171332774, 2.295470286667949, 2.295427455805769, 2.295384081927213, 2.2953451635379984, 2.2953113043428672, 2.295272810290558], 'accuracy': [0.11353535, 0.11353535, 0.11353535, 0.11353535, 0.11353535, 0.11353535, 0.11353535, 0.11353535, 0.11353535, 0.11353535]}\n"
     ]
    }
   ],
   "source": [
    "history = model.fit(X_train, y_train, batch_size = 256, epochs = 10, verbose = 0)\n",
    "print(history.history)"
   ]
  },
  {
   "cell_type": "code",
   "execution_count": 42,
   "metadata": {},
   "outputs": [
    {
     "name": "stdout",
     "output_type": "stream",
     "text": [
      "{'val_loss': [2.2960299602662673, 2.2960321541988487, 2.296023728951862, 2.2960223172248813, 2.2960303508874143, 2.2960287124620944, 2.2960369259420066, 2.29601827759534, 2.2960135781002364, 2.295989504085245], 'val_accuracy': [0.11178451031446457, 0.11178451031446457, 0.11178451031446457, 0.11178451031446457, 0.11178451031446457, 0.11178451031446457, 0.11178451031446457, 0.11178451031446457, 0.11178451031446457, 0.11178451031446457], 'loss': [2.294896826530776, 2.294866594504484, 2.294836520873451, 2.2948089086992227, 2.294782163226415, 2.2947543235740278, 2.294725632839561, 2.29469924076295, 2.2946726799011232, 2.2946466223674076], 'accuracy': [0.114285715, 0.114285715, 0.114285715, 0.114285715, 0.114285715, 0.114285715, 0.114285715, 0.114285715, 0.114285715, 0.114285715]}\n"
     ]
    }
   ],
   "source": [
    "history = model.fit(X_train, y_train, batch_size = 256, validation_split = 0.3, epochs = 10, verbose = 0)\n",
    "print(history.history)\n",
    "#validation 따로 주니까 validation에 관한 정보도 나온다"
   ]
  },
  {
   "cell_type": "markdown",
   "metadata": {},
   "source": [
    "* Training and validation accuracy seems to improve after around 60 epochs"
   ]
  },
  {
   "cell_type": "code",
   "execution_count": 49,
   "metadata": {},
   "outputs": [
    {
     "name": "stdout",
     "output_type": "stream",
     "text": [
      "10000/10000 [==============================] - 0s 20us/step\n"
     ]
    }
   ],
   "source": [
    "results = model.evaluate(X_test, y_test)"
   ]
  },
  {
   "cell_type": "code",
   "execution_count": 50,
   "metadata": {},
   "outputs": [
    {
     "name": "stdout",
     "output_type": "stream",
     "text": [
      "Test accuracy:  0.11349999904632568\n"
     ]
    }
   ],
   "source": [
    "print('Test accuracy: ', results[1])"
   ]
  },
  {
   "cell_type": "markdown",
   "metadata": {},
   "source": [
    "## 1. Weight Initialization\n",
    "입력 데이터의 노드 수와 출력 데이터의 노드 수 이용  \n",
    "- Xavier\n",
    "- Uniform distribution : sqrt( 6 / (fan_in + fan_out))\n",
    "- Normal distribution  : N(0, sqrt(2. / (fan_in + fan_out)))\n",
    "\n",
    "- HE\n",
    "- Uniform distribution : limit is sqrt( 6 / fan_in)\n",
    "- Normal distribution : N(0, sqrt(2 / fan_in))"
   ]
  },
  {
   "cell_type": "code",
   "execution_count": 51,
   "metadata": {},
   "outputs": [],
   "source": [
    "# from now on, create a function to generate (return) models\n",
    "def mlp_model():\n",
    "    model = Sequential()\n",
    "    \n",
    "    model.add(Dense(50, input_shape = (784, ), kernel_initializer='he_normal'))     # use he_normal initializer\n",
    "    model.add(Activation('sigmoid'))    \n",
    "    model.add(Dense(50, kernel_initializer='he_normal'))                            # use he_normal initializer\n",
    "    model.add(Activation('sigmoid'))    \n",
    "    model.add(Dense(50, kernel_initializer='he_normal'))                            # use he_normal initializer\n",
    "    model.add(Activation('sigmoid'))    \n",
    "    model.add(Dense(50, kernel_initializer='he_normal'))                            # use he_normal initializer\n",
    "    model.add(Activation('sigmoid'))    \n",
    "    model.add(Dense(10, kernel_initializer='he_normal'))                            # use he_normal initializer\n",
    "    model.add(Activation('softmax'))\n",
    "    \n",
    "    sgd = optimizers.SGD(lr = 0.001)\n",
    "    model.compile(optimizer = sgd, loss = 'categorical_crossentropy', metrics = ['accuracy'])\n",
    "    \n",
    "    return model"
   ]
  },
  {
   "cell_type": "code",
   "execution_count": 60,
   "metadata": {},
   "outputs": [],
   "source": [
    "model = mlp_model()\n",
    "history = model.fit(X_train, y_train, validation_split = 0.3, epochs = 100, verbose = 0)"
   ]
  },
  {
   "cell_type": "code",
   "execution_count": 61,
   "metadata": {},
   "outputs": [
    {
     "data": {
      "image/png": "[encoded data removed]",
      "text/plain": [
       "<Figure size 432x288 with 1 Axes>"
      ]
     },
     "metadata": {
      "needs_background": "light"
     },
     "output_type": "display_data"
    }
   ],
   "source": [
    "plt.plot(history.history['accuracy'])\n",
    "plt.plot(history.history['val_accuracy'])\n",
    "plt.legend(['training', 'validation'], loc = 'upper left')\n",
    "plt.show()\n",
    "#어느 순간에 초기화를 잘 해서 쭉 올라가.\n",
    "#정확도가 45퍼센트로 확 뜀\n",
    "#초기값을 적절히 잘 세팅해야 해."
   ]
  },
  {
   "cell_type": "code",
   "execution_count": 62,
   "metadata": {},
   "outputs": [
    {
     "name": "stdout",
     "output_type": "stream",
     "text": [
      "10000/10000 [==============================] - 0s 20us/step\n"
     ]
    }
   ],
   "source": [
    "results = model.evaluate(X_test, y_test)"
   ]
  },
  {
   "cell_type": "code",
   "execution_count": 63,
   "metadata": {},
   "outputs": [
    {
     "name": "stdout",
     "output_type": "stream",
     "text": [
      "Test accuracy:  0.5299000144004822\n"
     ]
    }
   ],
   "source": [
    "print('Test accuracy: ', results[1])"
   ]
  },
  {
   "cell_type": "markdown",
   "metadata": {},
   "source": [
    "## 2. Nonlinearity (Activation function)"
   ]
  },
  {
   "cell_type": "code",
   "execution_count": 64,
   "metadata": {},
   "outputs": [],
   "source": [
    "def mlp_model():\n",
    "    model = Sequential()\n",
    "    \n",
    "    model.add(Dense(50, input_shape = (784, )))\n",
    "    model.add(Activation('relu'))    # use relu\n",
    "    model.add(Dense(50))\n",
    "    model.add(Activation('relu'))    # use relu\n",
    "    model.add(Dense(50))\n",
    "    model.add(Activation('relu'))    # use relu\n",
    "    model.add(Dense(50))\n",
    "    model.add(Activation('relu'))    # use relu\n",
    "    model.add(Dense(10))\n",
    "    model.add(Activation('softmax'))\n",
    "    \n",
    "    sgd = optimizers.SGD(lr = 0.001)\n",
    "    model.compile(optimizer = sgd, loss = 'categorical_crossentropy', metrics = ['accuracy'])\n",
    "    \n",
    "    return model"
   ]
  },
  {
   "cell_type": "code",
   "execution_count": 65,
   "metadata": {},
   "outputs": [],
   "source": [
    "model = mlp_model()\n",
    "history = model.fit(X_train, y_train, validation_split = 0.3, epochs = 100, verbose = 0)"
   ]
  },
  {
   "cell_type": "code",
   "execution_count": 66,
   "metadata": {},
   "outputs": [
    {
     "data": {
      "image/png": "[encoded data removed]",
      "text/plain": [
       "<Figure size 432x288 with 1 Axes>"
      ]
     },
     "metadata": {
      "needs_background": "light"
     },
     "output_type": "display_data"
    }
   ],
   "source": [
    "plt.plot(history.history['accuracy'])\n",
    "plt.plot(history.history['val_accuracy'])\n",
    "plt.legend(['training', 'validation'], loc = 'upper left')\n",
    "plt.show()\n",
    "#마지막 값이 아니라, 그 중에서 validation value 가장 좋았던 값을 저장."
   ]
  },
  {
   "cell_type": "code",
   "execution_count": 72,
   "metadata": {},
   "outputs": [
    {
     "data": {
      "image/png": "[encoded data removed]",
      "text/plain": [
       "<Figure size 432x288 with 1 Axes>"
      ]
     },
     "metadata": {
      "needs_background": "light"
     },
     "output_type": "display_data"
    }
   ],
   "source": [
    "# train 2nd\n",
    "model = mlp_model()\n",
    "history = model.fit(X_train, y_train, validation_split = 0.3, epochs = 100, verbose = 0)\n",
    "\n",
    "plt.plot(history.history['accuracy'])\n",
    "plt.plot(history.history['val_accuracy'])\n",
    "plt.legend(['training', 'validation'], loc = 'upper left')\n",
    "plt.show()\n",
    "#마지막 값이 아니라, 그 중에서 validation value 가장 좋았던 값을 저장."
   ]
  },
  {
   "cell_type": "markdown",
   "metadata": {},
   "source": [
    "ReLU 함수는 초기화 신경 안 써도 잘 됨 거의 90%  \n",
    "Training and validation accuracy improve instantaneously, but reach a plateau after around 30 epochs"
   ]
  },
  {
   "cell_type": "code",
   "execution_count": 67,
   "metadata": {},
   "outputs": [
    {
     "name": "stdout",
     "output_type": "stream",
     "text": [
      "10000/10000 [==============================] - 0s 21us/step\n"
     ]
    }
   ],
   "source": [
    "results = model.evaluate(X_test, y_test)"
   ]
  },
  {
   "cell_type": "code",
   "execution_count": 68,
   "metadata": {
    "scrolled": true
   },
   "outputs": [
    {
     "name": "stdout",
     "output_type": "stream",
     "text": [
      "Test accuracy:  0.91839998960495\n"
     ]
    }
   ],
   "source": [
    "print('Test accuracy: ', results[1])"
   ]
  },
  {
   "cell_type": "code",
   "execution_count": 71,
   "metadata": {},
   "outputs": [
    {
     "name": "stdout",
     "output_type": "stream",
     "text": [
      "[0.5333931315261445, 0.91839998960495]\n",
      "Loss:  0.5333931315261445\n"
     ]
    }
   ],
   "source": [
    "print(results)\n",
    "print('Loss: ', results[0])"
   ]
  },
  {
   "cell_type": "markdown",
   "metadata": {},
   "source": [
    "## 3. Optimizers"
   ]
  },
  {
   "cell_type": "code",
   "execution_count": 73,
   "metadata": {},
   "outputs": [],
   "source": [
    "def mlp_model():\n",
    "    model = Sequential()\n",
    "    \n",
    "    model.add(Dense(50, input_shape = (784, )))\n",
    "    model.add(Activation('sigmoid'))    \n",
    "    model.add(Dense(50))\n",
    "    model.add(Activation('sigmoid'))  \n",
    "    model.add(Dense(50))\n",
    "    model.add(Activation('sigmoid'))    \n",
    "    model.add(Dense(50))\n",
    "    model.add(Activation('sigmoid'))    \n",
    "    model.add(Dense(10))\n",
    "    model.add(Activation('softmax'))\n",
    "    \n",
    "    adam = optimizers.Adam(lr = 0.001)       # use Adam optimizer #0.01도 큼\n",
    "    model.compile(optimizer = adam, loss = 'categorical_crossentropy', metrics = ['accuracy'])\n",
    "    \n",
    "    return model"
   ]
  },
  {
   "cell_type": "code",
   "execution_count": 74,
   "metadata": {},
   "outputs": [],
   "source": [
    "model = mlp_model()\n",
    "history = model.fit(X_train, y_train, validation_split = 0.3, epochs = 100, verbose = 0)"
   ]
  },
  {
   "cell_type": "code",
   "execution_count": 75,
   "metadata": {
    "scrolled": true
   },
   "outputs": [
    {
     "data": {
      "image/png": "[encoded data removed]",
      "text/plain": [
       "<Figure size 432x288 with 1 Axes>"
      ]
     },
     "metadata": {
      "needs_background": "light"
     },
     "output_type": "display_data"
    }
   ],
   "source": [
    "plt.plot(history.history['accuracy'])\n",
    "plt.plot(history.history['val_accuracy'])\n",
    "plt.legend(['training', 'validation'], loc = 'upper left')\n",
    "plt.show()"
   ]
  },
  {
   "cell_type": "markdown",
   "metadata": {},
   "source": [
    "Training and validation accuracy improve instantaneously, but reach plateau after around 50 epochs  \n",
    "sigmoid, 초기값 안 좋아도 optimizer로 성능 향상"
   ]
  },
  {
   "cell_type": "code",
   "execution_count": 76,
   "metadata": {},
   "outputs": [
    {
     "name": "stdout",
     "output_type": "stream",
     "text": [
      "10000/10000 [==============================] - 0s 21us/step\n"
     ]
    }
   ],
   "source": [
    "results = model.evaluate(X_test, y_test)"
   ]
  },
  {
   "cell_type": "code",
   "execution_count": 77,
   "metadata": {},
   "outputs": [
    {
     "name": "stdout",
     "output_type": "stream",
     "text": [
      "Test accuracy:  0.9261000156402588\n"
     ]
    }
   ],
   "source": [
    "print('Test accuracy: ', results[1])"
   ]
  },
  {
   "cell_type": "markdown",
   "metadata": {},
   "source": [
    "## 4. Batch Normalization\n",
    "비선형 함수 변환 전에 추가해야.  \n",
    "내부적으로 알아서 이동한 mean과 scaling은 저장했다가 나중에 되돌림"
   ]
  },
  {
   "cell_type": "code",
   "execution_count": 10,
   "metadata": {},
   "outputs": [],
   "source": [
    "def mlp_model():\n",
    "    model = Sequential()\n",
    "    \n",
    "    model.add(Dense(50, input_shape = (784, )))\n",
    "    model.add(BatchNormalization())       #층 하나 추가: 모든 입력을 정규화\n",
    "                                          # 보통 activation 전에\n",
    "    model.add(Activation('sigmoid'))    \n",
    "    model.add(Dense(50))\n",
    "    model.add(BatchNormalization())       \n",
    "    model.add(Activation('sigmoid'))    \n",
    "    model.add(Dense(50))\n",
    "    model.add(BatchNormalization())       \n",
    "    model.add(Activation('sigmoid'))    \n",
    "    model.add(Dense(50))\n",
    "    model.add(BatchNormalization())       \n",
    "    model.add(Activation('sigmoid'))    \n",
    "    model.add(Dense(10))\n",
    "    model.add(Activation('softmax'))\n",
    "    \n",
    "    sgd = optimizers.SGD(lr = 0.001)    #sgd사용, lr매우 낮음\n",
    "    model.compile(optimizer = sgd, loss = 'categorical_crossentropy', metrics = ['accuracy'])\n",
    "    \n",
    "    return model"
   ]
  },
  {
   "cell_type": "code",
   "execution_count": 11,
   "metadata": {},
   "outputs": [],
   "source": [
    "model = mlp_model()\n",
    "history = model.fit(X_train, y_train, validation_split = 0.3, epochs = 100, verbose = 0)"
   ]
  },
  {
   "cell_type": "code",
   "execution_count": 12,
   "metadata": {},
   "outputs": [
    {
     "data": {
      "image/png": "[encoded data removed]",
      "text/plain": [
       "<Figure size 432x288 with 1 Axes>"
      ]
     },
     "metadata": {
      "needs_background": "light"
     },
     "output_type": "display_data"
    }
   ],
   "source": [
    "plt.plot(history.history['accuracy'])\n",
    "plt.plot(history.history['val_accuracy'])\n",
    "plt.legend(['training', 'validation'], loc = 'upper left')\n",
    "plt.show()"
   ]
  },
  {
   "cell_type": "markdown",
   "metadata": {},
   "source": [
    "가장 나쁜 초기화 방법, 가장 느린 학습방법을 사용했음에도 불구하고 정확도 91%  \n",
    "Batch Normalization: (이라는 층 하나 추가): 모든 입력을 정규분포화 (N(0,1))  \n",
    "Training and validation accuracy improve consistently, but reach plateau after around 60 epochs"
   ]
  },
  {
   "cell_type": "code",
   "execution_count": 81,
   "metadata": {},
   "outputs": [
    {
     "name": "stdout",
     "output_type": "stream",
     "text": [
      "10000/10000 [==============================] - 0s 30us/step\n"
     ]
    }
   ],
   "source": [
    "results = model.evaluate(X_test, y_test)"
   ]
  },
  {
   "cell_type": "code",
   "execution_count": 82,
   "metadata": {},
   "outputs": [
    {
     "name": "stdout",
     "output_type": "stream",
     "text": [
      "Test accuracy:  0.9114000201225281\n"
     ]
    }
   ],
   "source": [
    "print('Test accuracy: ', results[1])"
   ]
  },
  {
   "cell_type": "markdown",
   "metadata": {},
   "source": [
    "## 5. Dropout (Regularization)"
   ]
  },
  {
   "cell_type": "markdown",
   "metadata": {},
   "source": [
    "원래는 극명하게 overfitting 현상이 발생해야하는데 이 데이터는,,,  \n",
    "앙상블 효과를 보려면 dropout 0.2는 작은 값.  "
   ]
  },
  {
   "cell_type": "code",
   "execution_count": 83,
   "metadata": {},
   "outputs": [],
   "source": [
    "def mlp_model():\n",
    "    model = Sequential()\n",
    "    \n",
    "    model.add(Dense(50, input_shape = (784, )))\n",
    "    model.add(Activation('sigmoid'))    \n",
    "    model.add(Dropout(0.2))                        # Dropout layer after Activation\n",
    "    model.add(Dense(50))\n",
    "    model.add(Activation('sigmoid'))\n",
    "    model.add(Dropout(0.2))                        # Dropout layer after Activation\n",
    "    model.add(Dense(50))\n",
    "    model.add(Activation('sigmoid'))    \n",
    "    model.add(Dropout(0.2))                        # Dropout layer after Activation\n",
    "    model.add(Dense(50))\n",
    "    model.add(Activation('sigmoid'))    \n",
    "    model.add(Dropout(0.2))                         # Dropout layer after Activation\n",
    "    model.add(Dense(10))\n",
    "    model.add(Activation('softmax'))\n",
    "    \n",
    "    sgd = optimizers.SGD(lr = 0.001)\n",
    "    model.compile(optimizer = sgd, loss = 'categorical_crossentropy', metrics = ['accuracy'])\n",
    "    \n",
    "    return model"
   ]
  },
  {
   "cell_type": "code",
   "execution_count": 84,
   "metadata": {},
   "outputs": [],
   "source": [
    "model = mlp_model()\n",
    "history = model.fit(X_train, y_train, validation_split = 0.3, epochs = 100, verbose = 0)"
   ]
  },
  {
   "cell_type": "code",
   "execution_count": 85,
   "metadata": {},
   "outputs": [
    {
     "data": {
      "image/png": "[encoded data removed]",
      "text/plain": [
       "<Figure size 432x288 with 1 Axes>"
      ]
     },
     "metadata": {
      "needs_background": "light"
     },
     "output_type": "display_data"
    }
   ],
   "source": [
    "plt.plot(history.history['accuracy'])\n",
    "plt.plot(history.history['val_accuracy'])\n",
    "plt.legend(['training', 'validation'], loc = 'upper left')\n",
    "plt.show()\n",
    "#training 변화폭이 큰 이유 - 학습시키고 dropout 시키니까"
   ]
  },
  {
   "cell_type": "code",
   "execution_count": 86,
   "metadata": {},
   "outputs": [
    {
     "name": "stdout",
     "output_type": "stream",
     "text": [
      "10000/10000 [==============================] - 0s 24us/step\n"
     ]
    }
   ],
   "source": [
    "results = model.evaluate(X_test, y_test)"
   ]
  },
  {
   "cell_type": "code",
   "execution_count": 87,
   "metadata": {},
   "outputs": [
    {
     "name": "stdout",
     "output_type": "stream",
     "text": [
      "Test accuracy:  0.11349999904632568\n"
     ]
    }
   ],
   "source": [
    "print('Test accuracy: ', results[1])"
   ]
  },
  {
   "cell_type": "markdown",
   "metadata": {},
   "source": [
    "## 6. Model Ensemble\n",
    "argument max\n",
    "- one-hot encoding의 index 찾을 때\n",
    "- 몇번째 클래스인지 판단할 때"
   ]
  },
  {
   "cell_type": "code",
   "execution_count": 15,
   "metadata": {},
   "outputs": [],
   "source": [
    "y_train = np.argmax(y_train, axis = 1)   #argmax: max값의 index 반환\n",
    "y_test = np.argmax(y_test, axis = 1)"
   ]
  },
  {
   "cell_type": "code",
   "execution_count": 16,
   "metadata": {
    "scrolled": true
   },
   "outputs": [
    {
     "name": "stdout",
     "output_type": "stream",
     "text": [
      "[6 9 2 ... 5 5 3]\n",
      "[7 2 1 ... 4 5 6]\n"
     ]
    }
   ],
   "source": [
    "print(y_train)\n",
    "print(y_test)"
   ]
  },
  {
   "cell_type": "code",
   "execution_count": 17,
   "metadata": {},
   "outputs": [],
   "source": [
    "def mlp_model():\n",
    "    model = Sequential()\n",
    "    \n",
    "    model.add(Dense(50, input_shape = (784, )))\n",
    "    model.add(Activation('sigmoid'))    \n",
    "    model.add(Dense(50))\n",
    "    model.add(Activation('sigmoid'))    \n",
    "    model.add(Dense(50))\n",
    "    model.add(Activation('sigmoid'))    \n",
    "    model.add(Dense(50))\n",
    "    model.add(Activation('sigmoid'))    \n",
    "    model.add(Dense(10))\n",
    "    model.add(Activation('softmax'))\n",
    "    \n",
    "    sgd = optimizers.SGD(lr = 0.001)\n",
    "    model.compile(optimizer = sgd, loss = 'categorical_crossentropy', metrics = ['accuracy'])\n",
    "    \n",
    "    return model"
   ]
  },
  {
   "cell_type": "code",
   "execution_count": 18,
   "metadata": {},
   "outputs": [],
   "source": [
    "model1 = KerasClassifier(build_fn = mlp_model, epochs = 100, verbose = 1)\n",
    "model2 = KerasClassifier(build_fn = mlp_model, epochs = 100, verbose = 1)\n",
    "model3 = KerasClassifier(build_fn = mlp_model, epochs = 100, verbose = 1)\n",
    "#서로 다른 모델 3개. 특별히 미니배치 사이즈 지정 안 했으므로 전체 배치로."
   ]
  },
  {
   "cell_type": "code",
   "execution_count": 19,
   "metadata": {},
   "outputs": [],
   "source": [
    "ensemble_clf = VotingClassifier(estimators = [\n",
    "    ('model1', model1), \n",
    "    ('model2', model2), \n",
    "    ('model3', model3)], voting = 'soft')\n",
    "#voting: 다수결 방식. hard/soft.\n",
    "#soft: validation accuracy 반영해서 가중치 부여해서 결정"
   ]
  },
  {
   "cell_type": "code",
   "execution_count": 20,
   "metadata": {
    "scrolled": true
   },
   "outputs": [
    {
     "name": "stdout",
     "output_type": "stream",
     "text": [
      "Epoch 1/100\n",
      "19800/19800 [==============================] - 1s 47us/step - loss: 2.3879 - acc: 0.0981\n",
      "Epoch 2/100\n",
      "19800/19800 [==============================] - 1s 35us/step - loss: 2.3155 - acc: 0.0986\n",
      "Epoch 3/100\n",
      "19800/19800 [==============================] - 1s 36us/step - loss: 2.3031 - acc: 0.1094\n",
      "Epoch 4/100\n",
      "19800/19800 [==============================] - 1s 36us/step - loss: 2.3009 - acc: 0.1135\n",
      "Epoch 5/100\n",
      "19800/19800 [==============================] - 1s 36us/step - loss: 2.3003 - acc: 0.1135\n",
      "Epoch 6/100\n",
      "19800/19800 [==============================] - 1s 33us/step - loss: 2.3001 - acc: 0.1135\n",
      "Epoch 7/100\n",
      "19800/19800 [==============================] - 1s 35us/step - loss: 2.2998 - acc: 0.1135\n",
      "Epoch 8/100\n",
      "19800/19800 [==============================] - 1s 35us/step - loss: 2.2996 - acc: 0.1135\n",
      "Epoch 9/100\n",
      "19800/19800 [==============================] - 1s 35us/step - loss: 2.2993 - acc: 0.1135\n",
      "Epoch 10/100\n",
      "19800/19800 [==============================] - 1s 35us/step - loss: 2.2991 - acc: 0.1135\n",
      "Epoch 11/100\n",
      "19800/19800 [==============================] - 1s 35us/step - loss: 2.2989 - acc: 0.1135\n",
      "Epoch 12/100\n",
      "19800/19800 [==============================] - 1s 36us/step - loss: 2.2986 - acc: 0.1135\n",
      "Epoch 13/100\n",
      "19800/19800 [==============================] - 1s 35us/step - loss: 2.2984 - acc: 0.1135\n",
      "Epoch 14/100\n",
      "19800/19800 [==============================] - 1s 36us/step - loss: 2.2982 - acc: 0.1135\n",
      "Epoch 15/100\n",
      "19800/19800 [==============================] - 1s 31us/step - loss: 2.2980 - acc: 0.1135\n",
      "Epoch 16/100\n",
      "19800/19800 [==============================] - 1s 35us/step - loss: 2.2977 - acc: 0.1135\n",
      "Epoch 17/100\n",
      "19800/19800 [==============================] - 1s 35us/step - loss: 2.2975 - acc: 0.1135\n",
      "Epoch 18/100\n",
      "19800/19800 [==============================] - 1s 36us/step - loss: 2.2973 - acc: 0.1135\n",
      "Epoch 19/100\n",
      "19800/19800 [==============================] - 1s 34us/step - loss: 2.2970 - acc: 0.1135\n",
      "Epoch 20/100\n",
      "19800/19800 [==============================] - 1s 34us/step - loss: 2.2968 - acc: 0.1135\n",
      "Epoch 21/100\n",
      "19800/19800 [==============================] - 1s 36us/step - loss: 2.2965 - acc: 0.1135\n",
      "Epoch 22/100\n",
      "19800/19800 [==============================] - 1s 36us/step - loss: 2.2963 - acc: 0.1135\n",
      "Epoch 23/100\n",
      "19800/19800 [==============================] - 1s 36us/step - loss: 2.2960 - acc: 0.1135\n",
      "Epoch 24/100\n",
      "19800/19800 [==============================] - 1s 34us/step - loss: 2.2958 - acc: 0.1135\n",
      "Epoch 25/100\n",
      "19800/19800 [==============================] - 1s 36us/step - loss: 2.2955 - acc: 0.1135\n",
      "Epoch 26/100\n",
      "19800/19800 [==============================] - 1s 36us/step - loss: 2.2953 - acc: 0.1135\n",
      "Epoch 27/100\n",
      "19800/19800 [==============================] - 1s 35us/step - loss: 2.2950 - acc: 0.1135\n",
      "Epoch 28/100\n",
      "19800/19800 [==============================] - 1s 35us/step - loss: 2.2947 - acc: 0.1135\n",
      "Epoch 29/100\n",
      "19800/19800 [==============================] - 1s 34us/step - loss: 2.2945 - acc: 0.1135\n",
      "Epoch 30/100\n",
      "19800/19800 [==============================] - 1s 35us/step - loss: 2.2942 - acc: 0.1135\n",
      "Epoch 31/100\n",
      "19800/19800 [==============================] - 1s 32us/step - loss: 2.2939 - acc: 0.1135\n",
      "Epoch 32/100\n",
      "19800/19800 [==============================] - 1s 35us/step - loss: 2.2937 - acc: 0.1135\n",
      "Epoch 33/100\n",
      "19800/19800 [==============================] - 1s 33us/step - loss: 2.2934 - acc: 0.1135\n",
      "Epoch 34/100\n",
      "19800/19800 [==============================] - 1s 36us/step - loss: 2.2931 - acc: 0.1135\n",
      "Epoch 35/100\n",
      "19800/19800 [==============================] - 1s 35us/step - loss: 2.2928 - acc: 0.1135\n",
      "Epoch 36/100\n",
      "19800/19800 [==============================] - 1s 35us/step - loss: 2.2926 - acc: 0.1135\n",
      "Epoch 37/100\n",
      "19800/19800 [==============================] - 1s 35us/step - loss: 2.2922 - acc: 0.1135\n",
      "Epoch 38/100\n",
      "19800/19800 [==============================] - 1s 33us/step - loss: 2.2920 - acc: 0.1135\n",
      "Epoch 39/100\n",
      "19800/19800 [==============================] - 1s 34us/step - loss: 2.2917 - acc: 0.1135\n",
      "Epoch 40/100\n",
      "19800/19800 [==============================] - 1s 34us/step - loss: 2.2913 - acc: 0.1135\n",
      "Epoch 41/100\n",
      "19800/19800 [==============================] - 1s 34us/step - loss: 2.2911 - acc: 0.1135\n",
      "Epoch 42/100\n",
      "19800/19800 [==============================] - 1s 33us/step - loss: 2.2907 - acc: 0.1135\n",
      "Epoch 43/100\n",
      "19800/19800 [==============================] - 1s 33us/step - loss: 2.2904 - acc: 0.1135\n",
      "Epoch 44/100\n",
      "19800/19800 [==============================] - 1s 34us/step - loss: 2.2901 - acc: 0.1135\n",
      "Epoch 45/100\n",
      "19800/19800 [==============================] - 1s 34us/step - loss: 2.2897 - acc: 0.1135\n",
      "Epoch 46/100\n",
      "19800/19800 [==============================] - 1s 34us/step - loss: 2.2894 - acc: 0.1135\n",
      "Epoch 47/100\n",
      "19800/19800 [==============================] - 1s 31us/step - loss: 2.2890 - acc: 0.1135\n",
      "Epoch 48/100\n",
      "19800/19800 [==============================] - 1s 34us/step - loss: 2.2886 - acc: 0.1135\n",
      "Epoch 49/100\n",
      "19800/19800 [==============================] - 1s 35us/step - loss: 2.2883 - acc: 0.1135\n",
      "Epoch 50/100\n",
      "19800/19800 [==============================] - 1s 35us/step - loss: 2.2879 - acc: 0.1135\n",
      "Epoch 51/100\n",
      "19800/19800 [==============================] - 1s 35us/step - loss: 2.2875 - acc: 0.1135\n",
      "Epoch 52/100\n",
      "19800/19800 [==============================] - 1s 32us/step - loss: 2.2871 - acc: 0.1135\n",
      "Epoch 53/100\n",
      "19800/19800 [==============================] - 1s 35us/step - loss: 2.2867 - acc: 0.1135\n",
      "Epoch 54/100\n",
      "19800/19800 [==============================] - 1s 34us/step - loss: 2.2862 - acc: 0.1135\n",
      "Epoch 55/100\n",
      "19800/19800 [==============================] - 1s 34us/step - loss: 2.2858 - acc: 0.1135\n",
      "Epoch 56/100\n",
      "19800/19800 [==============================] - 1s 33us/step - loss: 2.2853 - acc: 0.1135\n",
      "Epoch 57/100\n",
      "19800/19800 [==============================] - 1s 33us/step - loss: 2.2848 - acc: 0.1135\n",
      "Epoch 58/100\n",
      "19800/19800 [==============================] - 1s 34us/step - loss: 2.2843 - acc: 0.1135\n",
      "Epoch 59/100\n",
      "19800/19800 [==============================] - 1s 34us/step - loss: 2.2838 - acc: 0.1135\n",
      "Epoch 60/100\n",
      "19800/19800 [==============================] - 1s 34us/step - loss: 2.2833 - acc: 0.1135\n",
      "Epoch 61/100\n",
      "19800/19800 [==============================] - 1s 32us/step - loss: 2.2827 - acc: 0.1135\n",
      "Epoch 62/100\n",
      "19800/19800 [==============================] - 1s 34us/step - loss: 2.2822 - acc: 0.1135\n",
      "Epoch 63/100\n",
      "19800/19800 [==============================] - 1s 36us/step - loss: 2.2816 - acc: 0.1137\n",
      "Epoch 64/100\n",
      "19800/19800 [==============================] - 1s 34us/step - loss: 2.2810 - acc: 0.1135\n",
      "Epoch 65/100\n",
      "19800/19800 [==============================] - 1s 35us/step - loss: 2.2804 - acc: 0.1135\n",
      "Epoch 66/100\n",
      "19800/19800 [==============================] - 1s 31us/step - loss: 2.2798 - acc: 0.1136\n",
      "Epoch 67/100\n",
      "19800/19800 [==============================] - 1s 33us/step - loss: 2.2791 - acc: 0.1135\n",
      "Epoch 68/100\n",
      "19800/19800 [==============================] - 1s 35us/step - loss: 2.2784 - acc: 0.1135\n",
      "Epoch 69/100\n",
      "19800/19800 [==============================] - 1s 34us/step - loss: 2.2777 - acc: 0.1136\n",
      "Epoch 70/100\n",
      "19800/19800 [==============================] - 1s 34us/step - loss: 2.2770 - acc: 0.1143\n",
      "Epoch 71/100\n",
      "19800/19800 [==============================] - 1s 32us/step - loss: 2.2762 - acc: 0.1136\n",
      "Epoch 72/100\n",
      "19800/19800 [==============================] - 1s 35us/step - loss: 2.2755 - acc: 0.1148\n",
      "Epoch 73/100\n",
      "19800/19800 [==============================] - 1s 30us/step - loss: 2.2747 - acc: 0.1142\n",
      "Epoch 74/100\n",
      "19800/19800 [==============================] - 1s 33us/step - loss: 2.2739 - acc: 0.1153\n",
      "Epoch 75/100\n",
      "19800/19800 [==============================] - 1s 33us/step - loss: 2.2731 - acc: 0.1213\n",
      "Epoch 76/100\n",
      "19800/19800 [==============================] - 1s 32us/step - loss: 2.2722 - acc: 0.1144\n",
      "Epoch 77/100\n",
      "19800/19800 [==============================] - 1s 35us/step - loss: 2.2713 - acc: 0.1175\n",
      "Epoch 78/100\n",
      "19800/19800 [==============================] - 1s 34us/step - loss: 2.2704 - acc: 0.1168\n",
      "Epoch 79/100\n",
      "19800/19800 [==============================] - 1s 34us/step - loss: 2.2695 - acc: 0.1239\n",
      "Epoch 80/100\n",
      "19800/19800 [==============================] - 1s 33us/step - loss: 2.2685 - acc: 0.1263\n",
      "Epoch 81/100\n"
     ]
    },
    {
     "name": "stdout",
     "output_type": "stream",
     "text": [
      "19800/19800 [==============================] - 1s 35us/step - loss: 2.2675 - acc: 0.1336\n",
      "Epoch 82/100\n",
      "19800/19800 [==============================] - 1s 34us/step - loss: 2.2664 - acc: 0.1354\n",
      "Epoch 83/100\n",
      "19800/19800 [==============================] - 1s 34us/step - loss: 2.2653 - acc: 0.1371\n",
      "Epoch 84/100\n",
      "19800/19800 [==============================] - 1s 34us/step - loss: 2.2642 - acc: 0.1278\n",
      "Epoch 85/100\n",
      "19800/19800 [==============================] - 1s 32us/step - loss: 2.2630 - acc: 0.1510\n",
      "Epoch 86/100\n",
      "19800/19800 [==============================] - 1s 34us/step - loss: 2.2618 - acc: 0.1530\n",
      "Epoch 87/100\n",
      "19800/19800 [==============================] - 1s 34us/step - loss: 2.2605 - acc: 0.1417\n",
      "Epoch 88/100\n",
      "19800/19800 [==============================] - 1s 34us/step - loss: 2.2592 - acc: 0.1768\n",
      "Epoch 89/100\n",
      "19800/19800 [==============================] - 1s 34us/step - loss: 2.2578 - acc: 0.1603\n",
      "Epoch 90/100\n",
      "19800/19800 [==============================] - 1s 32us/step - loss: 2.2563 - acc: 0.1841\n",
      "Epoch 91/100\n",
      "19800/19800 [==============================] - 1s 34us/step - loss: 2.2548 - acc: 0.1756\n",
      "Epoch 92/100\n",
      "19800/19800 [==============================] - 1s 34us/step - loss: 2.2532 - acc: 0.1857\n",
      "Epoch 93/100\n",
      "19800/19800 [==============================] - 1s 34us/step - loss: 2.2516 - acc: 0.2080\n",
      "Epoch 94/100\n",
      "19800/19800 [==============================] - 1s 33us/step - loss: 2.2499 - acc: 0.2020\n",
      "Epoch 95/100\n",
      "19800/19800 [==============================] - 1s 33us/step - loss: 2.2481 - acc: 0.2062\n",
      "Epoch 96/100\n",
      "19800/19800 [==============================] - 1s 35us/step - loss: 2.2463 - acc: 0.2307\n",
      "Epoch 97/100\n",
      "19800/19800 [==============================] - 1s 34us/step - loss: 2.2443 - acc: 0.2134\n",
      "Epoch 98/100\n",
      "19800/19800 [==============================] - 1s 34us/step - loss: 2.2422 - acc: 0.2281\n",
      "Epoch 99/100\n",
      "19800/19800 [==============================] - 1s 32us/step - loss: 2.2400 - acc: 0.2432\n",
      "Epoch 100/100\n",
      "19800/19800 [==============================] - 1s 34us/step - loss: 2.2377 - acc: 0.2516\n",
      "Epoch 1/100\n",
      "19800/19800 [==============================] - 1s 51us/step - loss: 2.3577 - acc: 0.0988\n",
      "Epoch 2/100\n",
      "19800/19800 [==============================] - 1s 32us/step - loss: 2.3075 - acc: 0.0988\n",
      "Epoch 3/100\n",
      "19800/19800 [==============================] - 1s 34us/step - loss: 2.3011 - acc: 0.1194\n",
      "Epoch 4/100\n",
      "19800/19800 [==============================] - 1s 35us/step - loss: 2.3001 - acc: 0.1135\n",
      "Epoch 5/100\n",
      "19800/19800 [==============================] - 1s 35us/step - loss: 2.2998 - acc: 0.1135\n",
      "Epoch 6/100\n",
      "19800/19800 [==============================] - 1s 33us/step - loss: 2.2996 - acc: 0.1135\n",
      "Epoch 7/100\n",
      "19800/19800 [==============================] - 1s 35us/step - loss: 2.2994 - acc: 0.1135\n",
      "Epoch 8/100\n",
      "19800/19800 [==============================] - 1s 30us/step - loss: 2.2992 - acc: 0.1135\n",
      "Epoch 9/100\n",
      "19800/19800 [==============================] - 1s 33us/step - loss: 2.2990 - acc: 0.1135\n",
      "Epoch 10/100\n",
      "19800/19800 [==============================] - 1s 35us/step - loss: 2.2988 - acc: 0.1135\n",
      "Epoch 11/100\n",
      "19800/19800 [==============================] - 1s 36us/step - loss: 2.2986 - acc: 0.1135\n",
      "Epoch 12/100\n",
      "19800/19800 [==============================] - 1s 34us/step - loss: 2.2984 - acc: 0.1135\n",
      "Epoch 13/100\n",
      "19800/19800 [==============================] - 1s 32us/step - loss: 2.2981 - acc: 0.1135\n",
      "Epoch 14/100\n",
      "19800/19800 [==============================] - 1s 35us/step - loss: 2.2979 - acc: 0.1135\n",
      "Epoch 15/100\n",
      "19800/19800 [==============================] - 1s 36us/step - loss: 2.2977 - acc: 0.1135\n",
      "Epoch 16/100\n",
      "19800/19800 [==============================] - 1s 36us/step - loss: 2.2975 - acc: 0.1135\n",
      "Epoch 17/100\n",
      "19800/19800 [==============================] - 1s 33us/step - loss: 2.2973 - acc: 0.1135\n",
      "Epoch 18/100\n",
      "19800/19800 [==============================] - 1s 35us/step - loss: 2.2971 - acc: 0.1135\n",
      "Epoch 19/100\n",
      "19800/19800 [==============================] - 1s 35us/step - loss: 2.2968 - acc: 0.1135\n",
      "Epoch 20/100\n",
      "19800/19800 [==============================] - 1s 35us/step - loss: 2.2966 - acc: 0.1135\n",
      "Epoch 21/100\n",
      "19800/19800 [==============================] - 1s 35us/step - loss: 2.2963 - acc: 0.1135\n",
      "Epoch 22/100\n",
      "19800/19800 [==============================] - 1s 32us/step - loss: 2.2961 - acc: 0.1135\n",
      "Epoch 23/100\n",
      "19800/19800 [==============================] - 1s 36us/step - loss: 2.2958 - acc: 0.1135\n",
      "Epoch 24/100\n",
      "19800/19800 [==============================] - 1s 35us/step - loss: 2.2956 - acc: 0.1135\n",
      "Epoch 25/100\n",
      "19800/19800 [==============================] - 1s 35us/step - loss: 2.2953 - acc: 0.1135\n",
      "Epoch 26/100\n",
      "19800/19800 [==============================] - 1s 33us/step - loss: 2.2950 - acc: 0.1135\n",
      "Epoch 27/100\n",
      "19800/19800 [==============================] - 1s 35us/step - loss: 2.2947 - acc: 0.1135\n",
      "Epoch 28/100\n",
      "19800/19800 [==============================] - 1s 35us/step - loss: 2.2945 - acc: 0.1135\n",
      "Epoch 29/100\n",
      "19800/19800 [==============================] - 1s 35us/step - loss: 2.2942 - acc: 0.1135\n",
      "Epoch 30/100\n",
      "19800/19800 [==============================] - 1s 35us/step - loss: 2.2939 - acc: 0.1135\n",
      "Epoch 31/100\n",
      "19800/19800 [==============================] - 1s 29us/step - loss: 2.2936 - acc: 0.1135\n",
      "Epoch 32/100\n",
      "19800/19800 [==============================] - 1s 33us/step - loss: 2.2933 - acc: 0.1135\n",
      "Epoch 33/100\n",
      "19800/19800 [==============================] - 1s 33us/step - loss: 2.2930 - acc: 0.1135\n",
      "Epoch 34/100\n",
      "19800/19800 [==============================] - 1s 34us/step - loss: 2.2927 - acc: 0.1135\n",
      "Epoch 35/100\n",
      "19800/19800 [==============================] - 1s 35us/step - loss: 2.2924 - acc: 0.1135\n",
      "Epoch 36/100\n",
      "19800/19800 [==============================] - 1s 31us/step - loss: 2.2920 - acc: 0.1135\n",
      "Epoch 37/100\n",
      "19800/19800 [==============================] - 1s 35us/step - loss: 2.2917 - acc: 0.1135\n",
      "Epoch 38/100\n",
      "19800/19800 [==============================] - 1s 35us/step - loss: 2.2914 - acc: 0.1135\n",
      "Epoch 39/100\n",
      "19800/19800 [==============================] - 1s 35us/step - loss: 2.2910 - acc: 0.1135\n",
      "Epoch 40/100\n",
      "19800/19800 [==============================] - 1s 34us/step - loss: 2.2906 - acc: 0.1135\n",
      "Epoch 41/100\n",
      "19800/19800 [==============================] - 1s 35us/step - loss: 2.2902 - acc: 0.1135\n",
      "Epoch 42/100\n",
      "19800/19800 [==============================] - 1s 35us/step - loss: 2.2899 - acc: 0.1135\n",
      "Epoch 43/100\n",
      "19800/19800 [==============================] - 1s 35us/step - loss: 2.2895 - acc: 0.1135\n",
      "Epoch 44/100\n",
      "19800/19800 [==============================] - 1s 36us/step - loss: 2.2891 - acc: 0.1135\n",
      "Epoch 45/100\n",
      "19800/19800 [==============================] - 1s 33us/step - loss: 2.2887 - acc: 0.1135\n",
      "Epoch 46/100\n",
      "19800/19800 [==============================] - 1s 35us/step - loss: 2.2883 - acc: 0.1135\n",
      "Epoch 47/100\n",
      "19800/19800 [==============================] - 1s 36us/step - loss: 2.2878 - acc: 0.1135\n",
      "Epoch 48/100\n",
      "19800/19800 [==============================] - 1s 35us/step - loss: 2.2874 - acc: 0.1140\n",
      "Epoch 49/100\n",
      "19800/19800 [==============================] - 1s 36us/step - loss: 2.2870 - acc: 0.1135\n",
      "Epoch 50/100\n",
      "19800/19800 [==============================] - 1s 34us/step - loss: 2.2865 - acc: 0.1135\n",
      "Epoch 51/100\n",
      "19800/19800 [==============================] - 1s 34us/step - loss: 2.2860 - acc: 0.1135\n",
      "Epoch 52/100\n",
      "19800/19800 [==============================] - 1s 35us/step - loss: 2.2855 - acc: 0.1135\n",
      "Epoch 53/100\n",
      "19800/19800 [==============================] - 1s 36us/step - loss: 2.2850 - acc: 0.1135\n",
      "Epoch 54/100\n",
      "19800/19800 [==============================] - 1s 34us/step - loss: 2.2845 - acc: 0.1135\n",
      "Epoch 55/100\n",
      "19800/19800 [==============================] - 1s 35us/step - loss: 2.2840 - acc: 0.1135\n",
      "Epoch 56/100\n",
      "19800/19800 [==============================] - 1s 35us/step - loss: 2.2834 - acc: 0.1135\n",
      "Epoch 57/100\n",
      "19800/19800 [==============================] - 1s 36us/step - loss: 2.2828 - acc: 0.1147\n",
      "Epoch 58/100\n",
      "19800/19800 [==============================] - 1s 35us/step - loss: 2.2822 - acc: 0.1135\n",
      "Epoch 59/100\n",
      "19800/19800 [==============================] - 1s 29us/step - loss: 2.2816 - acc: 0.1136\n",
      "Epoch 60/100\n",
      "19800/19800 [==============================] - 1s 33us/step - loss: 2.2810 - acc: 0.1137\n",
      "Epoch 61/100\n"
     ]
    },
    {
     "name": "stdout",
     "output_type": "stream",
     "text": [
      "19800/19800 [==============================] - 1s 34us/step - loss: 2.2803 - acc: 0.1139\n",
      "Epoch 62/100\n",
      "19800/19800 [==============================] - 1s 36us/step - loss: 2.2797 - acc: 0.1137\n",
      "Epoch 63/100\n",
      "19800/19800 [==============================] - 1s 34us/step - loss: 2.2790 - acc: 0.1144\n",
      "Epoch 64/100\n",
      "19800/19800 [==============================] - 1s 35us/step - loss: 2.2783 - acc: 0.1153\n",
      "Epoch 65/100\n",
      "19800/19800 [==============================] - 1s 34us/step - loss: 2.2775 - acc: 0.1228: 0s - loss: 2.2777 - acc: 0.12\n",
      "Epoch 66/100\n",
      "19800/19800 [==============================] - 1s 35us/step - loss: 2.2768 - acc: 0.1200\n",
      "Epoch 67/100\n",
      "19800/19800 [==============================] - 1s 35us/step - loss: 2.2760 - acc: 0.1177\n",
      "Epoch 68/100\n",
      "19800/19800 [==============================] - 1s 31us/step - loss: 2.2752 - acc: 0.1283\n",
      "Epoch 69/100\n",
      "19800/19800 [==============================] - 1s 35us/step - loss: 2.2743 - acc: 0.1257\n",
      "Epoch 70/100\n",
      "19800/19800 [==============================] - 1s 35us/step - loss: 2.2734 - acc: 0.1325\n",
      "Epoch 71/100\n",
      "19800/19800 [==============================] - 1s 35us/step - loss: 2.2725 - acc: 0.1487\n",
      "Epoch 72/100\n",
      "19800/19800 [==============================] - 1s 35us/step - loss: 2.2715 - acc: 0.1437\n",
      "Epoch 73/100\n",
      "19800/19800 [==============================] - 1s 30us/step - loss: 2.2704 - acc: 0.1494\n",
      "Epoch 74/100\n",
      "19800/19800 [==============================] - 1s 35us/step - loss: 2.2694 - acc: 0.1518\n",
      "Epoch 75/100\n",
      "19800/19800 [==============================] - 1s 35us/step - loss: 2.2682 - acc: 0.1679\n",
      "Epoch 76/100\n",
      "19800/19800 [==============================] - 1s 35us/step - loss: 2.2671 - acc: 0.1760\n",
      "Epoch 77/100\n",
      "19800/19800 [==============================] - 1s 33us/step - loss: 2.2658 - acc: 0.1773\n",
      "Epoch 78/100\n",
      "19800/19800 [==============================] - 1s 35us/step - loss: 2.2646 - acc: 0.1917\n",
      "Epoch 79/100\n",
      "19800/19800 [==============================] - 1s 35us/step - loss: 2.2632 - acc: 0.1848\n",
      "Epoch 80/100\n",
      "19800/19800 [==============================] - 1s 35us/step - loss: 2.2618 - acc: 0.2147\n",
      "Epoch 81/100\n",
      "19800/19800 [==============================] - 1s 36us/step - loss: 2.2604 - acc: 0.2251\n",
      "Epoch 82/100\n",
      "19800/19800 [==============================] - 1s 33us/step - loss: 2.2588 - acc: 0.2152\n",
      "Epoch 83/100\n",
      "19800/19800 [==============================] - 1s 36us/step - loss: 2.2572 - acc: 0.2118\n",
      "Epoch 84/100\n",
      "19800/19800 [==============================] - 1s 35us/step - loss: 2.2556 - acc: 0.2442\n",
      "Epoch 85/100\n",
      "19800/19800 [==============================] - 1s 35us/step - loss: 2.2538 - acc: 0.2364\n",
      "Epoch 86/100\n",
      "19800/19800 [==============================] - 1s 34us/step - loss: 2.2520 - acc: 0.2579\n",
      "Epoch 87/100\n",
      "19800/19800 [==============================] - 1s 34us/step - loss: 2.2501 - acc: 0.2535\n",
      "Epoch 88/100\n",
      "19800/19800 [==============================] - 1s 35us/step - loss: 2.2481 - acc: 0.2414\n",
      "Epoch 89/100\n",
      "19800/19800 [==============================] - 1s 35us/step - loss: 2.2460 - acc: 0.2581\n",
      "Epoch 90/100\n",
      "19800/19800 [==============================] - 1s 35us/step - loss: 2.2438 - acc: 0.2470\n",
      "Epoch 91/100\n",
      "19800/19800 [==============================] - 1s 35us/step - loss: 2.2414 - acc: 0.2660\n",
      "Epoch 92/100\n",
      "19800/19800 [==============================] - 1s 35us/step - loss: 2.2390 - acc: 0.2653\n",
      "Epoch 93/100\n",
      "19800/19800 [==============================] - 1s 36us/step - loss: 2.2364 - acc: 0.2767\n",
      "Epoch 94/100\n",
      "19800/19800 [==============================] - 1s 35us/step - loss: 2.2337 - acc: 0.2589\n",
      "Epoch 95/100\n",
      "19800/19800 [==============================] - 1s 36us/step - loss: 2.2308 - acc: 0.2747\n",
      "Epoch 96/100\n",
      "19800/19800 [==============================] - 1s 32us/step - loss: 2.2277 - acc: 0.2772\n",
      "Epoch 97/100\n",
      "19800/19800 [==============================] - 1s 36us/step - loss: 2.2245 - acc: 0.2746\n",
      "Epoch 98/100\n",
      "19800/19800 [==============================] - 1s 35us/step - loss: 2.2210 - acc: 0.2876\n",
      "Epoch 99/100\n",
      "19800/19800 [==============================] - 1s 35us/step - loss: 2.2175 - acc: 0.2779\n",
      "Epoch 100/100\n",
      "19800/19800 [==============================] - 1s 33us/step - loss: 2.2137 - acc: 0.2893\n",
      "Epoch 1/100\n",
      "19800/19800 [==============================] - 1s 52us/step - loss: 2.4539 - acc: 0.0983\n",
      "Epoch 2/100\n",
      "19800/19800 [==============================] - 1s 34us/step - loss: 2.3295 - acc: 0.0953\n",
      "Epoch 3/100\n",
      "19800/19800 [==============================] - 1s 35us/step - loss: 2.3054 - acc: 0.0999\n",
      "Epoch 4/100\n",
      "19800/19800 [==============================] - 1s 37us/step - loss: 2.3016 - acc: 0.1095\n",
      "Epoch 5/100\n",
      "19800/19800 [==============================] - 1s 35us/step - loss: 2.3008 - acc: 0.1135\n",
      "Epoch 6/100\n",
      "19800/19800 [==============================] - 1s 36us/step - loss: 2.3005 - acc: 0.1135\n",
      "Epoch 7/100\n",
      "19800/19800 [==============================] - 1s 35us/step - loss: 2.3002 - acc: 0.1135\n",
      "Epoch 8/100\n",
      "19800/19800 [==============================] - 1s 36us/step - loss: 2.2999 - acc: 0.1135\n",
      "Epoch 9/100\n",
      "19800/19800 [==============================] - 1s 34us/step - loss: 2.2997 - acc: 0.1135\n",
      "Epoch 10/100\n",
      "19800/19800 [==============================] - 1s 35us/step - loss: 2.2994 - acc: 0.1135\n",
      "Epoch 11/100\n",
      "19800/19800 [==============================] - 1s 36us/step - loss: 2.2992 - acc: 0.1135\n",
      "Epoch 12/100\n",
      "19800/19800 [==============================] - 1s 36us/step - loss: 2.2989 - acc: 0.1135\n",
      "Epoch 13/100\n",
      "19800/19800 [==============================] - 1s 35us/step - loss: 2.2986 - acc: 0.1135\n",
      "Epoch 14/100\n",
      "19800/19800 [==============================] - 1s 36us/step - loss: 2.2984 - acc: 0.1135\n",
      "Epoch 15/100\n",
      "19800/19800 [==============================] - 1s 35us/step - loss: 2.2982 - acc: 0.1135\n",
      "Epoch 16/100\n",
      "19800/19800 [==============================] - 1s 35us/step - loss: 2.2979 - acc: 0.1135\n",
      "Epoch 17/100\n",
      "19800/19800 [==============================] - 1s 36us/step - loss: 2.2977 - acc: 0.1135\n",
      "Epoch 18/100\n",
      "19800/19800 [==============================] - 1s 34us/step - loss: 2.2975 - acc: 0.1135\n",
      "Epoch 19/100\n",
      "19800/19800 [==============================] - 1s 36us/step - loss: 2.2972 - acc: 0.1135\n",
      "Epoch 20/100\n",
      "19800/19800 [==============================] - 1s 37us/step - loss: 2.2970 - acc: 0.1135: 0s - loss: 2.2972 - acc: 0.11\n",
      "Epoch 21/100\n",
      "19800/19800 [==============================] - 1s 36us/step - loss: 2.2968 - acc: 0.1135\n",
      "Epoch 22/100\n",
      "19800/19800 [==============================] - 1s 35us/step - loss: 2.2965 - acc: 0.1135\n",
      "Epoch 23/100\n",
      "19800/19800 [==============================] - 1s 38us/step - loss: 2.2963 - acc: 0.1135\n",
      "Epoch 24/100\n",
      "19800/19800 [==============================] - 1s 37us/step - loss: 2.2961 - acc: 0.1135\n",
      "Epoch 25/100\n",
      "19800/19800 [==============================] - 1s 35us/step - loss: 2.2959 - acc: 0.1135\n",
      "Epoch 26/100\n",
      "19800/19800 [==============================] - 1s 35us/step - loss: 2.2956 - acc: 0.1135\n",
      "Epoch 27/100\n",
      "19800/19800 [==============================] - 1s 32us/step - loss: 2.2954 - acc: 0.1135\n",
      "Epoch 28/100\n",
      "19800/19800 [==============================] - 1s 33us/step - loss: 2.2951 - acc: 0.1135\n",
      "Epoch 29/100\n",
      "19800/19800 [==============================] - 1s 35us/step - loss: 2.2949 - acc: 0.1135\n",
      "Epoch 30/100\n",
      "19800/19800 [==============================] - 1s 35us/step - loss: 2.2946 - acc: 0.1135\n",
      "Epoch 31/100\n",
      "19800/19800 [==============================] - 1s 35us/step - loss: 2.2944 - acc: 0.1135\n",
      "Epoch 32/100\n",
      "19800/19800 [==============================] - 1s 32us/step - loss: 2.2941 - acc: 0.1135\n",
      "Epoch 33/100\n",
      "19800/19800 [==============================] - 1s 36us/step - loss: 2.2939 - acc: 0.1135\n",
      "Epoch 34/100\n",
      "19800/19800 [==============================] - 1s 35us/step - loss: 2.2936 - acc: 0.1135\n",
      "Epoch 35/100\n",
      "19800/19800 [==============================] - 1s 38us/step - loss: 2.2933 - acc: 0.1135\n",
      "Epoch 36/100\n",
      "19800/19800 [==============================] - 1s 33us/step - loss: 2.2931 - acc: 0.1135\n",
      "Epoch 37/100\n",
      "19800/19800 [==============================] - 1s 37us/step - loss: 2.2928 - acc: 0.1135\n",
      "Epoch 38/100\n",
      "19800/19800 [==============================] - 1s 36us/step - loss: 2.2925 - acc: 0.1135\n",
      "Epoch 39/100\n",
      "19800/19800 [==============================] - 1s 35us/step - loss: 2.2922 - acc: 0.1135\n",
      "Epoch 40/100\n"
     ]
    },
    {
     "name": "stdout",
     "output_type": "stream",
     "text": [
      "19800/19800 [==============================] - 1s 34us/step - loss: 2.2920 - acc: 0.1135\n",
      "Epoch 41/100\n",
      "19800/19800 [==============================] - 1s 35us/step - loss: 2.2916 - acc: 0.1135\n",
      "Epoch 42/100\n",
      "19800/19800 [==============================] - 1s 36us/step - loss: 2.2913 - acc: 0.1135\n",
      "Epoch 43/100\n",
      "19800/19800 [==============================] - 1s 35us/step - loss: 2.2910 - acc: 0.1135\n",
      "Epoch 44/100\n",
      "19800/19800 [==============================] - 1s 35us/step - loss: 2.2907 - acc: 0.1135\n",
      "Epoch 45/100\n",
      "19800/19800 [==============================] - 1s 32us/step - loss: 2.2904 - acc: 0.1135\n",
      "Epoch 46/100\n",
      "19800/19800 [==============================] - 1s 36us/step - loss: 2.2900 - acc: 0.1135: 0s - loss: 2.2900 - acc: 0.1\n",
      "Epoch 47/100\n",
      "19800/19800 [==============================] - 1s 36us/step - loss: 2.2897 - acc: 0.1135\n",
      "Epoch 48/100\n",
      "19800/19800 [==============================] - 1s 37us/step - loss: 2.2893 - acc: 0.1135\n",
      "Epoch 49/100\n",
      "19800/19800 [==============================] - 1s 35us/step - loss: 2.2890 - acc: 0.1135\n",
      "Epoch 50/100\n",
      "19800/19800 [==============================] - 1s 35us/step - loss: 2.2886 - acc: 0.1135\n",
      "Epoch 51/100\n",
      "19800/19800 [==============================] - 1s 37us/step - loss: 2.2883 - acc: 0.1136\n",
      "Epoch 52/100\n",
      "19800/19800 [==============================] - 1s 37us/step - loss: 2.2879 - acc: 0.1136\n",
      "Epoch 53/100\n",
      "19800/19800 [==============================] - 1s 36us/step - loss: 2.2875 - acc: 0.1135\n",
      "Epoch 54/100\n",
      "19800/19800 [==============================] - 1s 32us/step - loss: 2.2871 - acc: 0.1135\n",
      "Epoch 55/100\n",
      "19800/19800 [==============================] - 1s 37us/step - loss: 2.2867 - acc: 0.1135\n",
      "Epoch 56/100\n",
      "19800/19800 [==============================] - 1s 37us/step - loss: 2.2863 - acc: 0.1136\n",
      "Epoch 57/100\n",
      "19800/19800 [==============================] - 1s 36us/step - loss: 2.2858 - acc: 0.1163\n",
      "Epoch 58/100\n",
      "19800/19800 [==============================] - 1s 34us/step - loss: 2.2854 - acc: 0.1135\n",
      "Epoch 59/100\n",
      "19800/19800 [==============================] - 1s 37us/step - loss: 2.2849 - acc: 0.1135\n",
      "Epoch 60/100\n",
      "19800/19800 [==============================] - 1s 36us/step - loss: 2.2845 - acc: 0.1137\n",
      "Epoch 61/100\n",
      "19800/19800 [==============================] - 1s 36us/step - loss: 2.2840 - acc: 0.1141\n",
      "Epoch 62/100\n",
      "19800/19800 [==============================] - 1s 37us/step - loss: 2.2835 - acc: 0.1140\n",
      "Epoch 63/100\n",
      "19800/19800 [==============================] - 1s 33us/step - loss: 2.2830 - acc: 0.1191\n",
      "Epoch 64/100\n",
      "19800/19800 [==============================] - 1s 37us/step - loss: 2.2824 - acc: 0.1192\n",
      "Epoch 65/100\n",
      "19800/19800 [==============================] - 1s 36us/step - loss: 2.2819 - acc: 0.1159\n",
      "Epoch 66/100\n",
      "19800/19800 [==============================] - 1s 37us/step - loss: 2.2813 - acc: 0.1149\n",
      "Epoch 67/100\n",
      "19800/19800 [==============================] - 1s 36us/step - loss: 2.2807 - acc: 0.1188\n",
      "Epoch 68/100\n",
      "19800/19800 [==============================] - 1s 36us/step - loss: 2.2801 - acc: 0.1254\n",
      "Epoch 69/100\n",
      "19800/19800 [==============================] - 1s 37us/step - loss: 2.2795 - acc: 0.1299\n",
      "Epoch 70/100\n",
      "19800/19800 [==============================] - 1s 37us/step - loss: 2.2789 - acc: 0.1284\n",
      "Epoch 71/100\n",
      "19800/19800 [==============================] - 1s 36us/step - loss: 2.2782 - acc: 0.1449\n",
      "Epoch 72/100\n",
      "19800/19800 [==============================] - 1s 27us/step - loss: 2.2776 - acc: 0.1262\n",
      "Epoch 73/100\n",
      "19800/19800 [==============================] - 1s 34us/step - loss: 2.2769 - acc: 0.1318\n",
      "Epoch 74/100\n",
      "19800/19800 [==============================] - 1s 38us/step - loss: 2.2761 - acc: 0.1686\n",
      "Epoch 75/100\n",
      "19800/19800 [==============================] - 1s 38us/step - loss: 2.2754 - acc: 0.1451\n",
      "Epoch 76/100\n",
      "19800/19800 [==============================] - 1s 38us/step - loss: 2.2746 - acc: 0.1519\n",
      "Epoch 77/100\n",
      "19800/19800 [==============================] - 1s 38us/step - loss: 2.2739 - acc: 0.1808\n",
      "Epoch 78/100\n",
      "19800/19800 [==============================] - 1s 38us/step - loss: 2.2730 - acc: 0.1661\n",
      "Epoch 79/100\n",
      "19800/19800 [==============================] - 1s 38us/step - loss: 2.2722 - acc: 0.1709\n",
      "Epoch 80/100\n",
      "19800/19800 [==============================] - 1s 38us/step - loss: 2.2713 - acc: 0.1787\n",
      "Epoch 81/100\n",
      "19800/19800 [==============================] - 1s 39us/step - loss: 2.2704 - acc: 0.1945\n",
      "Epoch 82/100\n",
      "19800/19800 [==============================] - 1s 36us/step - loss: 2.2695 - acc: 0.1798\n",
      "Epoch 83/100\n",
      "19800/19800 [==============================] - 1s 34us/step - loss: 2.2685 - acc: 0.1887\n",
      "Epoch 84/100\n",
      "19800/19800 [==============================] - 1s 32us/step - loss: 2.2675 - acc: 0.1909\n",
      "Epoch 85/100\n",
      "19800/19800 [==============================] - 1s 32us/step - loss: 2.2664 - acc: 0.1885\n",
      "Epoch 86/100\n",
      "19800/19800 [==============================] - 1s 34us/step - loss: 2.2653 - acc: 0.1986\n",
      "Epoch 87/100\n",
      "19800/19800 [==============================] - 1s 34us/step - loss: 2.2641 - acc: 0.1928\n",
      "Epoch 88/100\n",
      "19800/19800 [==============================] - 1s 35us/step - loss: 2.2629 - acc: 0.2013\n",
      "Epoch 89/100\n",
      "19800/19800 [==============================] - 1s 35us/step - loss: 2.2616 - acc: 0.1964: 0s - loss: 2.2618 - acc: 0\n",
      "Epoch 90/100\n",
      "19800/19800 [==============================] - 1s 34us/step - loss: 2.2603 - acc: 0.1987\n",
      "Epoch 91/100\n",
      "19800/19800 [==============================] - 1s 35us/step - loss: 2.2589 - acc: 0.2016\n",
      "Epoch 92/100\n",
      "19800/19800 [==============================] - 1s 34us/step - loss: 2.2575 - acc: 0.2018\n",
      "Epoch 93/100\n",
      "19800/19800 [==============================] - 1s 35us/step - loss: 2.2559 - acc: 0.2058\n",
      "Epoch 94/100\n",
      "19800/19800 [==============================] - 1s 33us/step - loss: 2.2543 - acc: 0.2046\n",
      "Epoch 95/100\n",
      "19800/19800 [==============================] - 1s 33us/step - loss: 2.2526 - acc: 0.2053\n",
      "Epoch 96/100\n",
      "19800/19800 [==============================] - 1s 36us/step - loss: 2.2508 - acc: 0.2066\n",
      "Epoch 97/100\n",
      "19800/19800 [==============================] - 1s 37us/step - loss: 2.2489 - acc: 0.2067: 0s - loss: 2.2498 - a\n",
      "Epoch 98/100\n",
      "19800/19800 [==============================] - 1s 36us/step - loss: 2.2469 - acc: 0.2140\n",
      "Epoch 99/100\n",
      "19800/19800 [==============================] - 1s 32us/step - loss: 2.2448 - acc: 0.2069\n",
      "Epoch 100/100\n",
      "19800/19800 [==============================] - 1s 36us/step - loss: 2.2426 - acc: 0.2104\n"
     ]
    },
    {
     "data": {
      "text/plain": [
       "VotingClassifier(estimators=[('model1',\n",
       "                              <keras.wrappers.scikit_learn.KerasClassifier object at 0x0000021BA71B87C8>),\n",
       "                             ('model2',\n",
       "                              <keras.wrappers.scikit_learn.KerasClassifier object at 0x0000021BA71B8788>),\n",
       "                             ('model3',\n",
       "                              <keras.wrappers.scikit_learn.KerasClassifier object at 0x0000021BA71B8808>)],\n",
       "                 flatten_transform=True, n_jobs=None, voting='soft',\n",
       "                 weights=None)"
      ]
     },
     "execution_count": 20,
     "metadata": {},
     "output_type": "execute_result"
    }
   ],
   "source": [
    "ensemble_clf.fit(X_train, y_train)"
   ]
  },
  {
   "cell_type": "code",
   "execution_count": 21,
   "metadata": {},
   "outputs": [
    {
     "name": "stdout",
     "output_type": "stream",
     "text": [
      "10000/10000 [==============================] - 0s 30us/step\n",
      "10000/10000 [==============================] - 0s 28us/step\n",
      "10000/10000 [==============================] - 0s 29us/step\n"
     ]
    }
   ],
   "source": [
    "y_pred = ensemble_clf.predict(X_test)"
   ]
  },
  {
   "cell_type": "code",
   "execution_count": 22,
   "metadata": {},
   "outputs": [
    {
     "name": "stdout",
     "output_type": "stream",
     "text": [
      "Test accuracy: 0.315\n"
     ]
    }
   ],
   "source": [
    "print('Test accuracy:', accuracy_score(y_pred, y_test))\n",
    "#합쳤더니 성능이 31%로 많이 늘어남 (랜덤수준은 10%에 비해서는).\n",
    "#10개 쓰면 더 늘어나겠지"
   ]
  },
  {
   "cell_type": "code",
   "execution_count": 23,
   "metadata": {},
   "outputs": [],
   "source": [
    "#relu로 바꾸면\n",
    "def mlp_model():\n",
    "    model = Sequential()\n",
    "    \n",
    "    model.add(Dense(50, input_shape = (784, )))\n",
    "    model.add(Activation('relu'))    \n",
    "    model.add(Dense(50))\n",
    "    model.add(Activation('relu'))    \n",
    "    model.add(Dense(50))\n",
    "    model.add(Activation('relu'))    \n",
    "    model.add(Dense(50))\n",
    "    model.add(Activation('relu'))    \n",
    "    model.add(Dense(10))\n",
    "    model.add(Activation('softmax'))\n",
    "    \n",
    "    sgd = optimizers.SGD(lr = 0.001)\n",
    "    model.compile(optimizer = sgd, loss = 'categorical_crossentropy', metrics = ['accuracy'])\n",
    "    \n",
    "    return model"
   ]
  },
  {
   "cell_type": "code",
   "execution_count": 24,
   "metadata": {},
   "outputs": [],
   "source": [
    "model1 = KerasClassifier(build_fn = mlp_model, epochs = 100, verbose = 1)\n",
    "model2 = KerasClassifier(build_fn = mlp_model, epochs = 100, verbose = 1)\n",
    "model3 = KerasClassifier(build_fn = mlp_model, epochs = 100, verbose = 1)\n",
    "#서로 다른 모델 3개. 특별히 미니배치 사이즈 지정 안 했으므로 전체 배치로."
   ]
  },
  {
   "cell_type": "code",
   "execution_count": 25,
   "metadata": {},
   "outputs": [],
   "source": [
    "ensemble_clf = VotingClassifier(estimators = [\n",
    "    ('model1', model1), \n",
    "    ('model2', model2), \n",
    "    ('model3', model3)], voting = 'soft')\n",
    "#voting: 다수결 방식. hard/soft.\n",
    "#soft: validation accuracy 반영해서 가중치 부여해서 결정"
   ]
  },
  {
   "cell_type": "code",
   "execution_count": 26,
   "metadata": {},
   "outputs": [
    {
     "name": "stdout",
     "output_type": "stream",
     "text": [
      "Epoch 1/100\n",
      "19800/19800 [==============================] - 1s 55us/step - loss: 2.1607 - acc: 0.6959\n",
      "Epoch 2/100\n",
      "19800/19800 [==============================] - 1s 34us/step - loss: 0.5553 - acc: 0.8492\n",
      "Epoch 3/100\n",
      "19800/19800 [==============================] - 1s 30us/step - loss: 0.4093 - acc: 0.8844\n",
      "Epoch 4/100\n",
      "19800/19800 [==============================] - 1s 33us/step - loss: 0.3390 - acc: 0.9010\n",
      "Epoch 5/100\n",
      "19800/19800 [==============================] - 1s 34us/step - loss: 0.2926 - acc: 0.9146\n",
      "Epoch 6/100\n",
      "19800/19800 [==============================] - 1s 35us/step - loss: 0.2597 - acc: 0.9209\n",
      "Epoch 7/100\n",
      "19800/19800 [==============================] - 1s 36us/step - loss: 0.2354 - acc: 0.9292\n",
      "Epoch 8/100\n",
      "19800/19800 [==============================] - 1s 33us/step - loss: 0.2142 - acc: 0.9357\n",
      "Epoch 9/100\n",
      "19800/19800 [==============================] - 1s 36us/step - loss: 0.1955 - acc: 0.9399\n",
      "Epoch 10/100\n",
      "19800/19800 [==============================] - 1s 35us/step - loss: 0.1842 - acc: 0.9429\n",
      "Epoch 11/100\n",
      "19800/19800 [==============================] - 1s 36us/step - loss: 0.1708 - acc: 0.9477\n",
      "Epoch 12/100\n",
      "19800/19800 [==============================] - 1s 33us/step - loss: 0.1614 - acc: 0.9502\n",
      "Epoch 13/100\n",
      "19800/19800 [==============================] - 1s 36us/step - loss: 0.1531 - acc: 0.9541\n",
      "Epoch 14/100\n",
      "19800/19800 [==============================] - 1s 35us/step - loss: 0.1426 - acc: 0.9564\n",
      "Epoch 15/100\n",
      "19800/19800 [==============================] - 1s 36us/step - loss: 0.1351 - acc: 0.9569\n",
      "Epoch 16/100\n",
      "19800/19800 [==============================] - 1s 36us/step - loss: 0.1285 - acc: 0.9598\n",
      "Epoch 17/100\n",
      "19800/19800 [==============================] - 1s 33us/step - loss: 0.1218 - acc: 0.9626\n",
      "Epoch 18/100\n",
      "19800/19800 [==============================] - 1s 36us/step - loss: 0.1157 - acc: 0.9644\n",
      "Epoch 19/100\n",
      "19800/19800 [==============================] - 1s 31us/step - loss: 0.1095 - acc: 0.9676\n",
      "Epoch 20/100\n",
      "19800/19800 [==============================] - 1s 35us/step - loss: 0.1056 - acc: 0.9683\n",
      "Epoch 21/100\n",
      "19800/19800 [==============================] - 1s 33us/step - loss: 0.1018 - acc: 0.9688\n",
      "Epoch 22/100\n",
      "19800/19800 [==============================] - 1s 35us/step - loss: 0.0957 - acc: 0.9719\n",
      "Epoch 23/100\n",
      "19800/19800 [==============================] - 1s 35us/step - loss: 0.0925 - acc: 0.9723\n",
      "Epoch 24/100\n",
      "19800/19800 [==============================] - 1s 36us/step - loss: 0.0884 - acc: 0.9733\n",
      "Epoch 25/100\n",
      "19800/19800 [==============================] - 1s 36us/step - loss: 0.0839 - acc: 0.9752\n",
      "Epoch 26/100\n",
      "19800/19800 [==============================] - 1s 37us/step - loss: 0.0821 - acc: 0.9747\n",
      "Epoch 27/100\n",
      "19800/19800 [==============================] - 1s 36us/step - loss: 0.0784 - acc: 0.9769\n",
      "Epoch 28/100\n",
      "19800/19800 [==============================] - 1s 36us/step - loss: 0.0744 - acc: 0.9788\n",
      "Epoch 29/100\n",
      "19800/19800 [==============================] - 1s 35us/step - loss: 0.0690 - acc: 0.9806\n",
      "Epoch 30/100\n",
      "19800/19800 [==============================] - 1s 35us/step - loss: 0.0681 - acc: 0.9801\n",
      "Epoch 31/100\n",
      "19800/19800 [==============================] - 1s 35us/step - loss: 0.0651 - acc: 0.9811\n",
      "Epoch 32/100\n",
      "19800/19800 [==============================] - 1s 35us/step - loss: 0.0622 - acc: 0.9825\n",
      "Epoch 33/100\n",
      "19800/19800 [==============================] - 1s 36us/step - loss: 0.0592 - acc: 0.9833\n",
      "Epoch 34/100\n",
      "19800/19800 [==============================] - 1s 36us/step - loss: 0.0561 - acc: 0.9848\n",
      "Epoch 35/100\n",
      "19800/19800 [==============================] - 1s 36us/step - loss: 0.0548 - acc: 0.9856\n",
      "Epoch 36/100\n",
      "19800/19800 [==============================] - 1s 36us/step - loss: 0.0537 - acc: 0.9852\n",
      "Epoch 37/100\n",
      "19800/19800 [==============================] - 1s 36us/step - loss: 0.0498 - acc: 0.9867\n",
      "Epoch 38/100\n",
      "19800/19800 [==============================] - 1s 36us/step - loss: 0.0476 - acc: 0.9870\n",
      "Epoch 39/100\n",
      "19800/19800 [==============================] - 1s 35us/step - loss: 0.0455 - acc: 0.9874\n",
      "Epoch 40/100\n",
      "19800/19800 [==============================] - 1s 35us/step - loss: 0.0441 - acc: 0.9883\n",
      "Epoch 41/100\n",
      "19800/19800 [==============================] - 1s 37us/step - loss: 0.0414 - acc: 0.9894\n",
      "Epoch 42/100\n",
      "19800/19800 [==============================] - 1s 36us/step - loss: 0.0402 - acc: 0.9902\n",
      "Epoch 43/100\n",
      "19800/19800 [==============================] - 1s 36us/step - loss: 0.0381 - acc: 0.9903\n",
      "Epoch 44/100\n",
      "19800/19800 [==============================] - 1s 31us/step - loss: 0.0371 - acc: 0.9910\n",
      "Epoch 45/100\n",
      "19800/19800 [==============================] - 1s 35us/step - loss: 0.0359 - acc: 0.9912\n",
      "Epoch 46/100\n",
      "19800/19800 [==============================] - 1s 35us/step - loss: 0.0336 - acc: 0.9925\n",
      "Epoch 47/100\n",
      "19800/19800 [==============================] - 1s 36us/step - loss: 0.0328 - acc: 0.9921\n",
      "Epoch 48/100\n",
      "19800/19800 [==============================] - 1s 35us/step - loss: 0.0311 - acc: 0.9925\n",
      "Epoch 49/100\n",
      "19800/19800 [==============================] - 1s 34us/step - loss: 0.0295 - acc: 0.9929\n",
      "Epoch 50/100\n",
      "19800/19800 [==============================] - 1s 35us/step - loss: 0.0278 - acc: 0.9938\n",
      "Epoch 51/100\n",
      "19800/19800 [==============================] - 1s 36us/step - loss: 0.0282 - acc: 0.9934\n",
      "Epoch 52/100\n",
      "19800/19800 [==============================] - 1s 35us/step - loss: 0.0257 - acc: 0.9943\n",
      "Epoch 53/100\n",
      "19800/19800 [==============================] - 1s 33us/step - loss: 0.0244 - acc: 0.9945\n",
      "Epoch 54/100\n",
      "19800/19800 [==============================] - 1s 34us/step - loss: 0.0236 - acc: 0.9949: 0s - loss: 0.0217 - acc: 0\n",
      "Epoch 55/100\n",
      "19800/19800 [==============================] - 1s 35us/step - loss: 0.0224 - acc: 0.9953\n",
      "Epoch 56/100\n",
      "19800/19800 [==============================] - 1s 35us/step - loss: 0.0211 - acc: 0.9957\n",
      "Epoch 57/100\n",
      "19800/19800 [==============================] - 1s 36us/step - loss: 0.0204 - acc: 0.9959\n",
      "Epoch 58/100\n",
      "19800/19800 [==============================] - 1s 33us/step - loss: 0.0198 - acc: 0.9962\n",
      "Epoch 59/100\n",
      "19800/19800 [==============================] - 1s 35us/step - loss: 0.0185 - acc: 0.9965\n",
      "Epoch 60/100\n",
      "19800/19800 [==============================] - 1s 36us/step - loss: 0.0179 - acc: 0.9972\n",
      "Epoch 61/100\n",
      "19800/19800 [==============================] - 1s 35us/step - loss: 0.0170 - acc: 0.9975\n",
      "Epoch 62/100\n",
      "19800/19800 [==============================] - 1s 33us/step - loss: 0.0159 - acc: 0.9975\n",
      "Epoch 63/100\n",
      "19800/19800 [==============================] - 1s 34us/step - loss: 0.0153 - acc: 0.9978\n",
      "Epoch 64/100\n",
      "19800/19800 [==============================] - 1s 35us/step - loss: 0.0148 - acc: 0.9975\n",
      "Epoch 65/100\n",
      "19800/19800 [==============================] - 1s 34us/step - loss: 0.0142 - acc: 0.9979\n",
      "Epoch 66/100\n",
      "19800/19800 [==============================] - 1s 36us/step - loss: 0.0139 - acc: 0.9977\n",
      "Epoch 67/100\n",
      "19800/19800 [==============================] - 1s 34us/step - loss: 0.0137 - acc: 0.9980\n",
      "Epoch 68/100\n",
      "19800/19800 [==============================] - 1s 35us/step - loss: 0.0125 - acc: 0.9985\n",
      "Epoch 69/100\n",
      "19800/19800 [==============================] - 1s 34us/step - loss: 0.0121 - acc: 0.9984\n",
      "Epoch 70/100\n",
      "19800/19800 [==============================] - 1s 36us/step - loss: 0.0112 - acc: 0.9986\n",
      "Epoch 71/100\n",
      "19800/19800 [==============================] - 1s 34us/step - loss: 0.0112 - acc: 0.9984\n",
      "Epoch 72/100\n",
      "19800/19800 [==============================] - 1s 35us/step - loss: 0.0107 - acc: 0.9988\n",
      "Epoch 73/100\n",
      "19800/19800 [==============================] - 1s 36us/step - loss: 0.0102 - acc: 0.9988\n",
      "Epoch 74/100\n",
      "19800/19800 [==============================] - 1s 36us/step - loss: 0.0097 - acc: 0.9988\n",
      "Epoch 75/100\n",
      "19800/19800 [==============================] - 1s 36us/step - loss: 0.0094 - acc: 0.9988\n",
      "Epoch 76/100\n",
      "19800/19800 [==============================] - 1s 34us/step - loss: 0.0090 - acc: 0.9990\n",
      "Epoch 77/100\n",
      "19800/19800 [==============================] - 1s 34us/step - loss: 0.0086 - acc: 0.9989\n",
      "Epoch 78/100\n",
      "19800/19800 [==============================] - 1s 36us/step - loss: 0.0085 - acc: 0.9992\n",
      "Epoch 79/100\n",
      "19800/19800 [==============================] - 1s 37us/step - loss: 0.0081 - acc: 0.9994\n",
      "Epoch 80/100\n",
      "19800/19800 [==============================] - 1s 37us/step - loss: 0.0077 - acc: 0.9992\n",
      "Epoch 81/100\n"
     ]
    },
    {
     "name": "stdout",
     "output_type": "stream",
     "text": [
      "19800/19800 [==============================] - 1s 32us/step - loss: 0.0075 - acc: 0.9994\n",
      "Epoch 82/100\n",
      "19800/19800 [==============================] - 1s 37us/step - loss: 0.0072 - acc: 0.9994\n",
      "Epoch 83/100\n",
      "19800/19800 [==============================] - 1s 38us/step - loss: 0.0068 - acc: 0.9995\n",
      "Epoch 84/100\n",
      "19800/19800 [==============================] - 1s 36us/step - loss: 0.0069 - acc: 0.9994\n",
      "Epoch 85/100\n",
      "19800/19800 [==============================] - 1s 38us/step - loss: 0.0066 - acc: 0.9994\n",
      "Epoch 86/100\n",
      "19800/19800 [==============================] - 1s 36us/step - loss: 0.0064 - acc: 0.9995\n",
      "Epoch 87/100\n",
      "19800/19800 [==============================] - 1s 37us/step - loss: 0.0061 - acc: 0.9996\n",
      "Epoch 88/100\n",
      "19800/19800 [==============================] - 1s 36us/step - loss: 0.0058 - acc: 0.9996\n",
      "Epoch 89/100\n",
      "19800/19800 [==============================] - 1s 33us/step - loss: 0.0056 - acc: 0.9997\n",
      "Epoch 90/100\n",
      "19800/19800 [==============================] - 1s 35us/step - loss: 0.0055 - acc: 0.9996\n",
      "Epoch 91/100\n",
      "19800/19800 [==============================] - 1s 35us/step - loss: 0.0054 - acc: 0.9997\n",
      "Epoch 92/100\n",
      "19800/19800 [==============================] - 1s 35us/step - loss: 0.0052 - acc: 0.9996\n",
      "Epoch 93/100\n",
      "19800/19800 [==============================] - 1s 36us/step - loss: 0.0050 - acc: 0.9996\n",
      "Epoch 94/100\n",
      "19800/19800 [==============================] - 1s 34us/step - loss: 0.0049 - acc: 0.9996\n",
      "Epoch 95/100\n",
      "19800/19800 [==============================] - 1s 37us/step - loss: 0.0049 - acc: 0.9997\n",
      "Epoch 96/100\n",
      "19800/19800 [==============================] - 1s 35us/step - loss: 0.0047 - acc: 0.9997\n",
      "Epoch 97/100\n",
      "19800/19800 [==============================] - 1s 35us/step - loss: 0.0045 - acc: 0.9998\n",
      "Epoch 98/100\n",
      "19800/19800 [==============================] - 1s 35us/step - loss: 0.0044 - acc: 0.9999\n",
      "Epoch 99/100\n",
      "19800/19800 [==============================] - 1s 37us/step - loss: 0.0043 - acc: 0.9998\n",
      "Epoch 100/100\n",
      "19800/19800 [==============================] - 1s 37us/step - loss: 0.0043 - acc: 0.9998\n",
      "Epoch 1/100\n",
      "19800/19800 [==============================] - 1s 59us/step - loss: 9.0241 - acc: 0.4142\n",
      "Epoch 2/100\n",
      "19800/19800 [==============================] - 1s 33us/step - loss: 8.3717 - acc: 0.4671\n",
      "Epoch 3/100\n",
      "19800/19800 [==============================] - 1s 36us/step - loss: 8.2663 - acc: 0.4761\n",
      "Epoch 4/100\n",
      "19800/19800 [==============================] - 1s 36us/step - loss: 7.6771 - acc: 0.4966: 0s - loss: 8.0127 \n",
      "Epoch 5/100\n",
      "19800/19800 [==============================] - 1s 35us/step - loss: 2.0928 - acc: 0.7437\n",
      "Epoch 6/100\n",
      "19800/19800 [==============================] - 1s 35us/step - loss: 0.5298 - acc: 0.8578\n",
      "Epoch 7/100\n",
      "19800/19800 [==============================] - 1s 36us/step - loss: 0.3724 - acc: 0.8914\n",
      "Epoch 8/100\n",
      "19800/19800 [==============================] - 1s 35us/step - loss: 0.3032 - acc: 0.9091\n",
      "Epoch 9/100\n",
      "19800/19800 [==============================] - 1s 36us/step - loss: 0.2587 - acc: 0.9225\n",
      "Epoch 10/100\n",
      "19800/19800 [==============================] - 1s 36us/step - loss: 0.2286 - acc: 0.9309\n",
      "Epoch 11/100\n",
      "19800/19800 [==============================] - 1s 36us/step - loss: 0.2059 - acc: 0.9362\n",
      "Epoch 12/100\n",
      "19800/19800 [==============================] - 1s 37us/step - loss: 0.1868 - acc: 0.9421\n",
      "Epoch 13/100\n",
      "19800/19800 [==============================] - 1s 36us/step - loss: 0.1712 - acc: 0.9455\n",
      "Epoch 14/100\n",
      "19800/19800 [==============================] - 1s 36us/step - loss: 0.1569 - acc: 0.9535\n",
      "Epoch 15/100\n",
      "19800/19800 [==============================] - 1s 36us/step - loss: 0.1465 - acc: 0.9549\n",
      "Epoch 16/100\n",
      "19800/19800 [==============================] - 1s 36us/step - loss: 0.1379 - acc: 0.9569\n",
      "Epoch 17/100\n",
      "19800/19800 [==============================] - 1s 36us/step - loss: 0.1285 - acc: 0.9594\n",
      "Epoch 18/100\n",
      "19800/19800 [==============================] - 1s 35us/step - loss: 0.1213 - acc: 0.9637\n",
      "Epoch 19/100\n",
      "19800/19800 [==============================] - 1s 36us/step - loss: 0.1141 - acc: 0.9653\n",
      "Epoch 20/100\n",
      "19800/19800 [==============================] - 1s 34us/step - loss: 0.1099 - acc: 0.9668\n",
      "Epoch 21/100\n",
      "19800/19800 [==============================] - 1s 36us/step - loss: 0.1027 - acc: 0.9694\n",
      "Epoch 22/100\n",
      "19800/19800 [==============================] - 1s 35us/step - loss: 0.0977 - acc: 0.9717\n",
      "Epoch 23/100\n",
      "19800/19800 [==============================] - 1s 36us/step - loss: 0.0931 - acc: 0.9728\n",
      "Epoch 24/100\n",
      "19800/19800 [==============================] - 1s 33us/step - loss: 0.0897 - acc: 0.9740\n",
      "Epoch 25/100\n",
      "19800/19800 [==============================] - 1s 34us/step - loss: 0.0839 - acc: 0.9759\n",
      "Epoch 26/100\n",
      "19800/19800 [==============================] - 1s 36us/step - loss: 0.0803 - acc: 0.9766\n",
      "Epoch 27/100\n",
      "19800/19800 [==============================] - 1s 35us/step - loss: 0.0772 - acc: 0.9764\n",
      "Epoch 28/100\n",
      "19800/19800 [==============================] - 1s 36us/step - loss: 0.0730 - acc: 0.9786\n",
      "Epoch 29/100\n",
      "19800/19800 [==============================] - 1s 34us/step - loss: 0.0700 - acc: 0.9802\n",
      "Epoch 30/100\n",
      "19800/19800 [==============================] - 1s 36us/step - loss: 0.0659 - acc: 0.9814\n",
      "Epoch 31/100\n",
      "19800/19800 [==============================] - 1s 36us/step - loss: 0.0623 - acc: 0.9828\n",
      "Epoch 32/100\n",
      "19800/19800 [==============================] - 1s 36us/step - loss: 0.0601 - acc: 0.9844\n",
      "Epoch 33/100\n",
      "19800/19800 [==============================] - 1s 33us/step - loss: 0.0586 - acc: 0.9836\n",
      "Epoch 34/100\n",
      "19800/19800 [==============================] - 1s 36us/step - loss: 0.0553 - acc: 0.9862\n",
      "Epoch 35/100\n",
      "19800/19800 [==============================] - 1s 36us/step - loss: 0.0533 - acc: 0.9857\n",
      "Epoch 36/100\n",
      "19800/19800 [==============================] - 1s 36us/step - loss: 0.0514 - acc: 0.9865\n",
      "Epoch 37/100\n",
      "19800/19800 [==============================] - 1s 36us/step - loss: 0.0492 - acc: 0.9871\n",
      "Epoch 38/100\n",
      "19800/19800 [==============================] - 1s 33us/step - loss: 0.0466 - acc: 0.9873\n",
      "Epoch 39/100\n",
      "19800/19800 [==============================] - 1s 36us/step - loss: 0.0454 - acc: 0.9889\n",
      "Epoch 40/100\n",
      "19800/19800 [==============================] - 1s 36us/step - loss: 0.0432 - acc: 0.9887\n",
      "Epoch 41/100\n",
      "19800/19800 [==============================] - 1s 37us/step - loss: 0.0416 - acc: 0.9894\n",
      "Epoch 42/100\n",
      "19800/19800 [==============================] - 1s 35us/step - loss: 0.0402 - acc: 0.9903\n",
      "Epoch 43/100\n",
      "19800/19800 [==============================] - 1s 35us/step - loss: 0.0388 - acc: 0.9898\n",
      "Epoch 44/100\n",
      "19800/19800 [==============================] - 1s 36us/step - loss: 0.0369 - acc: 0.9910: 0s - loss: 0.0356 \n",
      "Epoch 45/100\n",
      "19800/19800 [==============================] - 1s 36us/step - loss: 0.0358 - acc: 0.9905\n",
      "Epoch 46/100\n",
      "19800/19800 [==============================] - 1s 36us/step - loss: 0.0340 - acc: 0.9922\n",
      "Epoch 47/100\n",
      "19800/19800 [==============================] - ETA: 0s - loss: 0.0328 - acc: 0.992 - 1s 33us/step - loss: 0.0330 - acc: 0.9918\n",
      "Epoch 48/100\n",
      "19800/19800 [==============================] - 1s 36us/step - loss: 0.0309 - acc: 0.9931\n",
      "Epoch 49/100\n",
      "19800/19800 [==============================] - 1s 36us/step - loss: 0.0297 - acc: 0.9930\n",
      "Epoch 50/100\n",
      "19800/19800 [==============================] - 1s 35us/step - loss: 0.0287 - acc: 0.9934\n",
      "Epoch 51/100\n",
      "19800/19800 [==============================] - 1s 36us/step - loss: 0.0273 - acc: 0.9938\n",
      "Epoch 52/100\n",
      "19800/19800 [==============================] - 1s 36us/step - loss: 0.0263 - acc: 0.9942\n",
      "Epoch 53/100\n",
      "19800/19800 [==============================] - 1s 37us/step - loss: 0.0251 - acc: 0.9947\n",
      "Epoch 54/100\n",
      "19800/19800 [==============================] - 1s 38us/step - loss: 0.0243 - acc: 0.9952\n",
      "Epoch 55/100\n",
      "19800/19800 [==============================] - 1s 37us/step - loss: 0.0233 - acc: 0.9956\n",
      "Epoch 56/100\n",
      "19800/19800 [==============================] - 1s 34us/step - loss: 0.0226 - acc: 0.9957\n",
      "Epoch 57/100\n",
      "19800/19800 [==============================] - 1s 35us/step - loss: 0.0214 - acc: 0.9955\n",
      "Epoch 58/100\n",
      "19800/19800 [==============================] - 1s 37us/step - loss: 0.0206 - acc: 0.9956\n",
      "Epoch 59/100\n",
      "19800/19800 [==============================] - 1s 36us/step - loss: 0.0200 - acc: 0.9961\n",
      "Epoch 60/100\n"
     ]
    },
    {
     "name": "stdout",
     "output_type": "stream",
     "text": [
      "19800/19800 [==============================] - 1s 32us/step - loss: 0.0193 - acc: 0.9968\n",
      "Epoch 61/100\n",
      "19800/19800 [==============================] - 1s 37us/step - loss: 0.0185 - acc: 0.9966\n",
      "Epoch 62/100\n",
      "19800/19800 [==============================] - 1s 36us/step - loss: 0.0177 - acc: 0.9967\n",
      "Epoch 63/100\n",
      "19800/19800 [==============================] - 1s 36us/step - loss: 0.0170 - acc: 0.9971\n",
      "Epoch 64/100\n",
      "19800/19800 [==============================] - 1s 35us/step - loss: 0.0165 - acc: 0.9975\n",
      "Epoch 65/100\n",
      "19800/19800 [==============================] - 1s 35us/step - loss: 0.0159 - acc: 0.9975\n",
      "Epoch 66/100\n",
      "19800/19800 [==============================] - 1s 37us/step - loss: 0.0151 - acc: 0.9978\n",
      "Epoch 67/100\n",
      "19800/19800 [==============================] - 1s 37us/step - loss: 0.0144 - acc: 0.9978\n",
      "Epoch 68/100\n",
      "19800/19800 [==============================] - 1s 37us/step - loss: 0.0140 - acc: 0.9980\n",
      "Epoch 69/100\n",
      "19800/19800 [==============================] - 1s 35us/step - loss: 0.0137 - acc: 0.9982\n",
      "Epoch 70/100\n",
      "19800/19800 [==============================] - 1s 35us/step - loss: 0.0131 - acc: 0.9983\n",
      "Epoch 71/100\n",
      "19800/19800 [==============================] - 1s 37us/step - loss: 0.0129 - acc: 0.9983\n",
      "Epoch 72/100\n",
      "19800/19800 [==============================] - 1s 36us/step - loss: 0.0122 - acc: 0.9985\n",
      "Epoch 73/100\n",
      "19800/19800 [==============================] - 1s 36us/step - loss: 0.0119 - acc: 0.9988\n",
      "Epoch 74/100\n",
      "19800/19800 [==============================] - 1s 37us/step - loss: 0.0115 - acc: 0.9988\n",
      "Epoch 75/100\n",
      "19800/19800 [==============================] - 1s 37us/step - loss: 0.0113 - acc: 0.9986\n",
      "Epoch 76/100\n",
      "19800/19800 [==============================] - 1s 36us/step - loss: 0.0108 - acc: 0.9989\n",
      "Epoch 77/100\n",
      "19800/19800 [==============================] - 1s 37us/step - loss: 0.0103 - acc: 0.9991\n",
      "Epoch 78/100\n",
      "19800/19800 [==============================] - 1s 31us/step - loss: 0.0100 - acc: 0.9990\n",
      "Epoch 79/100\n",
      "19800/19800 [==============================] - 1s 36us/step - loss: 0.0097 - acc: 0.9990\n",
      "Epoch 80/100\n",
      "19800/19800 [==============================] - 1s 35us/step - loss: 0.0093 - acc: 0.9992\n",
      "Epoch 81/100\n",
      "19800/19800 [==============================] - 1s 36us/step - loss: 0.0092 - acc: 0.9991\n",
      "Epoch 82/100\n",
      "19800/19800 [==============================] - 1s 35us/step - loss: 0.0089 - acc: 0.9993\n",
      "Epoch 83/100\n",
      "19800/19800 [==============================] - 1s 35us/step - loss: 0.0088 - acc: 0.9993\n",
      "Epoch 84/100\n",
      "19800/19800 [==============================] - 1s 35us/step - loss: 0.0084 - acc: 0.9992\n",
      "Epoch 85/100\n",
      "19800/19800 [==============================] - 1s 35us/step - loss: 0.0080 - acc: 0.9994\n",
      "Epoch 86/100\n",
      "19800/19800 [==============================] - 1s 36us/step - loss: 0.0080 - acc: 0.9995\n",
      "Epoch 87/100\n",
      "19800/19800 [==============================] - 1s 32us/step - loss: 0.0078 - acc: 0.9993\n",
      "Epoch 88/100\n",
      "19800/19800 [==============================] - 1s 35us/step - loss: 0.0075 - acc: 0.9993\n",
      "Epoch 89/100\n",
      "19800/19800 [==============================] - 1s 35us/step - loss: 0.0074 - acc: 0.9994\n",
      "Epoch 90/100\n",
      "19800/19800 [==============================] - 1s 36us/step - loss: 0.0072 - acc: 0.9996\n",
      "Epoch 91/100\n",
      "19800/19800 [==============================] - 1s 35us/step - loss: 0.0070 - acc: 0.9995\n",
      "Epoch 92/100\n",
      "19800/19800 [==============================] - 1s 36us/step - loss: 0.0068 - acc: 0.9996\n",
      "Epoch 93/100\n",
      "19800/19800 [==============================] - 1s 35us/step - loss: 0.0066 - acc: 0.9996\n",
      "Epoch 94/100\n",
      "19800/19800 [==============================] - 1s 36us/step - loss: 0.0065 - acc: 0.9995\n",
      "Epoch 95/100\n",
      "19800/19800 [==============================] - 1s 36us/step - loss: 0.0063 - acc: 0.9997\n",
      "Epoch 96/100\n",
      "19800/19800 [==============================] - 1s 32us/step - loss: 0.0062 - acc: 0.9995\n",
      "Epoch 97/100\n",
      "19800/19800 [==============================] - 1s 32us/step - loss: 0.0060 - acc: 0.9996\n",
      "Epoch 98/100\n",
      "19800/19800 [==============================] - 1s 36us/step - loss: 0.0059 - acc: 0.9996\n",
      "Epoch 99/100\n",
      "19800/19800 [==============================] - 1s 36us/step - loss: 0.0058 - acc: 0.9996\n",
      "Epoch 100/100\n",
      "19800/19800 [==============================] - 1s 36us/step - loss: 0.0057 - acc: 0.9996\n",
      "Epoch 1/100\n",
      "19800/19800 [==============================] - 1s 57us/step - loss: 4.4065 - acc: 0.6338\n",
      "Epoch 2/100\n",
      "19800/19800 [==============================] - 1s 35us/step - loss: 0.7787 - acc: 0.8196\n",
      "Epoch 3/100\n",
      "19800/19800 [==============================] - 1s 35us/step - loss: 0.4692 - acc: 0.8730\n",
      "Epoch 4/100\n",
      "19800/19800 [==============================] - 1s 35us/step - loss: 0.3591 - acc: 0.9019\n",
      "Epoch 5/100\n",
      "19800/19800 [==============================] - 1s 35us/step - loss: 0.3024 - acc: 0.9127\n",
      "Epoch 6/100\n",
      "19800/19800 [==============================] - 1s 36us/step - loss: 0.2598 - acc: 0.9270\n",
      "Epoch 7/100\n",
      "19800/19800 [==============================] - 1s 36us/step - loss: 0.2296 - acc: 0.9333\n",
      "Epoch 8/100\n",
      "19800/19800 [==============================] - 1s 35us/step - loss: 0.2077 - acc: 0.9409\n",
      "Epoch 9/100\n",
      "19800/19800 [==============================] - 1s 31us/step - loss: 0.1894 - acc: 0.9456\n",
      "Epoch 10/100\n",
      "19800/19800 [==============================] - 1s 36us/step - loss: 0.1745 - acc: 0.9492\n",
      "Epoch 11/100\n",
      "19800/19800 [==============================] - 1s 36us/step - loss: 0.1595 - acc: 0.9539\n",
      "Epoch 12/100\n",
      "19800/19800 [==============================] - 1s 35us/step - loss: 0.1507 - acc: 0.9562\n",
      "Epoch 13/100\n",
      "19800/19800 [==============================] - 1s 35us/step - loss: 0.1412 - acc: 0.9588\n",
      "Epoch 14/100\n",
      "19800/19800 [==============================] - 1s 34us/step - loss: 0.1296 - acc: 0.9628\n",
      "Epoch 15/100\n",
      "19800/19800 [==============================] - 1s 37us/step - loss: 0.1227 - acc: 0.9643\n",
      "Epoch 16/100\n",
      "19800/19800 [==============================] - 1s 36us/step - loss: 0.1166 - acc: 0.9674\n",
      "Epoch 17/100\n",
      "19800/19800 [==============================] - 1s 36us/step - loss: 0.1063 - acc: 0.9689\n",
      "Epoch 18/100\n",
      "19800/19800 [==============================] - 1s 33us/step - loss: 0.1019 - acc: 0.9711\n",
      "Epoch 19/100\n",
      "19800/19800 [==============================] - 1s 37us/step - loss: 0.0960 - acc: 0.9724\n",
      "Epoch 20/100\n",
      "19800/19800 [==============================] - 1s 37us/step - loss: 0.0899 - acc: 0.9741\n",
      "Epoch 21/100\n",
      "19800/19800 [==============================] - 1s 36us/step - loss: 0.0856 - acc: 0.9764\n",
      "Epoch 22/100\n",
      "19800/19800 [==============================] - 1s 36us/step - loss: 0.0796 - acc: 0.9771\n",
      "Epoch 23/100\n",
      "19800/19800 [==============================] - 1s 37us/step - loss: 0.0769 - acc: 0.9772\n",
      "Epoch 24/100\n",
      "19800/19800 [==============================] - 1s 36us/step - loss: 0.0717 - acc: 0.9802\n",
      "Epoch 25/100\n",
      "19800/19800 [==============================] - 1s 35us/step - loss: 0.0674 - acc: 0.9818\n",
      "Epoch 26/100\n",
      "19800/19800 [==============================] - 1s 37us/step - loss: 0.0640 - acc: 0.9837\n",
      "Epoch 27/100\n",
      "19800/19800 [==============================] - 1s 31us/step - loss: 0.0605 - acc: 0.9837\n",
      "Epoch 28/100\n",
      "19800/19800 [==============================] - 1s 34us/step - loss: 0.0578 - acc: 0.9844\n",
      "Epoch 29/100\n",
      "19800/19800 [==============================] - 1s 35us/step - loss: 0.0544 - acc: 0.9859\n",
      "Epoch 30/100\n",
      "19800/19800 [==============================] - 1s 37us/step - loss: 0.0520 - acc: 0.9864\n",
      "Epoch 31/100\n",
      "19800/19800 [==============================] - 1s 35us/step - loss: 0.0497 - acc: 0.9878\n",
      "Epoch 32/100\n",
      "19800/19800 [==============================] - 1s 36us/step - loss: 0.0469 - acc: 0.9878\n",
      "Epoch 33/100\n",
      "19800/19800 [==============================] - 1s 36us/step - loss: 0.0436 - acc: 0.9901\n",
      "Epoch 34/100\n",
      "19800/19800 [==============================] - 1s 35us/step - loss: 0.0423 - acc: 0.9903: 0s - loss: 0.0361 - acc:\n",
      "Epoch 35/100\n",
      "19800/19800 [==============================] - 1s 36us/step - loss: 0.0390 - acc: 0.9911\n",
      "Epoch 36/100\n",
      "19800/19800 [==============================] - 1s 33us/step - loss: 0.0381 - acc: 0.9902\n",
      "Epoch 37/100\n",
      "19800/19800 [==============================] - 1s 36us/step - loss: 0.0358 - acc: 0.9917\n",
      "Epoch 38/100\n",
      "19800/19800 [==============================] - 1s 36us/step - loss: 0.0341 - acc: 0.9929\n",
      "Epoch 39/100\n",
      "19800/19800 [==============================] - 1s 36us/step - loss: 0.0323 - acc: 0.9935\n",
      "Epoch 40/100\n"
     ]
    },
    {
     "name": "stdout",
     "output_type": "stream",
     "text": [
      "19800/19800 [==============================] - 1s 35us/step - loss: 0.0310 - acc: 0.9936\n",
      "Epoch 41/100\n",
      "19800/19800 [==============================] - 1s 35us/step - loss: 0.0296 - acc: 0.9936\n",
      "Epoch 42/100\n",
      "19800/19800 [==============================] - 1s 37us/step - loss: 0.0278 - acc: 0.9947\n",
      "Epoch 43/100\n",
      "19800/19800 [==============================] - 1s 36us/step - loss: 0.0268 - acc: 0.9945\n",
      "Epoch 44/100\n",
      "19800/19800 [==============================] - 1s 36us/step - loss: 0.0257 - acc: 0.9948\n",
      "Epoch 45/100\n",
      "19800/19800 [==============================] - 1s 33us/step - loss: 0.0242 - acc: 0.9951\n",
      "Epoch 46/100\n",
      "19800/19800 [==============================] - 1s 36us/step - loss: 0.0230 - acc: 0.9956\n",
      "Epoch 47/100\n",
      "19800/19800 [==============================] - 1s 36us/step - loss: 0.0215 - acc: 0.9966\n",
      "Epoch 48/100\n",
      "19800/19800 [==============================] - 1s 36us/step - loss: 0.0206 - acc: 0.9967\n",
      "Epoch 49/100\n",
      "19800/19800 [==============================] - 1s 34us/step - loss: 0.0198 - acc: 0.9970\n",
      "Epoch 50/100\n",
      "19800/19800 [==============================] - 1s 37us/step - loss: 0.0186 - acc: 0.9972\n",
      "Epoch 51/100\n",
      "19800/19800 [==============================] - 1s 37us/step - loss: 0.0180 - acc: 0.9972\n",
      "Epoch 52/100\n",
      "19800/19800 [==============================] - 1s 36us/step - loss: 0.0173 - acc: 0.9974\n",
      "Epoch 53/100\n",
      "19800/19800 [==============================] - 1s 36us/step - loss: 0.0164 - acc: 0.9979\n",
      "Epoch 54/100\n",
      "19800/19800 [==============================] - 1s 31us/step - loss: 0.0160 - acc: 0.9979\n",
      "Epoch 55/100\n",
      "19800/19800 [==============================] - 1s 36us/step - loss: 0.0153 - acc: 0.9980\n",
      "Epoch 56/100\n",
      "19800/19800 [==============================] - 1s 36us/step - loss: 0.0144 - acc: 0.9984\n",
      "Epoch 57/100\n",
      "19800/19800 [==============================] - 1s 37us/step - loss: 0.0139 - acc: 0.9982\n",
      "Epoch 58/100\n",
      "19800/19800 [==============================] - 1s 34us/step - loss: 0.0133 - acc: 0.9986\n",
      "Epoch 59/100\n",
      "19800/19800 [==============================] - 1s 36us/step - loss: 0.0132 - acc: 0.9982\n",
      "Epoch 60/100\n",
      "19800/19800 [==============================] - 1s 36us/step - loss: 0.0126 - acc: 0.9987\n",
      "Epoch 61/100\n",
      "19800/19800 [==============================] - 1s 36us/step - loss: 0.0122 - acc: 0.9987\n",
      "Epoch 62/100\n",
      "19800/19800 [==============================] - 1s 36us/step - loss: 0.0115 - acc: 0.9987\n",
      "Epoch 63/100\n",
      "19800/19800 [==============================] - 1s 35us/step - loss: 0.0111 - acc: 0.9989\n",
      "Epoch 64/100\n",
      "19800/19800 [==============================] - 1s 36us/step - loss: 0.0108 - acc: 0.9991\n",
      "Epoch 65/100\n",
      "19800/19800 [==============================] - 1s 36us/step - loss: 0.0105 - acc: 0.9990\n",
      "Epoch 66/100\n",
      "19800/19800 [==============================] - 1s 36us/step - loss: 0.0102 - acc: 0.9991\n",
      "Epoch 67/100\n",
      "19800/19800 [==============================] - 1s 35us/step - loss: 0.0097 - acc: 0.9992\n",
      "Epoch 68/100\n",
      "19800/19800 [==============================] - 1s 36us/step - loss: 0.0094 - acc: 0.9993\n",
      "Epoch 69/100\n",
      "19800/19800 [==============================] - 1s 36us/step - loss: 0.0090 - acc: 0.9995\n",
      "Epoch 70/100\n",
      "19800/19800 [==============================] - 1s 37us/step - loss: 0.0088 - acc: 0.9995\n",
      "Epoch 71/100\n",
      "19800/19800 [==============================] - 1s 37us/step - loss: 0.0086 - acc: 0.9994\n",
      "Epoch 72/100\n",
      "19800/19800 [==============================] - 1s 35us/step - loss: 0.0084 - acc: 0.9995\n",
      "Epoch 73/100\n",
      "19800/19800 [==============================] - 1s 36us/step - loss: 0.0082 - acc: 0.9996\n",
      "Epoch 74/100\n",
      "19800/19800 [==============================] - 1s 36us/step - loss: 0.0079 - acc: 0.9996\n",
      "Epoch 75/100\n",
      "19800/19800 [==============================] - 1s 37us/step - loss: 0.0078 - acc: 0.9995\n",
      "Epoch 76/100\n",
      "19800/19800 [==============================] - 1s 36us/step - loss: 0.0076 - acc: 0.9995\n",
      "Epoch 77/100\n",
      "19800/19800 [==============================] - 1s 36us/step - loss: 0.0075 - acc: 0.9997\n",
      "Epoch 78/100\n",
      "19800/19800 [==============================] - 1s 36us/step - loss: 0.0073 - acc: 0.9995\n",
      "Epoch 79/100\n",
      "19800/19800 [==============================] - 1s 37us/step - loss: 0.0072 - acc: 0.9997\n",
      "Epoch 80/100\n",
      "19800/19800 [==============================] - 1s 35us/step - loss: 0.0071 - acc: 0.9997\n",
      "Epoch 81/100\n",
      "19800/19800 [==============================] - 1s 36us/step - loss: 0.0069 - acc: 0.9997\n",
      "Epoch 82/100\n",
      "19800/19800 [==============================] - 1s 37us/step - loss: 0.0068 - acc: 0.9997\n",
      "Epoch 83/100\n",
      "19800/19800 [==============================] - 1s 36us/step - loss: 0.0067 - acc: 0.9997\n",
      "Epoch 84/100\n",
      "19800/19800 [==============================] - 1s 36us/step - loss: 0.0066 - acc: 0.9997\n",
      "Epoch 85/100\n",
      "19800/19800 [==============================] - 1s 33us/step - loss: 0.0065 - acc: 0.9998\n",
      "Epoch 86/100\n",
      "19800/19800 [==============================] - 1s 37us/step - loss: 0.0064 - acc: 0.9998\n",
      "Epoch 87/100\n",
      "19800/19800 [==============================] - 1s 38us/step - loss: 0.0063 - acc: 0.9997\n",
      "Epoch 88/100\n",
      "19800/19800 [==============================] - 1s 36us/step - loss: 0.0062 - acc: 0.9998\n",
      "Epoch 89/100\n",
      "19800/19800 [==============================] - 1s 34us/step - loss: 0.0061 - acc: 0.9997\n",
      "Epoch 90/100\n",
      "19800/19800 [==============================] - 1s 36us/step - loss: 0.0061 - acc: 0.9998\n",
      "Epoch 91/100\n",
      "19800/19800 [==============================] - 1s 37us/step - loss: 0.0060 - acc: 0.9998\n",
      "Epoch 92/100\n",
      "19800/19800 [==============================] - 1s 36us/step - loss: 0.0059 - acc: 0.9998\n",
      "Epoch 93/100\n",
      "19800/19800 [==============================] - 1s 35us/step - loss: 0.0059 - acc: 0.9998\n",
      "Epoch 94/100\n",
      "19800/19800 [==============================] - 1s 33us/step - loss: 0.0058 - acc: 0.9998\n",
      "Epoch 95/100\n",
      "19800/19800 [==============================] - 1s 37us/step - loss: 0.0057 - acc: 0.9998\n",
      "Epoch 96/100\n",
      "19800/19800 [==============================] - 1s 36us/step - loss: 0.0057 - acc: 0.9998\n",
      "Epoch 97/100\n",
      "19800/19800 [==============================] - 1s 36us/step - loss: 0.0056 - acc: 0.9998\n",
      "Epoch 98/100\n",
      "19800/19800 [==============================] - 1s 37us/step - loss: 0.0056 - acc: 0.9998\n",
      "Epoch 99/100\n",
      "19800/19800 [==============================] - 1s 35us/step - loss: 0.0055 - acc: 0.9998: 0s - loss: 0.0056 - acc: 0.999\n",
      "Epoch 100/100\n",
      "19800/19800 [==============================] - 1s 37us/step - loss: 0.0054 - acc: 0.9998\n"
     ]
    },
    {
     "data": {
      "text/plain": [
       "VotingClassifier(estimators=[('model1',\n",
       "                              <keras.wrappers.scikit_learn.KerasClassifier object at 0x0000021BB070F908>),\n",
       "                             ('model2',\n",
       "                              <keras.wrappers.scikit_learn.KerasClassifier object at 0x0000021BB070F9C8>),\n",
       "                             ('model3',\n",
       "                              <keras.wrappers.scikit_learn.KerasClassifier object at 0x0000021BB070FC48>)],\n",
       "                 flatten_transform=True, n_jobs=None, voting='soft',\n",
       "                 weights=None)"
      ]
     },
     "execution_count": 26,
     "metadata": {},
     "output_type": "execute_result"
    }
   ],
   "source": [
    "ensemble_clf.fit(X_train, y_train)"
   ]
  },
  {
   "cell_type": "markdown",
   "metadata": {},
   "source": [
    "# Advanced MLP - 2\n",
    "    - More training set\n",
    "    - Weight Initialization scheme\n",
    "    - Nonlinearity (Activation function)\n",
    "    - Optimizers: adaptvie\n",
    "    - Batch Normalization\n",
    "    - Dropout (Regularization)\n",
    "    - Model Ensemble"
   ]
  },
  {
   "cell_type": "code",
   "execution_count": 2,
   "metadata": {},
   "outputs": [
    {
     "name": "stdout",
     "output_type": "stream",
     "text": [
      "(60000, 784)\n",
      "(10000, 784)\n",
      "(60000,)\n",
      "(10000,)\n"
     ]
    }
   ],
   "source": [
    "(X_train, y_train), (X_test, y_test) = mnist.load_data()\n",
    "# reshaping X data: (n, 28, 28) => (n, 784)\n",
    "X_train = X_train.reshape((X_train.shape[0], X_train.shape[1] * X_train.shape[2]))\n",
    "X_test = X_test.reshape((X_test.shape[0], X_test.shape[1] * X_test.shape[2]))\n",
    "# We use all training data and validate on all test data\n",
    "print(X_train.shape)\n",
    "print(X_test.shape)\n",
    "print(y_train.shape)\n",
    "print(y_test.shape)"
   ]
  },
  {
   "cell_type": "code",
   "execution_count": 3,
   "metadata": {},
   "outputs": [],
   "source": [
    "#다 섞음\n",
    "def mlp_model():\n",
    "    model = Sequential()\n",
    "    \n",
    "    model.add(Dense(50, input_shape = (784, ), kernel_initializer='he_normal'))\n",
    "    model.add(BatchNormalization())\n",
    "    model.add(Activation('relu'))\n",
    "    model.add(Dropout(0.2))\n",
    "    model.add(Dense(50, kernel_initializer='he_normal'))\n",
    "    model.add(BatchNormalization())\n",
    "    model.add(Activation('relu'))    \n",
    "    model.add(Dropout(0.2))\n",
    "    model.add(Dense(50, kernel_initializer='he_normal'))\n",
    "    model.add(BatchNormalization())\n",
    "    model.add(Activation('relu'))\n",
    "    model.add(Dropout(0.2))\n",
    "    model.add(Dense(50, kernel_initializer='he_normal'))\n",
    "    model.add(BatchNormalization())\n",
    "    model.add(Activation('relu'))\n",
    "    model.add(Dropout(0.2))\n",
    "    model.add(Dense(10, kernel_initializer='he_normal'))\n",
    "    model.add(Activation('softmax'))\n",
    "    \n",
    "    adam = optimizers.Adam(lr = 0.001)\n",
    "    model.compile(optimizer = adam, loss = 'categorical_crossentropy', metrics = ['accuracy'])\n",
    "    \n",
    "    return model"
   ]
  },
  {
   "cell_type": "code",
   "execution_count": 4,
   "metadata": {},
   "outputs": [],
   "source": [
    "# create 5 models to ensemble\n",
    "from keras.callbacks import LambdaCallback\n",
    "from keras.callbacks import EarlyStopping\n",
    "from keras.layers import LeakyReLU"
   ]
  },
  {
   "cell_type": "code",
   "execution_count": 5,
   "metadata": {},
   "outputs": [],
   "source": [
    "def lambdaf_(epoch, logs, step) : \n",
    "    if epoch % step == 0 : print(f\"{epoch} => {logs}\")                \n",
    "        \n",
    "def printepoch(step) :   \n",
    "    return LambdaCallback(on_epoch_end=lambda epoch, logs: lambdaf_(epoch, logs, step)  )"
   ]
  },
  {
   "cell_type": "code",
   "execution_count": 6,
   "metadata": {},
   "outputs": [],
   "source": [
    "model1 = KerasClassifier(build_fn = mlp_model, epochs = 3)\n",
    "model2 = KerasClassifier(build_fn = mlp_model, epochs = 3)\n",
    "model3 = KerasClassifier(build_fn = mlp_model, epochs = 3)\n",
    "model4 = KerasClassifier(build_fn = mlp_model, epochs = 3)\n",
    "model5 = KerasClassifier(build_fn = mlp_model, epochs = 3)"
   ]
  },
  {
   "cell_type": "code",
   "execution_count": 7,
   "metadata": {},
   "outputs": [],
   "source": [
    "#ensemble_clf = VotingClassifier(estimators = [('model1', model1), ('model2', model2), ('model3', model3), ('model4', model4), ('model5', model5)], voting = 'soft')\n",
    "ensemble_clf = VotingClassifier(estimators = [('model1', model1), ('model2', model2)], voting = 'soft')"
   ]
  },
  {
   "cell_type": "code",
   "execution_count": 8,
   "metadata": {
    "scrolled": true
   },
   "outputs": [
    {
     "name": "stdout",
     "output_type": "stream",
     "text": [
      "WARNING:tensorflow:From C:\\Users\\student\\Anaconda3\\lib\\site-packages\\keras\\backend\\tensorflow_backend.py:74: The name tf.get_default_graph is deprecated. Please use tf.compat.v1.get_default_graph instead.\n",
      "\n",
      "WARNING:tensorflow:From C:\\Users\\student\\Anaconda3\\lib\\site-packages\\keras\\backend\\tensorflow_backend.py:517: The name tf.placeholder is deprecated. Please use tf.compat.v1.placeholder instead.\n",
      "\n",
      "WARNING:tensorflow:From C:\\Users\\student\\Anaconda3\\lib\\site-packages\\keras\\backend\\tensorflow_backend.py:4185: The name tf.truncated_normal is deprecated. Please use tf.random.truncated_normal instead.\n",
      "\n",
      "WARNING:tensorflow:From C:\\Users\\student\\Anaconda3\\lib\\site-packages\\keras\\backend\\tensorflow_backend.py:133: The name tf.placeholder_with_default is deprecated. Please use tf.compat.v1.placeholder_with_default instead.\n",
      "\n",
      "WARNING:tensorflow:From C:\\Users\\student\\Anaconda3\\lib\\site-packages\\keras\\backend\\tensorflow_backend.py:3445: calling dropout (from tensorflow.python.ops.nn_ops) with keep_prob is deprecated and will be removed in a future version.\n",
      "Instructions for updating:\n",
      "Please use `rate` instead of `keep_prob`. Rate should be set to `rate = 1 - keep_prob`.\n",
      "WARNING:tensorflow:From C:\\Users\\student\\Anaconda3\\lib\\site-packages\\keras\\optimizers.py:790: The name tf.train.Optimizer is deprecated. Please use tf.compat.v1.train.Optimizer instead.\n",
      "\n",
      "WARNING:tensorflow:From C:\\Users\\student\\Anaconda3\\lib\\site-packages\\keras\\backend\\tensorflow_backend.py:3295: The name tf.log is deprecated. Please use tf.math.log instead.\n",
      "\n",
      "WARNING:tensorflow:From C:\\Users\\student\\Anaconda3\\lib\\site-packages\\tensorflow\\python\\ops\\math_grad.py:1250: add_dispatch_support.<locals>.wrapper (from tensorflow.python.ops.array_ops) is deprecated and will be removed in a future version.\n",
      "Instructions for updating:\n",
      "Use tf.where in 2.0, which has the same broadcast rule as np.where\n",
      "Epoch 1/3\n",
      "60000/60000 [==============================] - 4s 69us/step - loss: 0.7813 - acc: 0.7607\n",
      "Epoch 2/3\n",
      "60000/60000 [==============================] - 3s 50us/step - loss: 0.4250 - acc: 0.8764\n",
      "Epoch 3/3\n",
      "60000/60000 [==============================] - 3s 51us/step - loss: 0.3657 - acc: 0.8965\n",
      "Epoch 1/3\n",
      "60000/60000 [==============================] - 4s 68us/step - loss: 0.7584 - acc: 0.7682\n",
      "Epoch 2/3\n",
      "60000/60000 [==============================] - 3s 52us/step - loss: 0.4266 - acc: 0.8780\n",
      "Epoch 3/3\n",
      "60000/60000 [==============================] - 3s 56us/step - loss: 0.3598 - acc: 0.8972\n"
     ]
    },
    {
     "data": {
      "text/plain": [
       "VotingClassifier(estimators=[('model1',\n",
       "                              <keras.wrappers.scikit_learn.KerasClassifier object at 0x0000021BAAE70D88>),\n",
       "                             ('model2',\n",
       "                              <keras.wrappers.scikit_learn.KerasClassifier object at 0x0000021BAAE70D48>)],\n",
       "                 flatten_transform=True, n_jobs=None, voting='soft',\n",
       "                 weights=None)"
      ]
     },
     "execution_count": 8,
     "metadata": {},
     "output_type": "execute_result"
    }
   ],
   "source": [
    "ensemble_clf.fit(X_train, y_train)"
   ]
  },
  {
   "cell_type": "code",
   "execution_count": 9,
   "metadata": {},
   "outputs": [],
   "source": [
    "y_pred = ensemble_clf.predict(X_test)"
   ]
  },
  {
   "cell_type": "code",
   "execution_count": 10,
   "metadata": {},
   "outputs": [
    {
     "name": "stdout",
     "output_type": "stream",
     "text": [
      "Acc:  0.9605\n"
     ]
    }
   ],
   "source": [
    "print('Acc: ', accuracy_score(y_pred, y_test))\n",
    "#"
   ]
  },
  {
   "cell_type": "code",
   "execution_count": null,
   "metadata": {},
   "outputs": [],
   "source": []
  }
 ],
 "metadata": {
  "kernelspec": {
   "display_name": "Python 3",
   "language": "python",
   "name": "python3"
  },
  "language_info": {
   "codemirror_mode": {
    "name": "ipython",
    "version": 3
   },
   "file_extension": ".py",
   "mimetype": "text/x-python",
   "name": "python",
   "nbconvert_exporter": "python",
   "pygments_lexer": "ipython3",
   "version": "3.7.4"
  },
  "varInspector": {
   "cols": {
    "lenName": 16,
    "lenType": 16,
    "lenVar": 40
   },
   "kernels_config": {
    "python": {
     "delete_cmd_postfix": "",
     "delete_cmd_prefix": "del ",
     "library": "var_list.py",
     "varRefreshCmd": "print(var_dic_list())"
    },
    "r": {
     "delete_cmd_postfix": ") ",
     "delete_cmd_prefix": "rm(",
     "library": "var_list.r",
     "varRefreshCmd": "cat(var_dic_list()) "
    }
   },
   "types_to_exclude": [
    "module",
    "function",
    "builtin_function_or_method",
    "instance",
    "_Feature"
   ],
   "window_display": false
  }
 },
 "nbformat": 4,
 "nbformat_minor": 2
}
