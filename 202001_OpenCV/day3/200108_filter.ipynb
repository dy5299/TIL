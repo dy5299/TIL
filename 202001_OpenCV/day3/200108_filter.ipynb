{
 "cells": [
  {
   "cell_type": "code",
   "execution_count": 63,
   "metadata": {
    "ExecuteTime": {
     "end_time": "2020-01-08T07:12:50.347622Z",
     "start_time": "2020-01-08T07:12:50.333532Z"
    }
   },
   "outputs": [],
   "source": [
    "import scipy.stats as sp\n",
    "import numpy as np\n",
    "import matplotlib.pylab as plt\n",
    "%matplotlib inline\n",
    "import cv2\n",
    "from PIL import ImageFont, ImageDraw, Image"
   ]
  },
  {
   "cell_type": "markdown",
   "metadata": {},
   "source": [
    "## data type과 convolution mask"
   ]
  },
  {
   "cell_type": "code",
   "execution_count": 9,
   "metadata": {
    "ExecuteTime": {
     "end_time": "2020-01-08T05:21:08.346538Z",
     "start_time": "2020-01-08T05:21:08.330557Z"
    }
   },
   "outputs": [
    {
     "name": "stdout",
     "output_type": "stream",
     "text": [
      "[[1 2 3]\n",
      " [4 5 6]\n",
      " [7 8 9]]\n"
     ]
    }
   ],
   "source": [
    "# 원본 그대로\n",
    "img = np.array([\n",
    "    [1,2,3],\n",
    "    [4,5,6],\n",
    "    [7,8,9],\n",
    "], dtype=\"uint8\")\n",
    "\n",
    "kernel = np.array([\n",
    "    [0,0,0],\n",
    "    [0,1,0],\n",
    "    [0,0,0]\n",
    "])\n",
    "\n",
    "filtered = cv2.filter2D(img, -1, kernel)\n",
    "print(filtered)"
   ]
  },
  {
   "cell_type": "code",
   "execution_count": 12,
   "metadata": {
    "ExecuteTime": {
     "end_time": "2020-01-08T05:25:32.710540Z",
     "start_time": "2020-01-08T05:25:32.705573Z"
    }
   },
   "outputs": [
    {
     "name": "stdout",
     "output_type": "stream",
     "text": [
      "[[33 36 39]\n",
      " [42 45 48]\n",
      " [51 54 57]]\n"
     ]
    }
   ],
   "source": [
    "# (1,1)=33임 -> zero padding은 아님, (-1,-1),(-1,1),(1,-1) 세 빈자리 합이 21\n",
    "img = np.array([\n",
    "    [1,2,3],\n",
    "    [4,5,6],\n",
    "    [7,8,9],\n",
    "], dtype=\"uint8\")\n",
    "\n",
    "kernel = np.array([\n",
    "    [1,1,1],\n",
    "    [1,1,1],\n",
    "    [1,1,1]\n",
    "])\n",
    "\n",
    "filtered = cv2.filter2D(img, -1, kernel)\n",
    "print(filtered)"
   ]
  },
  {
   "cell_type": "code",
   "execution_count": 13,
   "metadata": {
    "ExecuteTime": {
     "end_time": "2020-01-08T05:26:59.663249Z",
     "start_time": "2020-01-08T05:26:59.657226Z"
    }
   },
   "outputs": [
    {
     "name": "stdout",
     "output_type": "stream",
     "text": [
      "[[5 4 5]\n",
      " [2 1 2]\n",
      " [5 4 5]]\n"
     ]
    }
   ],
   "source": [
    "# (1,1)=5 -> (-1,-1)=5\n",
    "img = np.array([\n",
    "    [1,2,3],\n",
    "    [4,5,6],\n",
    "    [7,8,9],\n",
    "], dtype=\"uint8\")\n",
    "\n",
    "kernel = np.array([\n",
    "    [1,0,0],\n",
    "    [0,0,0],\n",
    "    [0,0,0]\n",
    "])\n",
    "\n",
    "filtered = cv2.filter2D(img, -1, kernel)\n",
    "print(filtered)"
   ]
  },
  {
   "cell_type": "code",
   "execution_count": 14,
   "metadata": {
    "ExecuteTime": {
     "end_time": "2020-01-08T05:28:04.936328Z",
     "start_time": "2020-01-08T05:28:04.930336Z"
    }
   },
   "outputs": [
    {
     "name": "stdout",
     "output_type": "stream",
     "text": [
      "[[4 5 6]\n",
      " [1 2 3]\n",
      " [4 5 6]]\n"
     ]
    }
   ],
   "source": [
    "# (1,1)=4 -> (1,-1)=4\n",
    "img = np.array([\n",
    "    [1,2,3],\n",
    "    [4,5,6],\n",
    "    [7,8,9],\n",
    "], dtype=\"uint8\")\n",
    "\n",
    "kernel = np.array([\n",
    "    [0,1,0],\n",
    "    [0,0,0],\n",
    "    [0,0,0]\n",
    "])\n",
    "\n",
    "filtered = cv2.filter2D(img, -1, kernel)\n",
    "print(filtered)"
   ]
  },
  {
   "cell_type": "code",
   "execution_count": 15,
   "metadata": {
    "ExecuteTime": {
     "end_time": "2020-01-08T05:29:06.214967Z",
     "start_time": "2020-01-08T05:29:06.209925Z"
    }
   },
   "outputs": [
    {
     "name": "stdout",
     "output_type": "stream",
     "text": [
      "[[5 6 5]\n",
      " [2 3 2]\n",
      " [5 6 5]]\n"
     ]
    }
   ],
   "source": [
    "# (1,1)=5 -> (1,-1)=5\n",
    "img = np.array([\n",
    "    [1,2,3],\n",
    "    [4,5,6],\n",
    "    [7,8,9],\n",
    "], dtype=\"uint8\")\n",
    "\n",
    "kernel = np.array([\n",
    "    [0,0,1],\n",
    "    [0,0,0],\n",
    "    [0,0,0]\n",
    "])\n",
    "\n",
    "filtered = cv2.filter2D(img, -1, kernel)\n",
    "print(filtered)"
   ]
  },
  {
   "cell_type": "code",
   "execution_count": 16,
   "metadata": {
    "ExecuteTime": {
     "end_time": "2020-01-08T05:30:13.462068Z",
     "start_time": "2020-01-08T05:30:13.457009Z"
    }
   },
   "outputs": [
    {
     "name": "stdout",
     "output_type": "stream",
     "text": [
      "[[2 1 2]\n",
      " [5 4 5]\n",
      " [8 7 8]]\n"
     ]
    }
   ],
   "source": [
    "# (1,1)=2 -> (-1,1)=2\n",
    "img = np.array([\n",
    "    [1,2,3],\n",
    "    [4,5,6],\n",
    "    [7,8,9],\n",
    "], dtype=\"uint8\")\n",
    "\n",
    "kernel = np.array([\n",
    "    [0,0,0],\n",
    "    [1,0,0],\n",
    "    [0,0,0]\n",
    "])\n",
    "\n",
    "filtered = cv2.filter2D(img, -1, kernel)\n",
    "print(filtered)"
   ]
  },
  {
   "cell_type": "code",
   "execution_count": 76,
   "metadata": {
    "ExecuteTime": {
     "end_time": "2020-01-08T07:28:19.650141Z",
     "start_time": "2020-01-08T07:28:19.645154Z"
    }
   },
   "outputs": [
    {
     "name": "stdout",
     "output_type": "stream",
     "text": [
      "[[5 4 5]\n",
      " [8 7 8]\n",
      " [5 4 5]]\n"
     ]
    }
   ],
   "source": [
    "# (1,1)=5 -> (-1,2)=5\n",
    "img = np.array([\n",
    "    [1,2,3],\n",
    "    [4,5,6],\n",
    "    [7,8,9],\n",
    "], dtype=\"uint8\")\n",
    "\n",
    "kernel = np.array([\n",
    "    [0,0,0],\n",
    "    [0,0,0],\n",
    "    [1,0,0]\n",
    "])\n",
    "\n",
    "filtered = cv2.filter2D(img, -1, kernel)\n",
    "print(filtered)"
   ]
  },
  {
   "cell_type": "markdown",
   "metadata": {},
   "source": [
    "padding 표현한 벡터 모습  \n",
    "5 4 5 6 5  \n",
    "2 1 2 3 2  \n",
    "5 4 5 6 5  \n",
    "8 7 8 9 8  \n",
    "5 4 5 6 5  \n",
    "<table>\n",
    "    <tr> <td> 5 </td><td> 4 </td><td> 5 </td><td> 6 </td><td> 5 </td></tr>\n",
    "    <tr> <td> 2 </td><td> 1 </td><td> 2 </td><td> 3 </td><td> 2 </td></tr>\n",
    "    <tr> <td> 5 </td><td> 4 </td><td> 5 </td><td> 6 </td><td> 5 </td></tr>\n",
    "    <tr> <td> 8 </td><td> 7 </td><td> 8 </td><td> 9 </td><td> 8 </td></tr>\n",
    "    <tr> <td> 5 </td><td> 4 </td><td> 5 </td><td> 6 </td><td> 5 </td></tr>\n",
    "</table>"
   ]
  },
  {
   "cell_type": "code",
   "execution_count": 34,
   "metadata": {
    "ExecuteTime": {
     "end_time": "2020-01-08T05:36:22.220393Z",
     "start_time": "2020-01-08T05:36:22.215406Z"
    }
   },
   "outputs": [
    {
     "name": "stdout",
     "output_type": "stream",
     "text": [
      "[[255   4 255]\n",
      " [  2   1   2]\n",
      " [255   4 255]]\n"
     ]
    }
   ],
   "source": [
    "# OpenCV의 padding\n",
    "# (-1,-1) 값은 (2,2)에서 가져온 것\n",
    "img = np.array([\n",
    "    [1,2,3],\n",
    "    [4,255,6],\n",
    "    [7,8,9],\n",
    "], dtype=\"uint8\")\n",
    "\n",
    "kernel = np.array([\n",
    "    [1,0,0],\n",
    "    [0,0,0],\n",
    "    [0,0,0]\n",
    "])\n",
    "\n",
    "filtered = cv2.filter2D(img, -1, kernel)\n",
    "print(filtered)"
   ]
  },
  {
   "cell_type": "code",
   "execution_count": 37,
   "metadata": {
    "ExecuteTime": {
     "end_time": "2020-01-08T05:38:06.886051Z",
     "start_time": "2020-01-08T05:38:06.880089Z"
    }
   },
   "outputs": [
    {
     "name": "stdout",
     "output_type": "stream",
     "text": [
      "[[22  4 22]\n",
      " [26 10 26]\n",
      " [34 16 34]]\n"
     ]
    }
   ],
   "source": [
    "# convolution 계산 방법\n",
    "img = np.array([\n",
    "    [1,11,3],\n",
    "    [4,13,6],\n",
    "    [7,17,9],\n",
    "], dtype=\"uint8\")\n",
    "\n",
    "kernel = np.array([\n",
    "    [0,0,0],\n",
    "    [1,0,1],\n",
    "    [0,0,0]\n",
    "])\n",
    "\n",
    "filtered = cv2.filter2D(img, -1, kernel)\n",
    "print(filtered)"
   ]
  },
  {
   "cell_type": "markdown",
   "metadata": {},
   "source": [
    "* uint8에는 -정수가 없는데"
   ]
  },
  {
   "cell_type": "code",
   "execution_count": 38,
   "metadata": {
    "ExecuteTime": {
     "end_time": "2020-01-08T05:46:00.670409Z",
     "start_time": "2020-01-08T05:46:00.666428Z"
    }
   },
   "outputs": [
    {
     "name": "stdout",
     "output_type": "stream",
     "text": [
      "[[0 2 0]\n",
      " [0 2 0]\n",
      " [0 2 0]]\n"
     ]
    }
   ],
   "source": [
    "# 2nd column\n",
    "img = np.array([\n",
    "    [1,2,3],\n",
    "    [4,5,6],\n",
    "    [7,8,9],\n",
    "], dtype=\"uint8\")\n",
    "\n",
    "kernel = np.array([\n",
    "    [0,0,0],\n",
    "    [-1,0,1],\n",
    "    [0,0,0]\n",
    "])\n",
    "\n",
    "filtered = cv2.filter2D(img, -1, kernel)\n",
    "print(filtered)"
   ]
  },
  {
   "cell_type": "markdown",
   "metadata": {},
   "source": [
    "* 기본적으로 clipping 적용되어서 0 미만은 0\n",
    "* 밝기 차이가 0?"
   ]
  },
  {
   "cell_type": "code",
   "execution_count": 39,
   "metadata": {
    "ExecuteTime": {
     "end_time": "2020-01-08T05:46:28.181264Z",
     "start_time": "2020-01-08T05:46:28.175232Z"
    }
   },
   "outputs": [
    {
     "name": "stdout",
     "output_type": "stream",
     "text": [
      "[[0 0 0]\n",
      " [0 0 0]\n",
      " [0 0 0]]\n"
     ]
    }
   ],
   "source": [
    "# 2nd column\n",
    "img = np.array([\n",
    "    [1,2,3],\n",
    "    [4,5,6],\n",
    "    [7,8,9],\n",
    "], dtype=\"uint8\")\n",
    "\n",
    "kernel = np.array([\n",
    "    [0,0,0],\n",
    "    [1,0,-1],\n",
    "    [0,0,0]\n",
    "])\n",
    "\n",
    "filtered = cv2.filter2D(img, -1, kernel)\n",
    "print(filtered)"
   ]
  },
  {
   "cell_type": "markdown",
   "metadata": {},
   "source": [
    "* clipping 적용되어 255 초과는 255"
   ]
  },
  {
   "cell_type": "code",
   "execution_count": 40,
   "metadata": {
    "ExecuteTime": {
     "end_time": "2020-01-08T05:48:45.053064Z",
     "start_time": "2020-01-08T05:48:45.048004Z"
    }
   },
   "outputs": [
    {
     "name": "stdout",
     "output_type": "stream",
     "text": [
      "[[  4   4   4]\n",
      " [ 10 255  10]\n",
      " [ 16  16  16]]\n"
     ]
    }
   ],
   "source": [
    "# (2,2) column\n",
    "img = np.array([\n",
    "    [1,2,3],\n",
    "    [200,5,200],\n",
    "    [7,8,9],\n",
    "], dtype=\"uint8\")\n",
    "\n",
    "kernel = np.array([\n",
    "    [0,0,0],\n",
    "    [1,0,1],\n",
    "    [0,0,0]\n",
    "])\n",
    "\n",
    "filtered = cv2.filter2D(img, -1, kernel)\n",
    "print(filtered)"
   ]
  },
  {
   "cell_type": "markdown",
   "metadata": {},
   "source": [
    "mask의 원소들의 합이 1이 넘으면 255보다 큰 값이 나올 수 있다는 것"
   ]
  },
  {
   "cell_type": "markdown",
   "metadata": {},
   "source": [
    "* 형변환 mask는 float 이어야. not uint"
   ]
  },
  {
   "cell_type": "code",
   "execution_count": 81,
   "metadata": {
    "ExecuteTime": {
     "end_time": "2020-01-08T07:34:17.648111Z",
     "start_time": "2020-01-08T07:34:17.643053Z"
    }
   },
   "outputs": [
    {
     "name": "stdout",
     "output_type": "stream",
     "text": [
      "[[ 0. -2.  0.]\n",
      " [ 0.  0.  0.]\n",
      " [ 0. -2.  0.]]\n"
     ]
    }
   ],
   "source": [
    "# (2,2) column\n",
    "img = np.array([\n",
    "    [1,2,3],\n",
    "    [200,5,200],\n",
    "    [7,8,9],\n",
    "], dtype=\"float\")\n",
    "\n",
    "kernel = np.array([\n",
    "    [0,0,0],\n",
    "    [1,0,-1],\n",
    "    [0,0,0]\n",
    "])\n",
    "\n",
    "filtered = cv2.filter2D(img, -1, kernel)\n",
    "print(filtered)"
   ]
  },
  {
   "cell_type": "markdown",
   "metadata": {},
   "source": [
    "* -2 를 uint8로 변환하니 254\n",
    "-2를 2진수로 바꾸면.. 비트화  \n",
    "2 = 00000010   \n",
    "-2 = 11111110 = 254"
   ]
  },
  {
   "cell_type": "code",
   "execution_count": 82,
   "metadata": {
    "ExecuteTime": {
     "end_time": "2020-01-08T07:34:20.366917Z",
     "start_time": "2020-01-08T07:34:20.353630Z"
    }
   },
   "outputs": [
    {
     "name": "stdout",
     "output_type": "stream",
     "text": [
      "[[[  0   0   0]\n",
      "  [254 254 254]\n",
      "  [  0   0   0]]\n",
      "\n",
      " [[  0   0   0]\n",
      "  [  0   0   0]\n",
      "  [  0   0   0]]\n",
      "\n",
      " [[  0   0   0]\n",
      "  [254 254 254]\n",
      "  [  0   0   0]]]\n"
     ]
    }
   ],
   "source": [
    "#이미지 저장하려면 형변환해서 저장해야 해\n",
    "cv2.imwrite(\"output.png\", filtered.astype('uint8'))\n",
    "\n",
    "img = cv2.imread(\"output.png\")\n",
    "print(img)"
   ]
  },
  {
   "cell_type": "markdown",
   "metadata": {},
   "source": [
    "<img src=output.png width=30%>"
   ]
  },
  {
   "cell_type": "markdown",
   "metadata": {},
   "source": [
    "두 방법 모두 명령어 있음  \n",
    "응용에 따라 적용할 방법이 다름\n",
    "\n",
    "* 음수를 최솟값으로\n",
    "정규화 음수에도 적용시키려면  \n",
    "(min,max)를 (0,255)로 scale 변환하기  \n",
    "(t - min) / (max-min) * 255  \n",
    "* 음수에 절댓값 씌워 크기만 가져오는 방법"
   ]
  },
  {
   "cell_type": "markdown",
   "metadata": {},
   "source": [
    "numpy 이용한"
   ]
  },
  {
   "cell_type": "code",
   "execution_count": 53,
   "metadata": {
    "ExecuteTime": {
     "end_time": "2020-01-08T06:43:22.160066Z",
     "start_time": "2020-01-08T06:43:22.153066Z"
    }
   },
   "outputs": [
    {
     "name": "stdout",
     "output_type": "stream",
     "text": [
      "[[255.   0. 255.]\n",
      " [255. 255. 255.]\n",
      " [255.   0. 255.]]\n",
      "2.0\n",
      "[[  0. 255.   0.]\n",
      " [  0.   0.   0.]\n",
      " [  0. 255.   0.]]\n",
      "[[255   0 255]\n",
      " [255 255 255]\n",
      " [255   0 255]]\n"
     ]
    }
   ],
   "source": [
    "#첫번째 방법\n",
    "n = (  filtered - np.min(filtered)  )/(   np.max(filtered) - np.min(filtered)   )*255\n",
    "print(n)\n",
    "m = np.ptp(filtered)\n",
    "print(m)\n",
    "\n",
    "\n",
    "#두번째 방법\n",
    "n2 = np.abs(filtered) / np.max(np.abs(filtered)) * 255\n",
    "print(n2)\n",
    "\n",
    "\n",
    "#함수 이용\n",
    "#마스크 현상이라 None\n",
    "#cv2.NORM_MINMAX : (t - min) / (max-min) * 255  공식을 이용\n",
    "norm = cv2.normalize(filtered, None, 0, 255, cv2.NORM_MINMAX).astype('uint8')\n",
    "print(norm)\n",
    "\n",
    "norm2 = cv2.normalize(filtered, None, 0, 255, cv2.NORM_MINMAX).astype('uint8')\n",
    "print(norm2)"
   ]
  },
  {
   "cell_type": "markdown",
   "metadata": {},
   "source": [
    "# 영역 처리를 이용한 에지 검출"
   ]
  },
  {
   "cell_type": "code",
   "execution_count": 72,
   "metadata": {
    "ExecuteTime": {
     "end_time": "2020-01-08T07:21:36.164226Z",
     "start_time": "2020-01-08T07:21:36.129621Z"
    }
   },
   "outputs": [
    {
     "name": "stdout",
     "output_type": "stream",
     "text": [
      "5\n",
      "290\n"
     ]
    },
    {
     "data": {
      "text/plain": [
       "True"
      ]
     },
     "execution_count": 72,
     "metadata": {},
     "output_type": "execute_result"
    }
   ],
   "source": [
    "# 모든 이미지 처리는 흑백에서 처리하는게 효과적이라\n",
    "#항상 처리(계산)할 때에는 float 형태로.\n",
    "src = cv2.imread(\"lena.png\", cv2.IMREAD_GRAYSCALE)\n",
    "src2 = src.astype('int16')  \n",
    "\n",
    "#위아래 변화를 감지할 수 있는 엣지 필터. 엠보싱 필터.\n",
    "kernel = np.array([\n",
    "    [0,1,0],\n",
    "    [0,0,0],\n",
    "    [0,-1,0]\n",
    "])\n",
    "filtered0 = cv2.filter2D(src2, -1, kernel)\n",
    "filtered = cv2.filter2D(src2, -1, kernel)+128\n",
    "\n",
    "filtered2 = cv2.filter2D(src2, -1, kernel)\n",
    "filtered2 = cv2.normalize(filtered2, None, 0, 255, cv2.NORM_MINMAX)\n",
    "\n",
    "print(np.min(filtered))\n",
    "print(np.max(filtered))\n",
    "\n",
    "cv2.imwrite(\"output0.png\", filtered0)\n",
    "cv2.imwrite(\"output1.png\", filtered)\n",
    "cv2.imwrite(\"output2.png\", filtered2)\n",
    "\n",
    "#첫번째방법으로 했기때문에 엣지의 방향성을 볼 수 있음"
   ]
  },
  {
   "attachments": {},
   "cell_type": "markdown",
   "metadata": {},
   "source": [
    "* 정규화 안 함 : 음수엣지가 0 (검정색) | +128 | (0~255)로 정규화\n",
    "<img src=output0.png width=30%>\n",
    "<img src=output1.png width=30%>\n",
    "<img src=output2.png width=30%>"
   ]
  },
  {
   "cell_type": "markdown",
   "metadata": {},
   "source": [
    "### 수직 차이 계산 -> 수평엣지 검출\n",
    "<img src=output3.png width=30%>"
   ]
  },
  {
   "cell_type": "code",
   "execution_count": 78,
   "metadata": {
    "ExecuteTime": {
     "end_time": "2020-01-08T07:28:43.527580Z",
     "start_time": "2020-01-08T07:28:43.516609Z"
    }
   },
   "outputs": [
    {
     "data": {
      "text/plain": [
       "True"
      ]
     },
     "execution_count": 78,
     "metadata": {},
     "output_type": "execute_result"
    }
   ],
   "source": [
    "# 수평엣지 검출\n",
    "src = cv2.imread(\"shape.png\", cv2.IMREAD_GRAYSCALE)\n",
    "src2 = src.astype('int16')  \n",
    "\n",
    "kernel = np.array([ \n",
    "    [0,1,0],           #수직 차이\n",
    "    [0,0,0],\n",
    "    [0,-1,0]\n",
    "])\n",
    "filtered = cv2.filter2D(src2, -1, kernel)\n",
    "\n",
    "cv2.imwrite(\"output3.png\", filtered)"
   ]
  },
  {
   "cell_type": "markdown",
   "metadata": {},
   "source": [
    "### 수평 차이 계산 -> 수직엣지 검출\n",
    "<img src=output4.png width=30%>"
   ]
  },
  {
   "cell_type": "code",
   "execution_count": 80,
   "metadata": {
    "ExecuteTime": {
     "end_time": "2020-01-08T07:32:11.079334Z",
     "start_time": "2020-01-08T07:32:11.068403Z"
    }
   },
   "outputs": [
    {
     "data": {
      "text/plain": [
       "True"
      ]
     },
     "execution_count": 80,
     "metadata": {},
     "output_type": "execute_result"
    }
   ],
   "source": [
    "# 수평엣지 검출\n",
    "src = cv2.imread(\"shape.png\", cv2.IMREAD_GRAYSCALE)\n",
    "src2 = src.astype('int16')  \n",
    "\n",
    "kernel = np.array([ \n",
    "    [0,0,0],           #수직 차이\n",
    "    [1,0,-1],\n",
    "    [0,0,0]\n",
    "])\n",
    "filtered = cv2.filter2D(src2, -1, kernel)\n",
    "\n",
    "cv2.imwrite(\"output4.png\", filtered)"
   ]
  },
  {
   "cell_type": "code",
   "execution_count": 83,
   "metadata": {
    "ExecuteTime": {
     "end_time": "2020-01-08T07:35:49.384731Z",
     "start_time": "2020-01-08T07:35:49.371796Z"
    }
   },
   "outputs": [
    {
     "data": {
      "text/plain": [
       "True"
      ]
     },
     "execution_count": 83,
     "metadata": {},
     "output_type": "execute_result"
    }
   ],
   "source": [
    "# 원본 이미지에서 굵기를 더 굵게\n",
    "src = cv2.imread(\"shape2.png\", cv2.IMREAD_GRAYSCALE)\n",
    "src2 = src.astype('int16')  \n",
    "\n",
    "kernel = np.array([\n",
    "    [0,1,0],\n",
    "    [1,0,-1],\n",
    "    [0,-1,0]\n",
    "])\n",
    "filtered = cv2.filter2D(src2, -1, kernel)\n",
    "\n",
    "cv2.imwrite(\"output5.png\", filtered)"
   ]
  },
  {
   "cell_type": "markdown",
   "metadata": {},
   "source": [
    "### 가우시안 블러 후 엣지 추출"
   ]
  },
  {
   "cell_type": "code",
   "execution_count": 90,
   "metadata": {
    "ExecuteTime": {
     "end_time": "2020-01-08T08:42:44.838789Z",
     "start_time": "2020-01-08T08:42:44.708073Z"
    }
   },
   "outputs": [
    {
     "data": {
      "text/plain": [
       "<matplotlib.image.AxesImage at 0x17a3a68d148>"
      ]
     },
     "execution_count": 90,
     "metadata": {},
     "output_type": "execute_result"
    },
    {
     "data": {
      "image/png": "[encoded data removed]",
      "text/plain": [
       "<Figure size 432x288 with 1 Axes>"
      ]
     },
     "metadata": {
      "needs_background": "light"
     },
     "output_type": "display_data"
    }
   ],
   "source": [
    "img = cv2.imread(\"brain.jpeg\")\n",
    "gauss = cv2.GaussianBlur(img, (25,25),0)  #행렬 크기 클수록 블러 많이\n",
    "\n",
    "plt.imshow(np.hstack([img,gauss]))"
   ]
  },
  {
   "cell_type": "code",
   "execution_count": null,
   "metadata": {},
   "outputs": [],
   "source": []
  }
 ],
 "metadata": {
  "kernelspec": {
   "display_name": "Python 3",
   "language": "python",
   "name": "python3"
  },
  "language_info": {
   "codemirror_mode": {
    "name": "ipython",
    "version": 3
   },
   "file_extension": ".py",
   "mimetype": "text/x-python",
   "name": "python",
   "nbconvert_exporter": "python",
   "pygments_lexer": "ipython3",
   "version": "3.7.5"
  },
  "varInspector": {
   "cols": {
    "lenName": 16,
    "lenType": 16,
    "lenVar": 40
   },
   "kernels_config": {
    "python": {
     "delete_cmd_postfix": "",
     "delete_cmd_prefix": "del ",
     "library": "var_list.py",
     "varRefreshCmd": "print(var_dic_list())"
    },
    "r": {
     "delete_cmd_postfix": ") ",
     "delete_cmd_prefix": "rm(",
     "library": "var_list.r",
     "varRefreshCmd": "cat(var_dic_list()) "
    }
   },
   "types_to_exclude": [
    "module",
    "function",
    "builtin_function_or_method",
    "instance",
    "_Feature"
   ],
   "window_display": false
  }
 },
 "nbformat": 4,
 "nbformat_minor": 2
}
