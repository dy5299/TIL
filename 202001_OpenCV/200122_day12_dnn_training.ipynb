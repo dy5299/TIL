{
 "cells": [
  {
   "cell_type": "code",
   "execution_count": 1,
   "metadata": {
    "scrolled": true
   },
   "outputs": [
    {
     "name": "stderr",
     "output_type": "stream",
     "text": [
      "Using TensorFlow backend.\n"
     ]
    }
   ],
   "source": [
    "import numpy as np\n",
    "import matplotlib.pyplot as plt\n",
    "import cv2\n",
    "\n",
    "from sklearn import datasets\n",
    "from sklearn.model_selection import train_test_split\n",
    "from keras.utils.np_utils import to_categorical\n",
    "from keras.models import Sequential\n",
    "from keras import optimizers\n",
    "\n",
    "from keras.layers import Dense, Activation, Flatten, Conv2D, MaxPooling2D\n",
    "from keras.layers import BatchNormalization, Dropout"
   ]
  },
  {
   "cell_type": "code",
   "execution_count": 84,
   "metadata": {
    "scrolled": false
   },
   "outputs": [
    {
     "name": "stdout",
     "output_type": "stream",
     "text": [
      "X_train:  (45, 24, 24)\n",
      "y_train:  (45,)\n",
      "X_test:  (15, 24, 24)\n",
      "y_test:  (15,)\n"
     ]
    }
   ],
   "source": [
    "#train data\n",
    "X_train = np.zeros([15*3,24,24])\n",
    "y_train = np.zeros(15*3)\n",
    "\n",
    "figures=['circle','rectangle','triangle']\n",
    "\n",
    "for idx in range(len(figures)) :\n",
    "    for i in range(15) :\n",
    "#        img = cv2.imread(   f'{hard_handwriting_shape/train/{figures[idx]}/{figures[idx]:03d.format(i+1)}.png}'   ,0)  #0:gray\n",
    "        img = cv2.imread('hard_handwriting_shape/train/' + figures[idx] + '/' + figures[idx] + \"{0:03d}.png\".format(i+1) , 0)\n",
    "        X_train[idx*15+i,:,:] = img\n",
    "        y_train[idx*15+i] = idx\n",
    "#\"hello{1:05d}\".format(5, 87)\n",
    "\n",
    "\n",
    "#X_data = data.images\n",
    "#y_data = data.target\n",
    "\n",
    "\n",
    "\n",
    "#test data\n",
    "X_test = np.zeros([15,24,24])\n",
    "y_test = np.zeros(5*3)\n",
    "\n",
    "figures=['circle','rectangle','triangle']\n",
    "\n",
    "for idx in range(len(figures)) :\n",
    "    for i in range(5) :\n",
    "#        img = cv2.imread(   f'{hard_handwriting_shape/train/{figures[idx]}/{figures[idx]:03d.format(i+1)}.png}'   ,0)  #0:gray\n",
    "        img = cv2.imread('hard_handwriting_shape/test_easy/' + figures[idx] + '/' + figures[idx] + \"{0:03d}.png\".format(i+20+1) , 0)\n",
    "        X_train[idx*5+i,:,:] = img\n",
    "        y_train[idx*5+i] = idx\n",
    "\n",
    "\n",
    "\n",
    "print('X_train: ', X_train.shape)\n",
    "print('y_train: ', y_train.shape)\n",
    "print('X_test: ', X_test.shape)\n",
    "print('y_test: ', y_test.shape)"
   ]
  },
  {
   "cell_type": "code",
   "execution_count": 40,
   "metadata": {},
   "outputs": [],
   "source": [
    "#pf\n",
    "X_train = np.zeros((15*3, 24,24))\n",
    "y_train = np.zeros(15*3)\n",
    "\n",
    "for i in range(15) :    \n",
    "    img = cv2.imread('hard_handwriting_shape/train/circle/circle{0:03d}.png'.format(i+1), 0)        \n",
    "    X_train[i,:,:] = img\n",
    "    y_train[i] = 0\n",
    "    \n",
    "for i in range(15) :    \n",
    "    img = cv2.imread('hard_handwriting_shape/train/rectangle/rectangle{0:03d}.png'.format(i+1), 0)        \n",
    "    X_train[15+i,:,:] = img\n",
    "    y_train[15+i] = 1\n",
    "    \n",
    "for i in range(15) :    \n",
    "    img = cv2.imread('hard_handwriting_shape/train/triangle/triangle{0:03d}.png'.format(i+1), 0)        \n",
    "    X_train[30+i,:,:] = img\n",
    "    y_train[30+i] = 2     \n",
    "    \n",
    "\n",
    "\n",
    "\n",
    "X_test = np.zeros((5*3, 24,24))\n",
    "y_test = np.zeros(5*3)\n",
    "\n",
    "for i in range(5) :    \n",
    "    img = cv2.imread('hard_handwriting_shape/test/circle/circle{0:03d}.png'.format(i+21), 0)        \n",
    "    X_test[i,:,:] = img\n",
    "    y_test[i] = 0\n",
    "    \n",
    "for i in range(5) :    \n",
    "    img = cv2.imread('hard_handwriting_shape/test/rectangle/rectangle{0:03d}.png'.format(i+21), 0)        \n",
    "    X_test[5+i,:,:] = img\n",
    "    y_test[5+i] = 1\n",
    "    \n",
    "for i in range(5) :    \n",
    "    img = cv2.imread('hard_handwriting_shape/test/triangle/triangle{0:03d}.png'.format(i+21), 0)        \n",
    "    X_test[10+i,:,:] = img\n",
    "    y_test[10+i] = 2"
   ]
  },
  {
   "cell_type": "code",
   "execution_count": 41,
   "metadata": {
    "scrolled": true
   },
   "outputs": [
    {
     "data": {
      "text/plain": [
       "<matplotlib.image.AxesImage at 0x13ed100dfc8>"
      ]
     },
     "execution_count": 41,
     "metadata": {},
     "output_type": "execute_result"
    },
    {
     "data": {
      "image/png": "[encoded data removed]",
      "text/plain": [
       "<Figure size 432x288 with 1 Axes>"
      ]
     },
     "metadata": {
      "needs_background": "light"
     },
     "output_type": "display_data"
    }
   ],
   "source": [
    "plt.imshow(X_train[0], cmap=\"gray\")"
   ]
  },
  {
   "cell_type": "code",
   "execution_count": 42,
   "metadata": {},
   "outputs": [
    {
     "name": "stdout",
     "output_type": "stream",
     "text": [
      "(45, 24, 24) (15, 24, 24) (45, 3) (15, 3)\n"
     ]
    }
   ],
   "source": [
    "# converting y data into categorical (one-hot encoding)\n",
    "y_train = to_categorical(y_train)\n",
    "y_test = to_categorical(y_test)\n",
    "print(X_train.shape, X_test.shape, y_train.shape, y_test.shape)"
   ]
  },
  {
   "cell_type": "code",
   "execution_count": 43,
   "metadata": {
    "scrolled": true
   },
   "outputs": [
    {
     "name": "stdout",
     "output_type": "stream",
     "text": [
      "(45, 24, 24, 1)\n",
      "(15, 24, 24, 1)\n",
      "(45, 3)\n",
      "(15, 3)\n"
     ]
    }
   ],
   "source": [
    "# 4차원으로 변경\n",
    "X_train = X_train.reshape((X_train.shape[0], X_train.shape[1], X_train.shape[2], 1))\n",
    "X_test = X_test.reshape((X_test.shape[0], X_test.shape[1], X_test.shape[2], 1))\n",
    "\n",
    "print(X_train.shape)\n",
    "print(X_test.shape)\n",
    "print(y_train.shape)\n",
    "print(y_test.shape)"
   ]
  },
  {
   "cell_type": "code",
   "execution_count": 44,
   "metadata": {
    "scrolled": true
   },
   "outputs": [
    {
     "data": {
      "image/png": "[encoded data removed]",
      "text/plain": [
       "<Figure size 432x288 with 1 Axes>"
      ]
     },
     "metadata": {
      "needs_background": "light"
     },
     "output_type": "display_data"
    }
   ],
   "source": [
    "plt.imshow(X_train[2,:,:,0], cmap=\"gray\")  \n",
    "plt.show()"
   ]
  },
  {
   "cell_type": "code",
   "execution_count": 45,
   "metadata": {},
   "outputs": [],
   "source": [
    "#모델 구성하기\n",
    "model = Sequential()\n",
    "\n",
    "#model.add(Conv2D(input_shape = (X_train.shape[1], X_train.shape[2], X_train.shape[3]), filters = 32, kernel_size = (3,3)))\n",
    "model.add(Conv2D(input_shape = (24,24,1), filters = 32, kernel_size = (3,3)))\n",
    "model.add(BatchNormalization())\n",
    "model.add(Activation('relu'))\n",
    "\n",
    "\n",
    "model.add(Conv2D(filters = 64, kernel_size = (3,3)))\n",
    "model.add(BatchNormalization())\n",
    "model.add(Activation('relu'))\n",
    "model.add(MaxPooling2D(pool_size = (2,2)))    #CNN의 특징: pooling 단계를 거침. 크기가 반으로 줄어듦.\n",
    "\n",
    "\n",
    "model.add(Flatten())\n",
    "\n",
    "model.add(Dense(128))        #hidden layer 하나 추가\n",
    "model.add(BatchNormalization())\n",
    "model.add(Activation('relu'))\n",
    "\n",
    "model.add(Dense(64))        #hidden layer 하나 추가\n",
    "model.add(BatchNormalization())\n",
    "model.add(Activation('relu'))\n",
    "\n",
    "\n",
    "model.add(Dense(3, activation = 'softmax'))     #마지막 층은 출력층.\n",
    "\n",
    "#adam = optimizers.Adam(lr = 0.001)\n",
    "model.compile(loss = 'categorical_crossentropy', optimizer = 'adam', metrics = ['accuracy'])"
   ]
  },
  {
   "cell_type": "code",
   "execution_count": 46,
   "metadata": {},
   "outputs": [],
   "source": [
    "#history = model.fit(X_train, y_train, batch_size = 15, epochs = 100, validation_data =(X_test, y_test), verbose = 0)\n",
    "history = model.fit(X_train, y_train, batch_size = 15, epochs = 100, validation_data =(X_test, y_test), verbose = 0)"
   ]
  },
  {
   "cell_type": "code",
   "execution_count": 47,
   "metadata": {},
   "outputs": [
    {
     "data": {
      "image/png": "[encoded data removed]",
      "text/plain": [
       "<Figure size 432x288 with 1 Axes>"
      ]
     },
     "metadata": {
      "needs_background": "light"
     },
     "output_type": "display_data"
    },
    {
     "name": "stdout",
     "output_type": "stream",
     "text": [
      "15/15 [==============================] - 0s 628us/step\n",
      "Test accuracy:  0.3333333432674408\n"
     ]
    }
   ],
   "source": [
    "plt.plot(history.history['accuracy'])\n",
    "plt.plot(history.history['val_accuracy'])\n",
    "plt.legend(['training', 'validation'], loc = 'upper left')\n",
    "plt.show()\n",
    "\n",
    "results = model.evaluate(X_test, y_test)\n",
    "print('Test accuracy: ', results[1])"
   ]
  },
  {
   "cell_type": "markdown",
   "metadata": {},
   "source": [
    "## Model 내부값"
   ]
  },
  {
   "cell_type": "code",
   "execution_count": 48,
   "metadata": {
    "scrolled": false
   },
   "outputs": [
    {
     "name": "stdout",
     "output_type": "stream",
     "text": [
      "Model: \"sequential_3\"\n",
      "_________________________________________________________________\n",
      "Layer (type)                 Output Shape              Param #   \n",
      "=================================================================\n",
      "conv2d_5 (Conv2D)            (None, 22, 22, 32)        320       \n",
      "_________________________________________________________________\n",
      "batch_normalization_9 (Batch (None, 22, 22, 32)        128       \n",
      "_________________________________________________________________\n",
      "activation_9 (Activation)    (None, 22, 22, 32)        0         \n",
      "_________________________________________________________________\n",
      "conv2d_6 (Conv2D)            (None, 20, 20, 64)        18496     \n",
      "_________________________________________________________________\n",
      "batch_normalization_10 (Batc (None, 20, 20, 64)        256       \n",
      "_________________________________________________________________\n",
      "activation_10 (Activation)   (None, 20, 20, 64)        0         \n",
      "_________________________________________________________________\n",
      "max_pooling2d_3 (MaxPooling2 (None, 10, 10, 64)        0         \n",
      "_________________________________________________________________\n",
      "flatten_3 (Flatten)          (None, 6400)              0         \n",
      "_________________________________________________________________\n",
      "dense_7 (Dense)              (None, 128)               819328    \n",
      "_________________________________________________________________\n",
      "batch_normalization_11 (Batc (None, 128)               512       \n",
      "_________________________________________________________________\n",
      "activation_11 (Activation)   (None, 128)               0         \n",
      "_________________________________________________________________\n",
      "dense_8 (Dense)              (None, 64)                8256      \n",
      "_________________________________________________________________\n",
      "batch_normalization_12 (Batc (None, 64)                256       \n",
      "_________________________________________________________________\n",
      "activation_12 (Activation)   (None, 64)                0         \n",
      "_________________________________________________________________\n",
      "dense_9 (Dense)              (None, 3)                 195       \n",
      "=================================================================\n",
      "Total params: 847,747\n",
      "Trainable params: 847,171\n",
      "Non-trainable params: 576\n",
      "_________________________________________________________________\n"
     ]
    }
   ],
   "source": [
    "model.summary()"
   ]
  },
  {
   "cell_type": "markdown",
   "metadata": {},
   "source": [
    "batch_normalization:128 파라미터는 복원할 떄 mean, sd 필요하니까 (&보관만 하는 파라미터.. non-trainable params에 포함됨)  \n"
   ]
  },
  {
   "cell_type": "code",
   "execution_count": 31,
   "metadata": {},
   "outputs": [
    {
     "ename": "AttributeError",
     "evalue": "'Sequential' object has no attribute 'layer'",
     "output_type": "error",
     "traceback": [
      "\u001b[1;31m---------------------------------------------------------------------------\u001b[0m",
      "\u001b[1;31mAttributeError\u001b[0m                            Traceback (most recent call last)",
      "\u001b[1;32m<ipython-input-31-9e0048345022>\u001b[0m in \u001b[0;36m<module>\u001b[1;34m\u001b[0m\n\u001b[1;32m----> 1\u001b[1;33m \u001b[0mmodel\u001b[0m\u001b[1;33m.\u001b[0m\u001b[0mlayer\u001b[0m\u001b[1;33m\u001b[0m\u001b[1;33m\u001b[0m\u001b[0m\n\u001b[0m",
      "\u001b[1;31mAttributeError\u001b[0m: 'Sequential' object has no attribute 'layer'"
     ]
    }
   ],
   "source": [
    "model.layer"
   ]
  },
  {
   "cell_type": "code",
   "execution_count": 49,
   "metadata": {},
   "outputs": [
    {
     "name": "stdout",
     "output_type": "stream",
     "text": [
      "conv2d_5\n",
      "True\n",
      "batch_normalization_9\n",
      "True\n",
      "activation_9\n",
      "True\n",
      "conv2d_6\n",
      "True\n",
      "batch_normalization_10\n",
      "True\n",
      "activation_10\n",
      "True\n",
      "max_pooling2d_3\n",
      "True\n",
      "flatten_3\n",
      "True\n",
      "dense_7\n",
      "True\n",
      "batch_normalization_11\n",
      "True\n",
      "activation_11\n",
      "True\n",
      "dense_8\n",
      "True\n",
      "batch_normalization_12\n",
      "True\n",
      "activation_12\n",
      "True\n",
      "dense_9\n",
      "True\n"
     ]
    }
   ],
   "source": [
    "for l in model.layers:\n",
    "    print(l.name)    #layer name\n",
    "    print(l.trainable)"
   ]
  },
  {
   "cell_type": "code",
   "execution_count": 50,
   "metadata": {
    "scrolled": true
   },
   "outputs": [
    {
     "name": "stdout",
     "output_type": "stream",
     "text": [
      "(3, 3, 1, 32)\n",
      "(32,)\n",
      "[[ 0.09270769 -0.06853673 -0.07556546]\n",
      " [ 0.08702413 -0.05365724 -0.0348813 ]\n",
      " [ 0.04265182 -0.02817553  0.08391455]]\n",
      "[[-0.10735655  0.03177173 -0.07107213]\n",
      " [-0.00398383  0.0551823  -0.02443945]\n",
      " [ 0.13999479 -0.13367592  0.10912053]]\n",
      "-1.55894e-05\n"
     ]
    }
   ],
   "source": [
    "w = model.layers[0].get_weights()  # (필터, bias)\n",
    "print(w[0].shape)    #필터. 4차원. 3x3 필터, 32개 필터. 세번째는 항상 0(가짜차원)\n",
    "print(w[1].shape)    #bias.\n",
    "#영상처리에서는 bias 없지만. convolution 처리한 뒤 bias 더하는 것 => 출력(1 pixel)\n",
    "print(w[0][:,:,0,0])  #첫번째 필터\n",
    "print(w[0][:,:,0,1])  #두번째 필터\n",
    "print(w[1][0])  #첫번째 필터에 대한 bias"
   ]
  },
  {
   "cell_type": "code",
   "execution_count": 51,
   "metadata": {},
   "outputs": [
    {
     "data": {
      "text/plain": [
       "<tf.Tensor 'conv2d_5/BiasAdd:0' shape=(None, 22, 22, 32) dtype=float32>"
      ]
     },
     "execution_count": 51,
     "metadata": {},
     "output_type": "execute_result"
    }
   ],
   "source": [
    "model.layers[0].output\n",
    "#kernel size가 3x3이라 영상 size가 24x24에서 22x22로 줄어듦"
   ]
  },
  {
   "cell_type": "code",
   "execution_count": 52,
   "metadata": {},
   "outputs": [
    {
     "data": {
      "text/plain": [
       "<tf.Tensor 'batch_normalization_9/cond/Identity:0' shape=(None, 22, 22, 32) dtype=float32>"
      ]
     },
     "execution_count": 52,
     "metadata": {},
     "output_type": "execute_result"
    }
   ],
   "source": [
    "model.layers[1].output"
   ]
  },
  {
   "cell_type": "code",
   "execution_count": 53,
   "metadata": {},
   "outputs": [
    {
     "data": {
      "text/plain": [
       "<tf.Tensor 'activation_9/Relu:0' shape=(None, 22, 22, 32) dtype=float32>"
      ]
     },
     "execution_count": 53,
     "metadata": {},
     "output_type": "execute_result"
    }
   ],
   "source": [
    "model.layers[2].output"
   ]
  },
  {
   "cell_type": "code",
   "execution_count": 64,
   "metadata": {},
   "outputs": [
    {
     "name": "stdout",
     "output_type": "stream",
     "text": [
      "(15, 22, 22, 32)\n"
     ]
    },
    {
     "data": {
      "image/png": "[encoded data removed]",
      "text/plain": [
       "<Figure size 432x288 with 1 Axes>"
      ]
     },
     "metadata": {
      "needs_background": "light"
     },
     "output_type": "display_data"
    }
   ],
   "source": [
    "from keras.models import Model\n",
    "\n",
    "my_layer_model = Model(inputs=model.input,\n",
    "                      outputs=model.layers[0].output)  #중간 결과를 알고 싶으면 모델 흐름을 만들어야 해\n",
    "output = my_layer_model.predict(X_test)    #4차원 데이터를 흘려보내\n",
    "\n",
    "print(output.shape)\n",
    "\n",
    "plt.imshow(output[0,:,:,5], cmap=\"gray\")    #0번째이미지, 6번째필터 적용된 영상\n",
    "plt.show()"
   ]
  },
  {
   "cell_type": "code",
   "execution_count": 73,
   "metadata": {},
   "outputs": [
    {
     "data": {
      "image/png": "[encoded data removed]",
      "text/plain": [
       "<Figure size 432x288 with 1 Axes>"
      ]
     },
     "metadata": {
      "needs_background": "light"
     },
     "output_type": "display_data"
    },
    {
     "data": {
      "image/png": "[encoded data removed]",
      "text/plain": [
       "<Figure size 432x288 with 1 Axes>"
      ]
     },
     "metadata": {
      "needs_background": "light"
     },
     "output_type": "display_data"
    },
    {
     "data": {
      "image/png": "[encoded data removed]",
      "text/plain": [
       "<Figure size 432x288 with 1 Axes>"
      ]
     },
     "metadata": {
      "needs_background": "light"
     },
     "output_type": "display_data"
    }
   ],
   "source": [
    "iFilter = 4\n",
    "iImg = 1\n",
    "\n",
    "#2번째 이미지\n",
    "plt.imshow(X_test[iImg,:,:,0], cmap=\"gray\")\n",
    "plt.show()\n",
    "\n",
    "#5번째 필터\n",
    "w = model.layers[0].get_weights()  # (필터, bias)\n",
    "plt.imshow(w[0][:,:,0,iFilter], cmap=\"gray\")\n",
    "plt.show()\n",
    "\n",
    "#출력 = 이미지 * (필터+b)\n",
    "plt.imshow(output[iImg,:,:,iFilter], cmap=\"gray\")\n",
    "plt.show()"
   ]
  },
  {
   "cell_type": "code",
   "execution_count": 76,
   "metadata": {},
   "outputs": [
    {
     "name": "stdout",
     "output_type": "stream",
     "text": [
      "(15, 6400)\n",
      "[[-0.          1.247636    0.36792737 ... -0.         -0.\n",
      "  -0.        ]\n",
      " [-0.          0.32837728  0.37524524 ... -0.         -0.\n",
      "  -0.        ]\n",
      " [-0.          0.35040003  0.4010006  ... -0.         -0.\n",
      "  -0.        ]\n",
      " ...\n",
      " [-0.          0.35040003  0.4010006  ... -0.         -0.\n",
      "  -0.        ]\n",
      " [-0.          0.35040003  0.4010006  ... -0.         -0.\n",
      "  -0.        ]\n",
      " [-0.          0.35040003  0.4010006  ...  0.5713123   0.43800807\n",
      "   1.1691586 ]]\n"
     ]
    }
   ],
   "source": [
    "#첫번째 이미지에 대해서 flatten 된 output 얻어봐\n",
    "# = 특징추출기\n",
    "from keras.models import Model\n",
    "\n",
    "my_layer_model = Model(inputs=model.input,\n",
    "                      outputs=model.get_layer(\"flatten_3\").output)  #중간 결과를 알고 싶으면 모델 흐름을 만들어야 해\n",
    "output = my_layer_model.predict(X_test)    #4차원 데이터를 흘려보내. not 에측ftn. just forward ftn.\n",
    "\n",
    "print(output.shape)\n",
    "print(output)"
   ]
  },
  {
   "cell_type": "code",
   "execution_count": 90,
   "metadata": {},
   "outputs": [
    {
     "name": "stdout",
     "output_type": "stream",
     "text": [
      "(15, 3)\n",
      "output:  [[1.95473600e-02 4.70304489e-02 9.33422148e-01]\n",
      " [1.96590707e-01 6.90834299e-02 7.34325826e-01]\n",
      " [9.81319044e-03 1.73401181e-02 9.72846687e-01]\n",
      " [1.95024803e-03 1.45783485e-03 9.96591926e-01]\n",
      " [1.22597697e-03 7.97036744e-04 9.97976959e-01]\n",
      " [5.04953265e-01 9.65528637e-02 3.98493886e-01]\n",
      " [2.00959649e-02 1.26696214e-01 8.53207886e-01]\n",
      " [4.16438393e-02 8.40282068e-03 9.49953258e-01]\n",
      " [4.10870574e-02 1.76306173e-01 7.82606840e-01]\n",
      " [7.07483990e-03 4.06818045e-03 9.88856971e-01]\n",
      " [2.50175111e-02 2.10821275e-02 9.53900456e-01]\n",
      " [4.12460696e-03 4.88908263e-03 9.90986347e-01]\n",
      " [1.16719678e-02 1.03123635e-02 9.78015721e-01]\n",
      " [1.05144959e-02 5.07323816e-03 9.84412253e-01]\n",
      " [6.17752690e-03 3.61365755e-03 9.90208864e-01]]\n",
      "argmax value:  [2 2 2 2 2 0 2 2 2 2 2 2 2 2 2]\n",
      "y_test [0 0 0 0 0 1 1 1 1 1 2 2 2 2 2]\n",
      "5\n",
      "0.3333333333333333\n"
     ]
    }
   ],
   "source": [
    "#첫번째 이미지에 대해서 flatten 된 output 얻어봐\n",
    "# = 특징추출기\n",
    "from keras.models import Model\n",
    "\n",
    "my_layer_model = Model(inputs=model.input,\n",
    "                      outputs=model.get_layer(\"dense_9\").output)  #중간 결과를 알고 싶으면 모델 흐름을 만들어야 해\n",
    "output = my_layer_model.predict(X_test)    #4차원 데이터를 흘려보내. not 에측ftn. just forward ftn.\n",
    "\n",
    "print(output.shape)\n",
    "# (15,3) : 15 samples, 3 categories.\n",
    "print('output: ', output) #각각의 확률이 나와\n",
    "#첫번째 샘플은 세 번째 카테고리일 확률이 제일 높다.\n",
    "\n",
    "\n",
    "\n",
    "p=np.argmax(output, axis=1) #예측값\n",
    "T=np.argmax(y_test, axis=1) #true value\n",
    "\n",
    "print('argmax value: ',  p  )\n",
    "print('y_test', T)\n",
    "#확률 한번에 프린트\n",
    "print(  sum(p == T)*1  )\n",
    "print(  sum(p == T)*1 / len(p)  )"
   ]
  },
  {
   "cell_type": "code",
   "execution_count": null,
   "metadata": {},
   "outputs": [],
   "source": []
  }
 ],
 "metadata": {
  "kernelspec": {
   "display_name": "Python 3",
   "language": "python",
   "name": "python3"
  },
  "language_info": {
   "codemirror_mode": {
    "name": "ipython",
    "version": 3
   },
   "file_extension": ".py",
   "mimetype": "text/x-python",
   "name": "python",
   "nbconvert_exporter": "python",
   "pygments_lexer": "ipython3",
   "version": "3.7.6"
  },
  "varInspector": {
   "cols": {
    "lenName": 16,
    "lenType": 16,
    "lenVar": 40
   },
   "kernels_config": {
    "python": {
     "delete_cmd_postfix": "",
     "delete_cmd_prefix": "del ",
     "library": "var_list.py",
     "varRefreshCmd": "print(var_dic_list())"
    },
    "r": {
     "delete_cmd_postfix": ") ",
     "delete_cmd_prefix": "rm(",
     "library": "var_list.r",
     "varRefreshCmd": "cat(var_dic_list()) "
    }
   },
   "oldHeight": 269,
   "position": {
    "height": "40px",
    "left": "729px",
    "right": "20px",
    "top": "120px",
    "width": "250px"
   },
   "types_to_exclude": [
    "module",
    "function",
    "builtin_function_or_method",
    "instance",
    "_Feature"
   ],
   "varInspector_section_display": "none",
   "window_display": true
  }
 },
 "nbformat": 4,
 "nbformat_minor": 2
}
