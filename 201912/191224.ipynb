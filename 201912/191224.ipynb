{
 "cells": [
  {
   "cell_type": "code",
   "execution_count": 29,
   "metadata": {},
   "outputs": [],
   "source": [
    "import pandas as pd\n",
    "import folium"
   ]
  },
  {
   "cell_type": "code",
   "execution_count": 30,
   "metadata": {},
   "outputs": [
    {
     "ename": "NameError",
     "evalue": "name 'file_ath' is not defined",
     "output_type": "error",
     "traceback": [
      "\u001b[1;31m---------------------------------------------------------------------------\u001b[0m",
      "\u001b[1;31mNameError\u001b[0m                                 Traceback (most recent call last)",
      "\u001b[1;32m<ipython-input-30-a45b5933c798>\u001b[0m in \u001b[0;36m<module>\u001b[1;34m\u001b[0m\n\u001b[0;32m      1\u001b[0m \u001b[0mfile_path\u001b[0m\u001b[1;33m=\u001b[0m\u001b[1;34m'.datas/2016_middle_shcool_graduates_report.xlsx'\u001b[0m\u001b[1;33m\u001b[0m\u001b[1;33m\u001b[0m\u001b[0m\n\u001b[1;32m----> 2\u001b[1;33m \u001b[0mdf\u001b[0m\u001b[1;33m=\u001b[0m\u001b[0mpd\u001b[0m\u001b[1;33m.\u001b[0m\u001b[0mread_excel\u001b[0m\u001b[1;33m(\u001b[0m\u001b[0mfile_ath\u001b[0m\u001b[1;33m,\u001b[0m \u001b[0mheader\u001b[0m\u001b[1;33m=\u001b[0m\u001b[1;36m0\u001b[0m\u001b[1;33m)\u001b[0m\u001b[1;33m\u001b[0m\u001b[1;33m\u001b[0m\u001b[0m\n\u001b[0m",
      "\u001b[1;31mNameError\u001b[0m: name 'file_ath' is not defined"
     ]
    }
   ],
   "source": [
    "file_path='.datas/2016_middle_shcool_graduates_report.xlsx'\n",
    "df=pd.read_excel(file_ath, header=0)"
   ]
  },
  {
   "cell_type": "code",
   "execution_count": 31,
   "metadata": {},
   "outputs": [],
   "source": [
    "file_path='./datas/2016_middle_shcool_graduates_report.xlsx'\n",
    "df =pd.read_excel(file_path, header=0)"
   ]
  },
  {
   "cell_type": "code",
   "execution_count": 32,
   "metadata": {},
   "outputs": [
    {
     "name": "stdout",
     "output_type": "stream",
     "text": [
      "<class 'pandas.core.frame.DataFrame'>\n",
      "RangeIndex: 415 entries, 0 to 414\n",
      "Data columns (total 21 columns):\n",
      "Unnamed: 0    415 non-null int64\n",
      "지역            415 non-null object\n",
      "학교명           415 non-null object\n",
      "코드            415 non-null int64\n",
      "유형            415 non-null object\n",
      "주야            415 non-null object\n",
      "남학생수          415 non-null int64\n",
      "여학생수          415 non-null int64\n",
      "일반고           415 non-null float64\n",
      "특성화고          415 non-null float64\n",
      "과학고           415 non-null float64\n",
      "외고_국제고        415 non-null float64\n",
      "예고_체고         415 non-null float64\n",
      "마이스터고         415 non-null float64\n",
      "자사고           415 non-null float64\n",
      "자공고           415 non-null float64\n",
      "기타진학          415 non-null float64\n",
      "취업            415 non-null int64\n",
      "미상            415 non-null float64\n",
      "위도            415 non-null float64\n",
      "경도            415 non-null float64\n",
      "dtypes: float64(12), int64(5), object(4)\n",
      "memory usage: 68.2+ KB\n",
      "None\n"
     ]
    }
   ],
   "source": [
    "print(df.info())"
   ]
  },
  {
   "cell_type": "code",
   "execution_count": 33,
   "metadata": {},
   "outputs": [
    {
     "name": "stdout",
     "output_type": "stream",
     "text": [
      "['Unnamed: 0' '지역' '학교명' '코드' '유형' '주야' '남학생수' '여학생수' '일반고' '특성화고' '과학고'\n",
      " '외고_국제고' '예고_체고' '마이스터고' '자사고' '자공고' '기타진학' '취업' '미상' '위도' '경도']\n"
     ]
    }
   ],
   "source": [
    "print(df.columns.values)"
   ]
  },
  {
   "cell_type": "code",
   "execution_count": 34,
   "metadata": {},
   "outputs": [],
   "source": [
    "mschool_map = folium.Map(location=[37.55, 126.98], tiles='Stamen Terrain', zoom_start=12)"
   ]
  },
  {
   "cell_type": "code",
   "execution_count": 35,
   "metadata": {},
   "outputs": [
    {
     "ename": "AttributeError",
     "evalue": "'CircleMarker' object has no attribute 'add_too'",
     "output_type": "error",
     "traceback": [
      "\u001b[1;31m---------------------------------------------------------------------------\u001b[0m",
      "\u001b[1;31mAttributeError\u001b[0m                            Traceback (most recent call last)",
      "\u001b[1;32m<ipython-input-35-da3991528379>\u001b[0m in \u001b[0;36m<module>\u001b[1;34m\u001b[0m\n\u001b[0;32m      6\u001b[0m                        \u001b[0mfill_color\u001b[0m\u001b[1;33m=\u001b[0m\u001b[1;34m'yellow'\u001b[0m\u001b[1;33m,\u001b[0m\u001b[1;33m\u001b[0m\u001b[1;33m\u001b[0m\u001b[0m\n\u001b[0;32m      7\u001b[0m                        \u001b[0mfill_opacity\u001b[0m\u001b[1;33m=\u001b[0m\u001b[1;36m0.5\u001b[0m\u001b[1;33m,\u001b[0m\u001b[1;33m\u001b[0m\u001b[1;33m\u001b[0m\u001b[0m\n\u001b[1;32m----> 8\u001b[1;33m                        popup=name).add_too(mschool_map)\n\u001b[0m\u001b[0;32m      9\u001b[0m     \u001b[0mmschool_map\u001b[0m\u001b[1;33m.\u001b[0m\u001b[0msave\u001b[0m\u001b[1;33m(\u001b[0m\u001b[1;34m'./output/seoul_mschool_location.html'\u001b[0m\u001b[1;33m)\u001b[0m\u001b[1;33m\u001b[0m\u001b[1;33m\u001b[0m\u001b[0m\n",
      "\u001b[1;31mAttributeError\u001b[0m: 'CircleMarker' object has no attribute 'add_too'"
     ]
    }
   ],
   "source": [
    "for name, lat, lng in zip (df.학교명, df.위도, df.경도) :\n",
    "    folium.CircleMarker([lat, lng],\n",
    "                       radius=5,\n",
    "                       color='brown',\n",
    "                       fill=True,\n",
    "                       fill_color='yellow',\n",
    "                       fill_opacity=0.5,\n",
    "                       popup=name).add_too(mschool_map)\n",
    "    mschool_map.save('./output/seoul_mschool_location.html')"
   ]
  },
  {
   "cell_type": "code",
   "execution_count": 36,
   "metadata": {},
   "outputs": [],
   "source": [
    "mschool_map = folium.Map(location=[37.55, 126.98],  tiles='Stamen Terrain', zoom_start=12)\n",
    "for name, lat, lng in zip (df.학교명, df.위도, df. 경도) :\n",
    "    folium.CircleMarker([lat, lng],\n",
    "                              radius=5,\n",
    "                              color='brown',\n",
    "                              fill=True,\n",
    "                              fill_color='yellow',\n",
    "                              fill_opacity=0.5,\n",
    "                              popup=name).add_to(mschool_map)\n",
    "\n",
    "mschool_map.save('./output/seoul_mschool_location.html')"
   ]
  },
  {
   "cell_type": "code",
   "execution_count": 37,
   "metadata": {},
   "outputs": [
    {
     "ename": "SyntaxError",
     "evalue": "invalid syntax (<ipython-input-37-1ba2ef2bcd35>, line 1)",
     "output_type": "error",
     "traceback": [
      "\u001b[1;36m  File \u001b[1;32m\"<ipython-input-37-1ba2ef2bcd35>\"\u001b[1;36m, line \u001b[1;32m1\u001b[0m\n\u001b[1;33m    from sklearn import preprocessing.LabelEncoder()\u001b[0m\n\u001b[1;37m                                     ^\u001b[0m\n\u001b[1;31mSyntaxError\u001b[0m\u001b[1;31m:\u001b[0m invalid syntax\n"
     ]
    }
   ],
   "source": [
    "from sklearn import preprocessing.LabelEncoder()"
   ]
  },
  {
   "cell_type": "code",
   "execution_count": 38,
   "metadata": {},
   "outputs": [],
   "source": [
    "from sklearn import preprocessing"
   ]
  },
  {
   "cell_type": "code",
   "execution_count": 39,
   "metadata": {},
   "outputs": [
    {
     "name": "stdout",
     "output_type": "stream",
     "text": [
      "   Unnamed: 0   지역               학교명  코드  유형  주야  남학생수  여학생수    일반고   특성화고  \\\n",
      "0           0  성북구    서울대학교사범대학부설중학교   3  국립  주간   277     0  0.585  0.148   \n",
      "1           1  종로구  서울대학교사범대학부설여자중학교   3  국립  주간     0   256  0.680  0.199   \n",
      "2           2  강남구             개원중학교   3  공립  주간   170   152  0.817  0.047   \n",
      "3           3  강남구             개포중학교   3  공립  주간    83    72  0.755  0.097   \n",
      "4           4  서초구             경원중학교   3  공립  주간   199   212  0.669  0.017   \n",
      "\n",
      "   ...    자공고   기타진학  취업     미상         위도          경도  location  code  type  \\\n",
      "0  ...  0.000  0.004   0  0.000  37.594942  127.038909        16     0     1   \n",
      "1  ...  0.004  0.031   0  0.000  37.577473  127.003857        22     0     1   \n",
      "2  ...  0.003  0.009   0  0.003  37.491637  127.071744         0     0     0   \n",
      "3  ...  0.000  0.019   0  0.000  37.480439  127.062201         0     0     0   \n",
      "4  ...  0.000  0.010   0  0.000  37.510750  127.008900        14     0     0   \n",
      "\n",
      "   day  \n",
      "0    0  \n",
      "1    0  \n",
      "2    0  \n",
      "3    0  \n",
      "4    0  \n",
      "\n",
      "[5 rows x 25 columns]\n",
      "<class 'pandas.core.frame.DataFrame'>\n",
      "RangeIndex: 415 entries, 0 to 414\n",
      "Data columns (total 25 columns):\n",
      "Unnamed: 0    415 non-null int64\n",
      "지역            415 non-null object\n",
      "학교명           415 non-null object\n",
      "코드            415 non-null int64\n",
      "유형            415 non-null object\n",
      "주야            415 non-null object\n",
      "남학생수          415 non-null int64\n",
      "여학생수          415 non-null int64\n",
      "일반고           415 non-null float64\n",
      "특성화고          415 non-null float64\n",
      "과학고           415 non-null float64\n",
      "외고_국제고        415 non-null float64\n",
      "예고_체고         415 non-null float64\n",
      "마이스터고         415 non-null float64\n",
      "자사고           415 non-null float64\n",
      "자공고           415 non-null float64\n",
      "기타진학          415 non-null float64\n",
      "취업            415 non-null int64\n",
      "미상            415 non-null float64\n",
      "위도            415 non-null float64\n",
      "경도            415 non-null float64\n",
      "location      415 non-null int32\n",
      "code          415 non-null int64\n",
      "type          415 non-null int32\n",
      "day           415 non-null int32\n",
      "dtypes: float64(12), int32(3), int64(6), object(4)\n",
      "memory usage: 76.3+ KB\n",
      "None\n"
     ]
    }
   ],
   "source": [
    "label_encoder = preprocessing.LabelEncoder() \n",
    "onehot_encoder = preprocessing.OneHotEncoder()\n",
    "\n",
    "onehot_location = label_encoder.fit_transform(df['지역'])\n",
    "onehot_code = label_encoder.fit_transform(df['코드'])\n",
    "onehot_type = label_encoder.fit_transform(df['유형'])\n",
    "onehot_day= label_encoder.fit_transform(df['주야'])\n",
    "\n",
    "df['location'] = onehot_location\n",
    "df['code'] = onehot_code\n",
    "df['type'] = onehot_type\n",
    "df['day'] = onehot_day\n",
    "\n",
    "print(df.head())\n",
    "print(df.info())"
   ]
  },
  {
   "cell_type": "code",
   "execution_count": 40,
   "metadata": {},
   "outputs": [],
   "source": [
    "from sklearn import cluster"
   ]
  },
  {
   "cell_type": "code",
   "execution_count": 41,
   "metadata": {},
   "outputs": [
    {
     "name": "stdout",
     "output_type": "stream",
     "text": [
      "    특성화고    과학고  마이스터고\n",
      "0  0.148  0.018  0.011\n",
      "1  0.199  0.000  0.000\n",
      "2  0.047  0.009  0.006\n",
      "3  0.097  0.013  0.019\n",
      "4  0.017  0.007  0.000\n"
     ]
    }
   ],
   "source": [
    "column_list = [9, 10, 13]\n",
    "X = df.iloc[ : , column_list]\n",
    "print(X[:5])"
   ]
  },
  {
   "cell_type": "code",
   "execution_count": 42,
   "metadata": {},
   "outputs": [
    {
     "name": "stdout",
     "output_type": "stream",
     "text": [
      "[-1  0 -1 -1  1  5 -1 -1  2 -1 -1 -1  2  0 -1 -1 -1 -1 -1  2 -1 -1 -1  0\n",
      "  1  2 -1  1  0  0 -1 -1 -1 -1 -1  0 -1 -1 -1 -1 -1 -1 -1  0 -1 -1 -1  3\n",
      " -1 -1 -1  3 -1  1 -1 -1  4 -1 -1  4 -1 -1  4  0 -1  5  0  6  1 -1  0  1\n",
      " -1  0  8 -1 -1 -1  4 -1  3 -1 -1  3  4 -1 -1 -1  3 -1  0  2 -1  0 -1 -1\n",
      "  5  0  0 -1 -1 -1 -1 -1 -1 -1 -1  0 -1 -1 -1 -1 -1 -1  1 -1 -1 -1  0 -1\n",
      " -1 -1  5  8  0 -1 -1 -1 -1 -1  7  3  0 -1  5  0  4 -1  5 -1 -1 -1 -1 -1\n",
      " -1  6 -1 -1 -1  8  4 -1 -1  6 -1 -1 -1 -1 -1  0  6 -1 -1 -1 -1 -1 -1  6\n",
      " -1 -1  7 -1 -1  6 -1  0  0 -1  3 -1  6  8 -1  6 -1 -1 -1 -1 -1 -1  5  0\n",
      "  0 -1 -1 -1 -1  0  0 -1  0 -1 -1  6  0 -1 -1 -1 -1 -1  4 -1 -1  3 -1 -1\n",
      "  0 -1 -1  9 -1 -1 -1 -1 -1 -1 -1 -1 -1 -1  0 -1 -1 -1  0 -1 -1 -1  9  0\n",
      "  9 -1 -1 -1 -1  5  0 -1 -1 -1  0  0 -1  0 -1 -1 -1 -1 -1  0  4 -1 -1  0\n",
      " -1 -1  0  0 -1 -1  6  3 -1  6 -1 -1 -1  0 -1  0 10 -1  0  0  0 -1  0 -1\n",
      " -1 -1 -1  9 -1 -1 10  0 10  0  7  7  3  6 -1 -1 -1 -1  3  4 -1  0 -1  8\n",
      "  4  8  6  0  7 -1 -1 -1 -1  0 -1 -1 -1 -1 -1  0 -1  0  0 -1  0  5  0  0\n",
      " -1 10  0  0  0  3  0 -1  0 10  2 -1  0 -1 -1  7 -1 -1 -1  0  0 -1 -1 -1\n",
      " -1 -1 -1 -1 -1 -1 -1 -1 -1 -1 -1 -1  9  0 -1 -1 -1  0  0 -1  7 -1 -1  0\n",
      " 11 11 11 11 11 11 11 11 11 11 11 11 11 11 11 11 11 11 11 11 11 11 11 11\n",
      " 11 11 11 11 11 11 -1]\n"
     ]
    }
   ],
   "source": [
    "X= preprocessing.StandardScaler().fit(X).transform(X)\n",
    "dbscan_model = cluster.DBSCAN(eps=0.2, min_samples=5)\n",
    "dbscan_model.fit(X)\n",
    "\n",
    "cluster_label = dbscan_model.labels_\n",
    "print(cluster_label)\n"
   ]
  },
  {
   "cell_type": "code",
   "execution_count": 43,
   "metadata": {},
   "outputs": [
    {
     "name": "stdout",
     "output_type": "stream",
     "text": [
      "   Unnamed: 0   지역               학교명  코드  유형  주야  남학생수  여학생수    일반고   특성화고  \\\n",
      "0           0  성북구    서울대학교사범대학부설중학교   3  국립  주간   277     0  0.585  0.148   \n",
      "1           1  종로구  서울대학교사범대학부설여자중학교   3  국립  주간     0   256  0.680  0.199   \n",
      "2           2  강남구             개원중학교   3  공립  주간   170   152  0.817  0.047   \n",
      "3           3  강남구             개포중학교   3  공립  주간    83    72  0.755  0.097   \n",
      "4           4  서초구             경원중학교   3  공립  주간   199   212  0.669  0.017   \n",
      "\n",
      "   ...   기타진학  취업     미상         위도          경도  location  code  type  day  \\\n",
      "0  ...  0.004   0  0.000  37.594942  127.038909        16     0     1    0   \n",
      "1  ...  0.031   0  0.000  37.577473  127.003857        22     0     1    0   \n",
      "2  ...  0.009   0  0.003  37.491637  127.071744         0     0     0    0   \n",
      "3  ...  0.019   0  0.000  37.480439  127.062201         0     0     0    0   \n",
      "4  ...  0.010   0  0.000  37.510750  127.008900        14     0     0    0   \n",
      "\n",
      "   Cluster  \n",
      "0       -1  \n",
      "1        0  \n",
      "2       -1  \n",
      "3       -1  \n",
      "4        1  \n",
      "\n",
      "[5 rows x 26 columns]\n",
      "\n",
      "\n"
     ]
    }
   ],
   "source": [
    "df['Cluster'] = cluster_label\n",
    "print(df.head())\n",
    "print('\\n')"
   ]
  },
  {
   "cell_type": "code",
   "execution_count": 44,
   "metadata": {},
   "outputs": [
    {
     "name": "stdout",
     "output_type": "stream",
     "text": [
      "* key :  -1\n",
      "* number :  234\n",
      "   Unnamed: 0   지역  코드   특성화고    과학고  마이스터고\n",
      "0           0  성북구   3  0.148  0.018  0.011\n",
      "2           2  강남구   3  0.047  0.009  0.006\n",
      "3           3  강남구   3  0.097  0.013  0.019\n",
      "6           6  강남구   3  0.015  0.015  0.000\n",
      "7           7  강남구   3  0.000  0.032  0.000\n",
      "\n",
      "\n",
      "* key :  0\n",
      "* number :  70\n",
      "    Unnamed: 0   지역  코드   특성화고  과학고  마이스터고\n",
      "1            1  종로구   3  0.199  0.0    0.0\n",
      "13          13  서초구   3  0.032  0.0    0.0\n",
      "23          23  강남구   3  0.025  0.0    0.0\n",
      "28          28  서초구   3  0.040  0.0    0.0\n",
      "29          29  강남구   3  0.051  0.0    0.0\n",
      "\n",
      "\n",
      "* key :  1\n",
      "* number :  7\n",
      "    Unnamed: 0   지역  코드   특성화고    과학고  마이스터고\n",
      "4            4  서초구   3  0.017  0.007    0.0\n",
      "24          24  강남구   3  0.026  0.007    0.0\n",
      "27          27  강남구   3  0.006  0.006    0.0\n",
      "53          53  강동구   3  0.020  0.007    0.0\n",
      "68          68  송파구   3  0.011  0.007    0.0\n",
      "\n",
      "\n",
      "* key :  2\n",
      "* number :  6\n",
      "    Unnamed: 0   지역  코드   특성화고    과학고  마이스터고\n",
      "8            8  강남구   3  0.018  0.013    0.0\n",
      "12          12  강남구   3  0.000  0.013    0.0\n",
      "19          19  서초구   3  0.005  0.013    0.0\n",
      "25          25  서초구   3  0.012  0.012    0.0\n",
      "91          91  양천구   3  0.028  0.011    0.0\n",
      "\n",
      "\n",
      "* key :  3\n",
      "* number :  12\n",
      "    Unnamed: 0   지역  코드   특성화고  과학고  마이스터고\n",
      "47          47  강동구   3  0.171  0.0  0.005\n",
      "51          51  송파구   3  0.153  0.0  0.004\n",
      "80          80  양천구   3  0.189  0.0  0.003\n",
      "83          83  강서구   3  0.194  0.0  0.004\n",
      "88          88  강서구   3  0.198  0.0  0.006\n",
      "\n",
      "\n",
      "* key :  4\n",
      "* number :  11\n",
      "    Unnamed: 0   지역  코드   특성화고  과학고  마이스터고\n",
      "56          56  강동구   3  0.094  0.0  0.007\n",
      "59          59  강동구   3  0.093  0.0  0.004\n",
      "62          62  강동구   3  0.087  0.0  0.006\n",
      "78          78  강동구   3  0.112  0.0  0.004\n",
      "84          84  양천구   3  0.094  0.0  0.003\n",
      "\n",
      "\n",
      "* key :  5\n",
      "* number :  9\n",
      "     Unnamed: 0   지역  코드   특성화고    과학고  마이스터고\n",
      "5             5  강남구   3  0.066  0.007    0.0\n",
      "65           65  송파구   3  0.081  0.006    0.0\n",
      "96           96  양천구   3  0.083  0.006    0.0\n",
      "122         122  구로구   3  0.079  0.004    0.0\n",
      "134         134  구로구   3  0.063  0.005    0.0\n",
      "\n",
      "\n",
      "* key :  6\n",
      "* number :  13\n",
      "     Unnamed: 0    지역  코드   특성화고  과학고  마이스터고\n",
      "67           67   송파구   3  0.226  0.0  0.004\n",
      "145         145   구로구   3  0.249  0.0  0.004\n",
      "153         153  동대문구   3  0.222  0.0  0.004\n",
      "160         160  동대문구   3  0.225  0.0  0.006\n",
      "167         167  동대문구   3  0.224  0.0  0.004\n",
      "\n",
      "\n",
      "* key :  7\n",
      "* number :  7\n",
      "     Unnamed: 0    지역  코드   특성화고  과학고  마이스터고\n",
      "130         130   금천구   3  0.329  0.0    0.0\n",
      "170         170  동대문구   3  0.327  0.0    0.0\n",
      "298         298   성동구   3  0.323  0.0    0.0\n",
      "299         299   광진구   3  0.309  0.0    0.0\n",
      "316         316   강북구   3  0.305  0.0    0.0\n",
      "\n",
      "\n",
      "* key :  8\n",
      "* number :  6\n",
      "     Unnamed: 0    지역  코드   특성화고  과학고  마이스터고\n",
      "74           74   강동구   3  0.215  0.0  0.012\n",
      "123         123   금천구   3  0.242  0.0  0.013\n",
      "149         149  동대문구   3  0.213  0.0  0.013\n",
      "181         181   관악구   3  0.222  0.0  0.013\n",
      "311         311   성북구   3  0.222  0.0  0.014\n",
      "\n",
      "\n",
      "* key :  9\n",
      "* number :  5\n",
      "     Unnamed: 0   지역  코드   특성화고    과학고  마이스터고\n",
      "219         219  노원구   3  0.110  0.003  0.003\n",
      "238         238  도봉구   3  0.115  0.003  0.003\n",
      "240         240  도봉구   3  0.098  0.003  0.003\n",
      "291         291  성동구   3  0.089  0.003  0.003\n",
      "372         372  송파구   3  0.098  0.004  0.004\n",
      "\n",
      "\n",
      "* key :  10\n",
      "* number :  5\n",
      "     Unnamed: 0   지역  코드   특성화고    과학고  마이스터고\n",
      "280         280  은평구   3  0.185  0.005  0.005\n",
      "294         294  성동구   3  0.179  0.005  0.005\n",
      "296         296  성동구   3  0.180  0.005  0.005\n",
      "337         337  용산구   3  0.168  0.005  0.005\n",
      "345         345  용산구   3  0.201  0.005  0.005\n",
      "\n",
      "\n",
      "* key :  11\n",
      "* number :  30\n",
      "     Unnamed: 0   지역  코드  특성화고  과학고  마이스터고\n",
      "384         384  종로구   5   0.0  0.0    0.0\n",
      "385         385  마포구   5   0.0  0.0    0.0\n",
      "386         386  종로구   5   0.0  0.0    0.0\n",
      "387         387  강서구   5   0.0  0.0    0.0\n",
      "388         388  서초구   5   0.0  0.0    0.0\n",
      "\n",
      "\n"
     ]
    }
   ],
   "source": [
    "grouped_cols =[0, 1, 3] +column_list\n",
    "grouped = df.groupby('Cluster')\n",
    "for key, group in grouped:\n",
    "    print('* key : ' , key)\n",
    "    print('* number : ' , len(group))\n",
    "    print(group.iloc[:, grouped_cols].head())\n",
    "    print('\\n')"
   ]
  },
  {
   "cell_type": "code",
   "execution_count": 48,
   "metadata": {},
   "outputs": [],
   "source": [
    "colors = {-1:'gray', 0:'coral', 1:'black', 2:'green', 3:'red', 4:'purple', 5:'orange', 6:'brown', 7:'magenta', 8:'yellow', 9:'brick', 10:'cyan', 11:'pink'}"
   ]
  },
  {
   "cell_type": "code",
   "execution_count": 49,
   "metadata": {},
   "outputs": [],
   "source": [
    "cluster_map = folium.Map(location=[37.55, 126.98],  tiles='Stamen Terrain', zoom_start=12)\n",
    "\n",
    "for name, lat, lng, clus in zip (df.학교명, df.위도, df. 경도, df.Cluster) :\n",
    "    folium.CircleMarker([lat, lng],\n",
    "                              radius=5,\n",
    "                              color=colors[clus],\n",
    "                              fill=True,\n",
    "                              fill_color=colors[clus] ,\n",
    "                              fill_opacity=0.5,\n",
    "                              popup=name).add_to(cluster_map)\n",
    "\n",
    "cluster_map.save('./output/seoul_mschool_cluster.html')"
   ]
  },
  {
   "cell_type": "code",
   "execution_count": 2,
   "metadata": {},
   "outputs": [],
   "source": [
    "####LabelEncoder 예제\n",
    "\n",
    "import numpy as np\n",
    "from sklearn.preprocessing import LabelEncoder"
   ]
  },
  {
   "cell_type": "code",
   "execution_count": 53,
   "metadata": {},
   "outputs": [
    {
     "ename": "TypeError",
     "evalue": "'builtin_function_or_method' object is not subscriptable",
     "output_type": "error",
     "traceback": [
      "\u001b[1;31m---------------------------------------------------------------------------\u001b[0m",
      "\u001b[1;31mTypeError\u001b[0m                                 Traceback (most recent call last)",
      "\u001b[1;32m<ipython-input-53-3d725b524096>\u001b[0m in \u001b[0;36m<module>\u001b[1;34m\u001b[0m\n\u001b[1;32m----> 1\u001b[1;33m \u001b[0mX_train\u001b[0m \u001b[1;33m=\u001b[0m \u001b[0mnp\u001b[0m\u001b[1;33m.\u001b[0m\u001b[0marray\u001b[0m\u001b[1;33m[\u001b[0m\u001b[1;34m'MOBILE'\u001b[0m\u001b[1;33m,\u001b[0m \u001b[1;34m'NOTEBOOK'\u001b[0m\u001b[1;33m,\u001b[0m \u001b[1;34m'DESKTOP'\u001b[0m\u001b[1;33m]\u001b[0m\u001b[1;33m\u001b[0m\u001b[1;33m\u001b[0m\u001b[0m\n\u001b[0m\u001b[0;32m      2\u001b[0m \u001b[0mX_test\u001b[0m \u001b[1;33m=\u001b[0m \u001b[0mnp\u001b[0m\u001b[1;33m.\u001b[0m\u001b[0marray\u001b[0m\u001b[1;33m[\u001b[0m\u001b[1;34m'MOBILE'\u001b[0m\u001b[1;33m,\u001b[0m \u001b[1;34m'NOTEBOOK'\u001b[0m\u001b[1;33m,\u001b[0m \u001b[1;34m'TABLET'\u001b[0m\u001b[1;33m]\u001b[0m\u001b[1;33m\u001b[0m\u001b[1;33m\u001b[0m\u001b[0m\n",
      "\u001b[1;31mTypeError\u001b[0m: 'builtin_function_or_method' object is not subscriptable"
     ]
    }
   ],
   "source": [
    "X_train = np.array['MOBILE', 'NOTEBOOK', 'DESKTOP']\n",
    "X_test = np.array['MOBILE', 'NOTEBOOK', 'TABLET']"
   ]
  },
  {
   "cell_type": "code",
   "execution_count": 56,
   "metadata": {},
   "outputs": [
    {
     "name": "stdout",
     "output_type": "stream",
     "text": [
      "[1 2 0]\n",
      "\n",
      "\n"
     ]
    }
   ],
   "source": [
    "import numpy as np\n",
    "from sklearn.preprocessing import LabelEncoder\n",
    "\n",
    "X_train = np.array(['MOBILE', 'NOTEBOOK', 'DESKTOP'])\n",
    "X_test = np.array(['MOBILE', 'NOTEBOOK', 'TABLET'])\n",
    "\n",
    "encoder = LabelEncoder()\n",
    "encoder.fit(X_train)\n",
    "x_train_encoded = encoder.transform(X_train)\n",
    "print(x_train_encoded)\n",
    "print('\\n')"
   ]
  },
  {
   "cell_type": "code",
   "execution_count": 57,
   "metadata": {},
   "outputs": [
    {
     "ename": "SyntaxError",
     "evalue": "invalid syntax (<ipython-input-57-7982888aa415>, line 2)",
     "output_type": "error",
     "traceback": [
      "\u001b[1;36m  File \u001b[1;32m\"<ipython-input-57-7982888aa415>\"\u001b[1;36m, line \u001b[1;32m2\u001b[0m\n\u001b[1;33m    if label not encoder.classes_:\u001b[0m\n\u001b[1;37m                       ^\u001b[0m\n\u001b[1;31mSyntaxError\u001b[0m\u001b[1;31m:\u001b[0m invalid syntax\n"
     ]
    }
   ],
   "source": [
    "for label in np.unique(X_test):\n",
    "    if label not encoder.classes_:\n",
    "        encoder.classes_=np.append(encoder.classes_, label)\n",
    "\n",
    "x_test_encoded = encoder.transform(X_test)\n",
    "print(x_test_encoded)\n",
    "print(encoder.classes_)\n",
    "print('\\n')"
   ]
  },
  {
   "cell_type": "code",
   "execution_count": 58,
   "metadata": {},
   "outputs": [
    {
     "name": "stdout",
     "output_type": "stream",
     "text": [
      "[1 2 3]\n",
      "['DESKTOP' 'MOBILE' 'NOTEBOOK' 'TABLET']\n",
      "\n",
      "\n"
     ]
    }
   ],
   "source": [
    "for label in np.unique(X_test):\n",
    "    if label not in encoder.classes_:\n",
    "        encoder.classes_=np.append(encoder.classes_, label)\n",
    "\n",
    "x_test_encoded = encoder.transform(X_test)\n",
    "print(x_test_encoded)\n",
    "print(encoder.classes_)\n",
    "print('\\n')"
   ]
  },
  {
   "cell_type": "code",
   "execution_count": 60,
   "metadata": {},
   "outputs": [
    {
     "name": "stdout",
     "output_type": "stream",
     "text": [
      "['NOTEBOOK' 'MOBILE' 'DESKTOP' 'TABLET']\n",
      "\n",
      "\n"
     ]
    }
   ],
   "source": [
    "result = encoder.inverse_transform([2,1,0,3])\n",
    "print(result)\n",
    "print('\\n')"
   ]
  },
  {
   "cell_type": "markdown",
   "metadata": {},
   "source": [
    "## 밀도 기반 군집 분석 (DBSCAN)\n",
    "데이터가 모여 있는 밀도가 높은 공간(반경 r안에 샘플 개수 설정함)에 클러스터 레이블을 할당"
   ]
  },
  {
   "cell_type": "markdown",
   "metadata": {},
   "source": [
    "### 클러스터값으로  그룹화하여 출력"
   ]
  },
  {
   "cell_type": "code",
   "execution_count": 5,
   "metadata": {},
   "outputs": [
    {
     "ename": "NameError",
     "evalue": "name 'column_list' is not defined",
     "output_type": "error",
     "traceback": [
      "\u001b[1;31m---------------------------------------------------------------------------\u001b[0m",
      "\u001b[1;31mNameError\u001b[0m                                 Traceback (most recent call last)",
      "\u001b[1;32m<ipython-input-5-a1505c07405c>\u001b[0m in \u001b[0;36m<module>\u001b[1;34m\u001b[0m\n\u001b[1;32m----> 1\u001b[1;33m \u001b[0mgrouped_cols\u001b[0m \u001b[1;33m=\u001b[0m\u001b[1;33m[\u001b[0m\u001b[1;36m0\u001b[0m\u001b[1;33m,\u001b[0m \u001b[1;36m1\u001b[0m\u001b[1;33m,\u001b[0m \u001b[1;36m3\u001b[0m\u001b[1;33m]\u001b[0m \u001b[1;33m+\u001b[0m\u001b[0mcolumn_list\u001b[0m\u001b[1;33m\u001b[0m\u001b[1;33m\u001b[0m\u001b[0m\n\u001b[0m\u001b[0;32m      2\u001b[0m \u001b[0mgrouped\u001b[0m \u001b[1;33m=\u001b[0m \u001b[0mdf\u001b[0m\u001b[1;33m.\u001b[0m\u001b[0mgroupby\u001b[0m\u001b[1;33m(\u001b[0m\u001b[1;34m'Cluster'\u001b[0m\u001b[1;33m)\u001b[0m\u001b[1;33m\u001b[0m\u001b[1;33m\u001b[0m\u001b[0m\n\u001b[0;32m      3\u001b[0m \u001b[1;32mfor\u001b[0m \u001b[0mkey\u001b[0m\u001b[1;33m,\u001b[0m \u001b[0mgroup\u001b[0m \u001b[1;32min\u001b[0m \u001b[0mgrouped\u001b[0m\u001b[1;33m:\u001b[0m\u001b[1;33m\u001b[0m\u001b[1;33m\u001b[0m\u001b[0m\n\u001b[0;32m      4\u001b[0m     \u001b[0mprint\u001b[0m\u001b[1;33m(\u001b[0m\u001b[1;34m'* key : '\u001b[0m \u001b[1;33m,\u001b[0m \u001b[0mkey\u001b[0m\u001b[1;33m)\u001b[0m\u001b[1;33m\u001b[0m\u001b[1;33m\u001b[0m\u001b[0m\n\u001b[0;32m      5\u001b[0m     \u001b[0mprint\u001b[0m\u001b[1;33m(\u001b[0m\u001b[1;34m'* number : '\u001b[0m \u001b[1;33m,\u001b[0m \u001b[0mlen\u001b[0m\u001b[1;33m(\u001b[0m\u001b[0mgroup\u001b[0m\u001b[1;33m)\u001b[0m\u001b[1;33m)\u001b[0m\u001b[1;33m\u001b[0m\u001b[1;33m\u001b[0m\u001b[0m\n",
      "\u001b[1;31mNameError\u001b[0m: name 'column_list' is not defined"
     ]
    }
   ],
   "source": []
  },
  {
   "cell_type": "code",
   "execution_count": null,
   "metadata": {},
   "outputs": [],
   "source": []
  }
 ],
 "metadata": {
  "kernelspec": {
   "display_name": "Python 3",
   "language": "python",
   "name": "python3"
  },
  "language_info": {
   "codemirror_mode": {
    "name": "ipython",
    "version": 3
   },
   "file_extension": ".py",
   "mimetype": "text/x-python",
   "name": "python",
   "nbconvert_exporter": "python",
   "pygments_lexer": "ipython3",
   "version": "3.7.4"
  }
 },
 "nbformat": 4,
 "nbformat_minor": 2
}
