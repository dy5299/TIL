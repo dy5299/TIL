{
 "cells": [
  {
   "cell_type": "code",
   "execution_count": 7,
   "metadata": {},
   "outputs": [
    {
     "name": "stdout",
     "output_type": "stream",
     "text": [
      "영화제목: 시동\n",
      "평점: 9\n",
      "리뷰: 짱임ㅋㅋㅋ또보고싶다 \n",
      "-----------------------------------------\n",
      "영화제목: 시동\n",
      "평점: 6\n",
      "리뷰: 개그는 기대에 못 미치고속터지는 현실은 100퍼 반영....웃으러 갔다가 고구마만 먹고 옴 ㅠㅠㅠ내가 기대한 건 이게 아니었어.... \n",
      "-----------------------------------------\n",
      "영화제목: 백두산\n",
      "평점: 2\n",
      "리뷰: 화려한 배우들 출연으로 기대 했건만 스토리 연결성이나작품성이 기대에 못 미침. ㅠㅠ \n",
      "-----------------------------------------\n",
      "영화제목: 백두산\n",
      "평점: 10\n",
      "리뷰: 전 잼나던데요.유머도있고 감동도 있고.이병헌이 연기하나는 잘하네요 \n",
      "-----------------------------------------\n",
      "영화제목: 시동\n",
      "평점: 10\n",
      "리뷰: 펙터클한 영화도 좋지만 이런 소소한 느낌도 좋다 \n",
      "-----------------------------------------\n",
      "영화제목: 캣츠\n",
      "평점: 2\n",
      "리뷰: 최악입니다 최악 정말 이런 최악이 없습니다 \n",
      "-----------------------------------------\n",
      "영화제목: 시동\n",
      "평점: 10\n",
      "리뷰: 주변에 추천하고 싶은 영화에요~ \n",
      "-----------------------------------------\n",
      "영화제목: 시동\n",
      "평점: 10\n",
      "리뷰: 거석이형의 존재감은 진짜 미쳤어;; \n",
      "-----------------------------------------\n",
      "영화제목: 시동\n",
      "평점: 10\n",
      "리뷰: 시동 믿고 보세요 재밌습니다ㅋㅋ \n",
      "-----------------------------------------\n",
      "영화제목: 천문: 하늘에 묻는다\n",
      "평점: 1\n",
      "리뷰: 진짜 재미없었음.없는 감동을 자꾸 쥐어 짜내려는 느낌? \n",
      "-----------------------------------------\n"
     ]
    }
   ],
   "source": [
    "import requests\n",
    "\n",
    "from bs4 import BeautifulSoup\n",
    "import re\n",
    "req = requests.get('https://movie.naver.com/movie/point/af/list.nhn?page=1')\n",
    "html =req.text\n",
    "soup = BeautifulSoup(html, 'html.parser')\n",
    "titles = soup.select('.movie')\n",
    "points = soup.select('td.title > div > em')\n",
    "reviews = soup.select('td.title')\n",
    " \n",
    "\n",
    "movie_title=[]\n",
    "movie_point=[]\n",
    "movie_review=[]\n",
    "for dom in titles :\n",
    "     movie_title.append(dom.text)\n",
    "\n",
    "for dom in points :\n",
    "     movie_point.append(dom.text)\n",
    "\n",
    "for dom in reviews :\n",
    "    content = dom.contents[6]  \n",
    "    content = re.sub(\"[\\n\\t]\", \"\", content)   \n",
    "    content = re.sub(\"신고\", \"\", content)\n",
    "    movie_review.append(content)\n",
    "\n",
    "for i in range(len(movie_title)) :\n",
    "    print('영화제목:' , movie_title[i])\n",
    "    print('평점:' , movie_point[i])\n",
    "    print('리뷰:' , movie_review[i])\n",
    "    print('-----------------------------------------')"
   ]
  },
  {
   "cell_type": "code",
   "execution_count": null,
   "metadata": {},
   "outputs": [],
   "source": []
  }
 ],
 "metadata": {
  "kernelspec": {
   "display_name": "Python 3",
   "language": "python",
   "name": "python3"
  },
  "language_info": {
   "codemirror_mode": {
    "name": "ipython",
    "version": 3
   },
   "file_extension": ".py",
   "mimetype": "text/x-python",
   "name": "python",
   "nbconvert_exporter": "python",
   "pygments_lexer": "ipython3",
   "version": "3.7.4"
  }
 },
 "nbformat": 4,
 "nbformat_minor": 2
}
